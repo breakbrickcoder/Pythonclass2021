{
 "cells": [
  {
   "cell_type": "code",
   "execution_count": 6,
   "id": "81381fbd",
   "metadata": {},
   "outputs": [
    {
     "name": "stdout",
     "output_type": "stream",
     "text": [
      "        Date Subject Product  unit  unit price  price      Remarks\n",
      "0 2021-08-02   house  marble    10         100   1000  due payment\n"
     ]
    }
   ],
   "source": [
    "import pandas as pd\n",
    "df = pd.read_excel(r'C:\\Users\\BNG\\Desktop\\Expenses.xlsx')\n",
    "print(df)"
   ]
  },
  {
   "cell_type": "code",
   "execution_count": 10,
   "id": "8dbc68e3",
   "metadata": {},
   "outputs": [],
   "source": [
    "import xlsxwriter\n",
    "workbook = xlsxwriter.Workbook('Expenses01.xlsx')\n",
    "worksheet = workbook.add_worksheet()\n",
    "\n",
    "expenses = (\n",
    "    ['Rent' , 10000],\n",
    "    ['Gas' , 1450],\n",
    "    ['Food' , 3000],\n",
    "    ['Gym' , 8000]\n",
    ")\n",
    "Total = sum([10000,1450,3000,8000])\n",
    "\n",
    "row = 0\n",
    "col = 0\n",
    "\n",
    "for item, cost in (expenses):\n",
    "    worksheet.write(row, col, item)\n",
    "    worksheet.write(row, col+1, cost)\n",
    "    row += 1\n",
    "    \n",
    "worksheet.write(row,0,'Total')\n",
    "worksheet.write(row,1,Total)\n",
    "workbook.close()"
   ]
  },
  {
   "cell_type": "code",
   "execution_count": 11,
   "id": "e19e3c1a",
   "metadata": {},
   "outputs": [
    {
     "name": "stdout",
     "output_type": "stream",
     "text": [
      "    Rent  10000\n",
      "0    Gas   1450\n",
      "1   Food   3000\n",
      "2    Gym   8000\n",
      "3  Total  22450\n"
     ]
    }
   ],
   "source": [
    "import pandas as pd\n",
    "df = pd.read_excel(r'Expenses01.xlsx')\n",
    "print(df)"
   ]
  },
  {
   "cell_type": "code",
   "execution_count": null,
   "id": "4c86aff2",
   "metadata": {},
   "outputs": [],
   "source": []
  }
 ],
 "metadata": {
  "kernelspec": {
   "display_name": "Python 3",
   "language": "python",
   "name": "python3"
  },
  "language_info": {
   "codemirror_mode": {
    "name": "ipython",
    "version": 3
   },
   "file_extension": ".py",
   "mimetype": "text/x-python",
   "name": "python",
   "nbconvert_exporter": "python",
   "pygments_lexer": "ipython3",
   "version": "3.8.8"
  }
 },
 "nbformat": 4,
 "nbformat_minor": 5
}
