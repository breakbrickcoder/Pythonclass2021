{
 "cells": [
  {
   "cell_type": "code",
   "execution_count": 2,
   "id": "11887134",
   "metadata": {},
   "outputs": [
    {
     "name": "stdout",
     "output_type": "stream",
     "text": [
      "<class 'tuple'>\n"
     ]
    }
   ],
   "source": [
    "a = (1,2,3,4,5)\n",
    "print(type(a))"
   ]
  },
  {
   "cell_type": "code",
   "execution_count": 3,
   "id": "d5c53d53",
   "metadata": {},
   "outputs": [
    {
     "name": "stdout",
     "output_type": "stream",
     "text": [
      "<class 'tuple'>\n"
     ]
    }
   ],
   "source": [
    "a = (\"Apple\", \"Ball\",\"Cat\")\n",
    "print(type(a))"
   ]
  },
  {
   "cell_type": "code",
   "execution_count": 4,
   "id": "de326a98",
   "metadata": {},
   "outputs": [],
   "source": [
    "# tuple\n",
    "# -Indexing\n",
    "# -Ordered\n",
    "# -Duplicate values\n",
    "# -Imutable"
   ]
  },
  {
   "cell_type": "code",
   "execution_count": 5,
   "id": "ff99e937",
   "metadata": {},
   "outputs": [
    {
     "name": "stdout",
     "output_type": "stream",
     "text": [
      "Apple\n"
     ]
    }
   ],
   "source": [
    "a = (\"Apple\", \"Ball\",\"Cat\")\n",
    "print(a[0])"
   ]
  },
  {
   "cell_type": "code",
   "execution_count": 6,
   "id": "6009515c",
   "metadata": {},
   "outputs": [
    {
     "name": "stdout",
     "output_type": "stream",
     "text": [
      "('Apple', 'Ball', 'Cat')\n"
     ]
    }
   ],
   "source": [
    "a = (\"Apple\", \"Ball\",\"Cat\")\n",
    "print(a[0:3])"
   ]
  },
  {
   "cell_type": "code",
   "execution_count": 7,
   "id": "d8be3c8b",
   "metadata": {},
   "outputs": [
    {
     "name": "stdout",
     "output_type": "stream",
     "text": [
      "('Apple', 'Ball', 'Cat')\n"
     ]
    }
   ],
   "source": [
    "a = (\"Apple\", \"Ball\",\"Cat\")\n",
    "print(a)"
   ]
  },
  {
   "cell_type": "code",
   "execution_count": 8,
   "id": "4047a532",
   "metadata": {},
   "outputs": [
    {
     "name": "stdout",
     "output_type": "stream",
     "text": [
      "('Apple', 'Ball', 'Cat', 'Fish', 'Goat')\n"
     ]
    }
   ],
   "source": [
    "a = (\"Apple\", \"Ball\",\"Cat\")\n",
    "b = (\"Fish\",\"Goat\")\n",
    "c = a+b\n",
    "print(c)"
   ]
  },
  {
   "cell_type": "code",
   "execution_count": 9,
   "id": "9cf9de2e",
   "metadata": {},
   "outputs": [],
   "source": [
    "# append(),extend(),insert(), these functions are not available in tuple"
   ]
  },
  {
   "cell_type": "code",
   "execution_count": 12,
   "id": "a455aaa2",
   "metadata": {},
   "outputs": [
    {
     "data": {
      "text/plain": [
       "tuple"
      ]
     },
     "execution_count": 12,
     "metadata": {},
     "output_type": "execute_result"
    }
   ],
   "source": [
    "a = (1,) #if you put only one value then you should put comma,\n",
    "type(a)"
   ]
  },
  {
   "cell_type": "code",
   "execution_count": 13,
   "id": "70f3346c",
   "metadata": {},
   "outputs": [
    {
     "data": {
      "text/plain": [
       "tuple"
      ]
     },
     "execution_count": 13,
     "metadata": {},
     "output_type": "execute_result"
    }
   ],
   "source": [
    "a = (\"Apple\",) #if you put only one value then you should put comma,\n",
    "type(a)"
   ]
  },
  {
   "cell_type": "code",
   "execution_count": 14,
   "id": "0fac30b6",
   "metadata": {},
   "outputs": [
    {
     "data": {
      "text/plain": [
       "tuple"
      ]
     },
     "execution_count": 14,
     "metadata": {},
     "output_type": "execute_result"
    }
   ],
   "source": [
    "a = () #but if you put empty bracket then it means tuple\n",
    "type(a)"
   ]
  },
  {
   "cell_type": "code",
   "execution_count": 15,
   "id": "7b650e72",
   "metadata": {},
   "outputs": [
    {
     "data": {
      "text/plain": [
       "(1, 2, 3, 4, 4, 5, 65)"
      ]
     },
     "execution_count": 15,
     "metadata": {},
     "output_type": "execute_result"
    }
   ],
   "source": [
    "a = (1,2,3,4,4,5,65) # can't update or edit \n",
    "a"
   ]
  },
  {
   "cell_type": "code",
   "execution_count": 16,
   "id": "8fc5142d",
   "metadata": {},
   "outputs": [
    {
     "data": {
      "text/plain": [
       "1"
      ]
     },
     "execution_count": 16,
     "metadata": {},
     "output_type": "execute_result"
    }
   ],
   "source": [
    "a = (1,2,3,4,4,5,65) \n",
    "a[0]"
   ]
  },
  {
   "cell_type": "code",
   "execution_count": 17,
   "id": "4c639f80",
   "metadata": {},
   "outputs": [
    {
     "ename": "TypeError",
     "evalue": "'tuple' object does not support item assignment",
     "output_type": "error",
     "traceback": [
      "\u001b[1;31m---------------------------------------------------------------------------\u001b[0m",
      "\u001b[1;31mTypeError\u001b[0m                                 Traceback (most recent call last)",
      "\u001b[1;32m<ipython-input-17-529a2fa12058>\u001b[0m in \u001b[0;36m<module>\u001b[1;34m\u001b[0m\n\u001b[0;32m      1\u001b[0m \u001b[0ma\u001b[0m \u001b[1;33m=\u001b[0m \u001b[1;33m(\u001b[0m\u001b[1;36m1\u001b[0m\u001b[1;33m,\u001b[0m\u001b[1;36m2\u001b[0m\u001b[1;33m,\u001b[0m\u001b[1;36m3\u001b[0m\u001b[1;33m,\u001b[0m\u001b[1;36m4\u001b[0m\u001b[1;33m,\u001b[0m\u001b[1;36m4\u001b[0m\u001b[1;33m,\u001b[0m\u001b[1;36m5\u001b[0m\u001b[1;33m,\u001b[0m\u001b[1;36m65\u001b[0m\u001b[1;33m)\u001b[0m\u001b[1;33m\u001b[0m\u001b[1;33m\u001b[0m\u001b[0m\n\u001b[1;32m----> 2\u001b[1;33m \u001b[0ma\u001b[0m\u001b[1;33m[\u001b[0m\u001b[1;36m0\u001b[0m\u001b[1;33m]\u001b[0m \u001b[1;33m=\u001b[0m \u001b[1;36m2\u001b[0m\u001b[1;33m\u001b[0m\u001b[1;33m\u001b[0m\u001b[0m\n\u001b[0m",
      "\u001b[1;31mTypeError\u001b[0m: 'tuple' object does not support item assignment"
     ]
    }
   ],
   "source": [
    "a = (1,2,3,4,4,5,65) \n",
    "a[0] = 2"
   ]
  },
  {
   "cell_type": "code",
   "execution_count": 18,
   "id": "b2407b81",
   "metadata": {},
   "outputs": [
    {
     "name": "stdout",
     "output_type": "stream",
     "text": [
      "Enter n = 2\n",
      "Enter name = ram\n",
      "Enter name = sam\n",
      "('ram', 'sam')\n"
     ]
    }
   ],
   "source": [
    "a = ()\n",
    "n = int(input(\"Enter n = \"))\n",
    "for i in range(n):\n",
    "    name = input(\"Enter name = \")\n",
    "    a = a+(name,)\n",
    "print(a)\n"
   ]
  },
  {
   "cell_type": "code",
   "execution_count": 19,
   "id": "bbbefe2d",
   "metadata": {},
   "outputs": [
    {
     "name": "stdout",
     "output_type": "stream",
     "text": [
      "Lenght = 12\n",
      "Breadth = 12\n",
      "Height = 12\n",
      "(144, 1728)\n"
     ]
    }
   ],
   "source": [
    "def cal():\n",
    "    l = int(input(\"Lenght = \"))\n",
    "    b = int(input(\"Breadth = \"))\n",
    "    h = int(input(\"Height = \"))\n",
    "    a = l*b\n",
    "    v = a*h\n",
    "    return a,v\n",
    "x = cal()\n",
    "print(x)"
   ]
  },
  {
   "cell_type": "code",
   "execution_count": 21,
   "id": "72df8f5c",
   "metadata": {},
   "outputs": [
    {
     "name": "stdout",
     "output_type": "stream",
     "text": [
      "('Ball', 'Cat')\n"
     ]
    }
   ],
   "source": [
    "# to remove we should first convert tupole to list and again back to tuple\n",
    "a = (\"Apple\", \"Ball\",\"Cat\")\n",
    "b = list(a)\n",
    "b.remove(\"Apple\")\n",
    "a = tuple(b)\n",
    "print(a)"
   ]
  },
  {
   "cell_type": "code",
   "execution_count": 23,
   "id": "06170c0d",
   "metadata": {},
   "outputs": [
    {
     "name": "stdout",
     "output_type": "stream",
     "text": [
      "('orange', 'Ball', 'Cat')\n"
     ]
    }
   ],
   "source": [
    "a = (\"Apple\", \"Ball\",\"Cat\")\n",
    "b = list(a)\n",
    "b[0] = \"orange\"\n",
    "a = tuple(b)\n",
    "print(a)"
   ]
  },
  {
   "cell_type": "code",
   "execution_count": 26,
   "id": "5c5ecf92",
   "metadata": {},
   "outputs": [
    {
     "data": {
      "text/plain": [
       "tuple"
      ]
     },
     "execution_count": 26,
     "metadata": {},
     "output_type": "execute_result"
    }
   ],
   "source": [
    "a = ((1,2,3),(4,5,6),(7,8,9))\n",
    "type(a)"
   ]
  },
  {
   "cell_type": "code",
   "execution_count": 31,
   "id": "3e80d9e1",
   "metadata": {},
   "outputs": [
    {
     "name": "stdout",
     "output_type": "stream",
     "text": [
      "Enter n = 2\n",
      "Enter name = ram\n",
      "Enter age = 63\n",
      "Enter add = kathmandu\n",
      "Enter phone = 984747733\n",
      "Enter name = sam\n",
      "Enter age = 32\n",
      "Enter add = kathmandu\n",
      "Enter phone = 9484737473\n",
      "(('ram', 63, 'kathmandu', 984747733), ('sam', 32, 'kathmandu', 9484737473))\n"
     ]
    }
   ],
   "source": [
    "a = ()\n",
    "n = int(input(\"Enter n = \"))\n",
    "for i in range(n):\n",
    "    name = input(\"Enter name = \")\n",
    "    age = int(input(\"Enter age = \"))\n",
    "    add = input(\"Enter add = \")\n",
    "    phone = int(input(\"Enter phone = \"))\n",
    "    info = (name,age,add,phone)\n",
    "    a = a+(info,)\n",
    "print(a)"
   ]
  },
  {
   "cell_type": "code",
   "execution_count": 32,
   "id": "3b870d56",
   "metadata": {},
   "outputs": [
    {
     "name": "stdout",
     "output_type": "stream",
     "text": [
      "Enter n = 2\n",
      "Enter name = ran\n",
      "Enter age = 32\n",
      "Enter add = ktm\n",
      "Enter phone = 93783783\n",
      "Enter name = sam\n",
      "Enter age = 34\n",
      "Enter add = ktm\n",
      "Enter phone = 94847475544\n",
      "(('ran', 32, 'ktm', 93783783), ('sam', 34, 'ktm', 94847475544))\n"
     ]
    }
   ],
   "source": [
    "a = ()\n",
    "n = int(input(\"Enter n = \"))\n",
    "for i in range(n):\n",
    "    name = input(\"Enter name = \")\n",
    "    age = int(input(\"Enter age = \"))\n",
    "    add = input(\"Enter add = \")\n",
    "    phone = int(input(\"Enter phone = \"))\n",
    "    info = ((name,age,add,phone),)\n",
    "    a = a+info\n",
    "print(a)"
   ]
  },
  {
   "cell_type": "code",
   "execution_count": 35,
   "id": "6741be5d",
   "metadata": {},
   "outputs": [
    {
     "name": "stdout",
     "output_type": "stream",
     "text": [
      "name = sam\n",
      "('sam', 34, 'ktm', 94847475544)\n",
      "1\n"
     ]
    }
   ],
   "source": [
    "#Search\n",
    "\n",
    "a = (('ran', 32, 'ktm', 93783783), ('sam', 34, 'ktm', 94847475544))\n",
    "name = input(\"name = \")\n",
    "c = 0\n",
    "for i in a:\n",
    "    if name in i:\n",
    "        print(i)\n",
    "        c = c+1\n",
    "print(c)"
   ]
  },
  {
   "cell_type": "code",
   "execution_count": 36,
   "id": "6914a09c",
   "metadata": {},
   "outputs": [
    {
     "name": "stdout",
     "output_type": "stream",
     "text": [
      "[('ran', 32, 'ktm', 93783783), ('sam', 34, 'ktm', 94847475544)]\n"
     ]
    }
   ],
   "source": [
    "a = (('ran', 32, 'ktm', 93783783), ('sam', 34, 'ktm', 94847475544))\n",
    "b = list(a)  #outer will be list\n",
    "print(b)"
   ]
  },
  {
   "cell_type": "code",
   "execution_count": 38,
   "id": "5de287c0",
   "metadata": {},
   "outputs": [
    {
     "data": {
      "text/plain": [
       "[('ran', 32, 'ktm', 93783783),\n",
       " ('sam', 34, 'ktm', 94847475544),\n",
       " ('ran', 32, 'ktm', 93783783)]"
      ]
     },
     "execution_count": 38,
     "metadata": {},
     "output_type": "execute_result"
    }
   ],
   "source": [
    "a = [('ran', 32, 'ktm', 93783783), ('sam', 34, 'ktm', 94847475544)]\n",
    "a.append(('ran', 32, 'ktm', 93783783))\n",
    "a\n"
   ]
  },
  {
   "cell_type": "code",
   "execution_count": 39,
   "id": "c630675e",
   "metadata": {},
   "outputs": [
    {
     "data": {
      "text/plain": [
       "[('sam', 34, 'ktm', 94847475544)]"
      ]
     },
     "execution_count": 39,
     "metadata": {},
     "output_type": "execute_result"
    }
   ],
   "source": [
    "a = [('ran', 32, 'ktm', 93783783), ('sam', 34, 'ktm', 94847475544)]\n",
    "# can remove whole value but can't remove value at a time\n",
    "del a[0]\n",
    "a"
   ]
  },
  {
   "cell_type": "code",
   "execution_count": 40,
   "id": "bccc5391",
   "metadata": {},
   "outputs": [
    {
     "name": "stdout",
     "output_type": "stream",
     "text": [
      "['ran', 32, 'ktm', 93783783]\n",
      "['sam', 34, 'ktm', 94847475544]\n"
     ]
    }
   ],
   "source": [
    "#to change whole value to list\n",
    "a = [('ran', 32, 'ktm', 93783783), ('sam', 34, 'ktm', 94847475544)]\n",
    "for i in a:\n",
    "    print(list(i))"
   ]
  },
  {
   "cell_type": "code",
   "execution_count": 42,
   "id": "c104e1e1",
   "metadata": {},
   "outputs": [
    {
     "name": "stdout",
     "output_type": "stream",
     "text": [
      "[['ran', 32, 'ktm', 93783783], ['sam', 34, 'ktm', 94847475544]]\n"
     ]
    }
   ],
   "source": [
    "b = []\n",
    "a = [('ran', 32, 'ktm', 93783783), ('sam', 34, 'ktm', 94847475544)]\n",
    "\n",
    "for i in a:\n",
    "    x = list(i)\n",
    "    b.append(x)\n",
    "print(b)"
   ]
  },
  {
   "cell_type": "code",
   "execution_count": 45,
   "id": "0ad9b4e0",
   "metadata": {},
   "outputs": [
    {
     "name": "stdout",
     "output_type": "stream",
     "text": [
      "Enter r = 2\n",
      "Enter c = 2\n",
      "Enter x = 3\n",
      "Enter x = 4\n",
      "Enter x = 5\n",
      "Enter x = 6\n",
      "((3, 4), (5, 6))\n"
     ]
    }
   ],
   "source": [
    "t = ()\n",
    "r = int(input(\"Enter r = \"))\n",
    "c = int(input(\"Enter c = \"))\n",
    "for i in range(r):\n",
    "    z = ()\n",
    "    for j in range(c):\n",
    "        x = int(input(\"Enter x = \"))\n",
    "        z = z+(x,)\n",
    "    t = t+(z,)\n",
    "print(t)"
   ]
  },
  {
   "cell_type": "code",
   "execution_count": 1,
   "id": "844db848",
   "metadata": {},
   "outputs": [
    {
     "data": {
      "text/plain": [
       "list"
      ]
     },
     "execution_count": 1,
     "metadata": {},
     "output_type": "execute_result"
    }
   ],
   "source": [
    "a = [('ran', 32, 'ktm', 93783783), ('sam', 34, 'ktm', 94847475544)]\n",
    "type(a)"
   ]
  },
  {
   "cell_type": "markdown",
   "id": "99e9e644",
   "metadata": {},
   "source": []
  }
 ],
 "metadata": {
  "kernelspec": {
   "display_name": "Python 3",
   "language": "python",
   "name": "python3"
  },
  "language_info": {
   "codemirror_mode": {
    "name": "ipython",
    "version": 3
   },
   "file_extension": ".py",
   "mimetype": "text/x-python",
   "name": "python",
   "nbconvert_exporter": "python",
   "pygments_lexer": "ipython3",
   "version": "3.8.8"
  }
 },
 "nbformat": 4,
 "nbformat_minor": 5
}
