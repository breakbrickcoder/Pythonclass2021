{
 "cells": [
  {
   "cell_type": "code",
   "execution_count": 2,
   "id": "06d7af49",
   "metadata": {},
   "outputs": [
    {
     "name": "stdout",
     "output_type": "stream",
     "text": [
      "Enter n = 2\n",
      "Enter product = apple\n",
      "Enter quantity = 3\n",
      "Enter price = 45\n",
      "Enter product = egg\n",
      "Enter quantity = 67\n",
      "Enter price = 345\n",
      "apple,3,135\n",
      "egg,67,23115\n",
      "\n"
     ]
    }
   ],
   "source": [
    "#list inside list\n",
    "s = str()\n",
    "n = int(input(\"Enter n = \"))\n",
    "for i in range(n):\n",
    "    product = input(\"Enter product = \")\n",
    "    quantity = int(input(\"Enter quantity = \"))\n",
    "    price = int(input(\"Enter price = \"))\n",
    "    total = quantity*price\n",
    "    info = f\"{product}, {quantity}, {total}\\n\"\n",
    "    s = s+info\n",
    "print(s)\n"
   ]
  },
  {
   "cell_type": "code",
   "execution_count": 4,
   "id": "aaee28ac",
   "metadata": {},
   "outputs": [
    {
     "name": "stdout",
     "output_type": "stream",
     "text": [
      "['apple,3,135', 'egg,67,23115', '']\n"
     ]
    }
   ],
   "source": [
    "l = s.split(\"\\n\")\n",
    "print(l)"
   ]
  },
  {
   "cell_type": "code",
   "execution_count": 5,
   "id": "7cf00cbd",
   "metadata": {},
   "outputs": [
    {
     "name": "stdout",
     "output_type": "stream",
     "text": [
      "Enter n = 2\n",
      "Enter name = ram\n",
      "Enter add = mg\n",
      "Enter phone no. = 98347373334\n",
      "Enter name = sam\n",
      "Enter add = ktm\n",
      "Enter phone no. = 974938223487\n",
      "ram mg 98347373334\n",
      "sam ktm 974938223487\n",
      "\n"
     ]
    }
   ],
   "source": [
    "s = str()\n",
    "n = int(input(\"Enter n = \"))\n",
    "for i in range(n):\n",
    "    name = input(\"Enter name = \")\n",
    "    add = input(\"Enter add = \")\n",
    "    phone = int(input(\"Enter phone no. = \"))\n",
    "    info = f\"{name} {add} {phone}\\n\"\n",
    "    s = s+info\n",
    "    \n",
    "\n",
    "print(s)\n"
   ]
  },
  {
   "cell_type": "code",
   "execution_count": 6,
   "id": "e4b17f07",
   "metadata": {},
   "outputs": [
    {
     "data": {
      "text/plain": [
       "['ram mg 98347373334', 'sam ktm 974938223487', '']"
      ]
     },
     "execution_count": 6,
     "metadata": {},
     "output_type": "execute_result"
    }
   ],
   "source": [
    "l = s.split(\"\\n\")\n",
    "l"
   ]
  },
  {
   "cell_type": "code",
   "execution_count": 7,
   "id": "b6f390d7",
   "metadata": {},
   "outputs": [
    {
     "name": "stdout",
     "output_type": "stream",
     "text": [
      "Enter n = 2\n",
      "Enter name = ram\n",
      "Enter add = ktm\n",
      "Enter age = 23\n",
      "Enter phone no. = 9384738374\n",
      "Enter name = sam\n",
      "Enter add = ktm\n",
      "Enter age = 89\n",
      "Enter phone no. = 943875484378\n",
      "[['ram', 'ktm', 23, 9384738374], ['sam', 'ktm', 89, 943875484378]]\n"
     ]
    }
   ],
   "source": [
    "a = []\n",
    "n = int(input(\"Enter n = \"))\n",
    "for i in range(n):\n",
    "    name = input(\"Enter name = \")\n",
    "    add = input(\"Enter add = \")\n",
    "    age = int(input(\"Enter age = \"))\n",
    "    phone = int(input(\"Enter phone no. = \"))\n",
    "    info = [name,add,age,phone]\n",
    "    a.append(info)\n",
    "\n",
    "print(a)"
   ]
  },
  {
   "cell_type": "code",
   "execution_count": 10,
   "id": "9e028c3c",
   "metadata": {},
   "outputs": [
    {
     "name": "stdout",
     "output_type": "stream",
     "text": [
      "['ram', 'ktm', 23, 9384738374]\n",
      "2\n"
     ]
    }
   ],
   "source": [
    "a = [['ram', 'ktm', 23, 9384738374], ['sam', 'ktm', 89, 943875484378]]\n",
    "print(a[0])\n",
    "print(len(a))"
   ]
  },
  {
   "cell_type": "code",
   "execution_count": 12,
   "id": "4affcf5d",
   "metadata": {},
   "outputs": [
    {
     "data": {
      "text/plain": [
       "'ktm'"
      ]
     },
     "execution_count": 12,
     "metadata": {},
     "output_type": "execute_result"
    }
   ],
   "source": [
    "a = [['ram', 'ktm', 23, 9384738374], ['sam', 'ktm', 89, 943875484378]]\n",
    "a[0][1]"
   ]
  },
  {
   "cell_type": "code",
   "execution_count": 13,
   "id": "26d076a4",
   "metadata": {},
   "outputs": [
    {
     "data": {
      "text/plain": [
       "[['hari', 'ktm', 23, 9384738374], ['sam', 'ktm', 89, 943875484378]]"
      ]
     },
     "execution_count": 13,
     "metadata": {},
     "output_type": "execute_result"
    }
   ],
   "source": [
    "a = [['ram', 'ktm', 23, 9384738374], ['sam', 'ktm', 89, 943875484378]]\n",
    "a[0][0] = \"hari\"\n",
    "a"
   ]
  },
  {
   "cell_type": "code",
   "execution_count": 15,
   "id": "34cb59b7",
   "metadata": {},
   "outputs": [
    {
     "name": "stdout",
     "output_type": "stream",
     "text": [
      "Enter name = ram\n",
      "['ram', 'ktm', 23, 9384738374]\n"
     ]
    }
   ],
   "source": [
    "a = [['ram', 'ktm', 23, 9384738374], ['sam', 'ktm', 89, 943875484378]]\n",
    "name = input(\"Enter name = \")\n",
    "for i in a:\n",
    "    if name in i:\n",
    "        print(i)"
   ]
  },
  {
   "cell_type": "code",
   "execution_count": 16,
   "id": "e6754745",
   "metadata": {},
   "outputs": [
    {
     "name": "stdout",
     "output_type": "stream",
     "text": [
      "Enter name = ktm\n",
      "['ram', 'ktm', 23, 9384738374]\n",
      "['sam', 'ktm', 89, 943875484378]\n",
      "2\n"
     ]
    }
   ],
   "source": [
    "a = [['ram', 'ktm', 23, 9384738374], ['sam', 'ktm', 89, 943875484378]]\n",
    "name = input(\"Enter name = \")\n",
    "c = 0\n",
    "for i in a:\n",
    "    if name in i:\n",
    "        print(i)\n",
    "        c = c+1\n",
    "print(c)\n",
    "        "
   ]
  },
  {
   "cell_type": "code",
   "execution_count": 17,
   "id": "3f93e391",
   "metadata": {},
   "outputs": [
    {
     "name": "stdout",
     "output_type": "stream",
     "text": [
      "[['ram', 'ktm', 23, 9384738374]]\n",
      "['sam', 'ktm', 89, 943875484378]\n"
     ]
    }
   ],
   "source": [
    "a = [['ram', 'ktm', 23, 9384738374], ['sam', 'ktm', 89, 943875484378]]\n",
    "b = a.pop(1)\n",
    "print(a)\n",
    "print(b)"
   ]
  },
  {
   "cell_type": "code",
   "execution_count": 34,
   "id": "b2143833",
   "metadata": {},
   "outputs": [
    {
     "name": "stdout",
     "output_type": "stream",
     "text": [
      "[['ram', 'ktm', 23, 9384738374]]\n"
     ]
    }
   ],
   "source": [
    "b = []\n",
    "a = [['ram', 'ktm', 23, 9384738374], ['sam', 'ktm', 89, 943875484378], ['sam', 'ktm', 89, 943875484378]]\n",
    "\n",
    "for i in a:\n",
    "    if \"sam\" in i:\n",
    "        pass\n",
    "    else:\n",
    "        b.append(i)\n",
    "print(b)"
   ]
  },
  {
   "cell_type": "code",
   "execution_count": 2,
   "id": "5c9e215b",
   "metadata": {},
   "outputs": [
    {
     "name": "stdout",
     "output_type": "stream",
     "text": [
      "1\n",
      "2\n"
     ]
    }
   ],
   "source": [
    "a = [['ram', 'ktm', 23, 9384738374], ['sam', 'ktm', 89, 943875484378], ['sam', 'ktm', 89, 943875484378]]\n",
    "l = len(a)\n",
    "for i in range(l):\n",
    "    if \"sam\" in a[i]:\n",
    "        print(i)"
   ]
  },
  {
   "cell_type": "code",
   "execution_count": null,
   "id": "d51b4275",
   "metadata": {},
   "outputs": [],
   "source": []
  }
 ],
 "metadata": {
  "kernelspec": {
   "display_name": "Python 3",
   "language": "python",
   "name": "python3"
  },
  "language_info": {
   "codemirror_mode": {
    "name": "ipython",
    "version": 3
   },
   "file_extension": ".py",
   "mimetype": "text/x-python",
   "name": "python",
   "nbconvert_exporter": "python",
   "pygments_lexer": "ipython3",
   "version": "3.8.8"
  }
 },
 "nbformat": 4,
 "nbformat_minor": 5
}
