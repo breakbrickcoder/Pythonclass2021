{
 "cells": [
  {
   "cell_type": "code",
   "execution_count": 1,
   "id": "aebfc0da",
   "metadata": {},
   "outputs": [],
   "source": [
    "# Python lambda(Anonymous Functions)\n",
    "# In Python, anonymous function means that a function is without a name.\n",
    "# This function can have any number of arguements but only one expression, \n",
    "# which is evaluated and returned.\n",
    "# lambda function is syntactically restricted to a single expression. \n",
    "\n",
    "# Syntax:\n",
    "# lambda<arguements>:<expression>\n",
    "# Expressions are representations of value. \n",
    "# They are different from statement in the fact that statements do something \n",
    "# while expressions are representation of value.\n",
    "# For example any string is also an expressions since it represents the value of the string as well."
   ]
  },
  {
   "cell_type": "code",
   "execution_count": 2,
   "id": "c2523992",
   "metadata": {},
   "outputs": [
    {
     "name": "stdout",
     "output_type": "stream",
     "text": [
      "square =  16\n"
     ]
    }
   ],
   "source": [
    "x = lambda a:a**2\n",
    "print(\"square = \", x(4))"
   ]
  },
  {
   "cell_type": "code",
   "execution_count": 4,
   "id": "bbfc9ca4",
   "metadata": {},
   "outputs": [
    {
     "name": "stdout",
     "output_type": "stream",
     "text": [
      "The total multi =  20\n"
     ]
    }
   ],
   "source": [
    "x = lambda a,b:a*b\n",
    "print(\"The total multi = \",x(4,5))"
   ]
  },
  {
   "cell_type": "code",
   "execution_count": 5,
   "id": "b2075ebb",
   "metadata": {},
   "outputs": [
    {
     "name": "stdout",
     "output_type": "stream",
     "text": [
      "125\n"
     ]
    }
   ],
   "source": [
    "# Difference....\n",
    "\n",
    "def volume(l):\n",
    "    return l**3\n",
    "print(volume(5))"
   ]
  },
  {
   "cell_type": "code",
   "execution_count": 7,
   "id": "93d90c6a",
   "metadata": {},
   "outputs": [
    {
     "name": "stdout",
     "output_type": "stream",
     "text": [
      "221\n"
     ]
    }
   ],
   "source": [
    "g = lambda x,y:x+y**3\n",
    "print(g(5,6))"
   ]
  },
  {
   "cell_type": "code",
   "execution_count": 8,
   "id": "7cee26d5",
   "metadata": {},
   "outputs": [],
   "source": [
    "# Filtering:\n",
    "# Function filter(function,list)offers an elegant way to filter out all\n",
    "# the elements of a list, for which the fucntion(function)returns True.\n",
    "# The function filter(f,l) function f as its first arguement. f returns a Boolean value\n",
    "# i.e, either True or False\n",
    "# This function will be applied to every element of the list/.\n",
    "\n",
    "# filter(<boolean_condition>,list)"
   ]
  },
  {
   "cell_type": "code",
   "execution_count": 10,
   "id": "fe9fbaa8",
   "metadata": {},
   "outputs": [
    {
     "name": "stdout",
     "output_type": "stream",
     "text": [
      "[3, 12, 123]\n",
      "[2, 4, 10, 12, 22]\n",
      "[1, 3, 123]\n"
     ]
    }
   ],
   "source": [
    "# Filtering example:\n",
    "# programming to filter out the list which is divisible by 3:\n",
    "\n",
    "lists= [1,2,3,4,10,12,123,22]\n",
    "div = list(filter(lambda x:(x%3==0),lists))\n",
    "even = list(filter(lambda x:(x%2==0),lists))\n",
    "odd = list(filter(lambda x:(x%2!=0),lists))\n",
    "\n",
    "print(div)\n",
    "print(even)\n",
    "print(odd)"
   ]
  },
  {
   "cell_type": "code",
   "execution_count": 1,
   "id": "b3efbda9",
   "metadata": {},
   "outputs": [],
   "source": [
    "# Map function:\n",
    "# The map() functon in python takes in a function and a list as an arguement.\n",
    "# The fuction map(s,l) needs a function f as its first arguement. s returns sequence value. \n",
    "# Syntax:\n",
    "# map(<lambda_function>,list)"
   ]
  },
  {
   "cell_type": "code",
   "execution_count": 2,
   "id": "9e15cb00",
   "metadata": {},
   "outputs": [
    {
     "name": "stdout",
     "output_type": "stream",
     "text": [
      "[1, 8, 27, 64, 125, 216, 343, 512, 729, 1000]\n"
     ]
    }
   ],
   "source": [
    "# Map function\n",
    "List = (1,2,3,4,5,6,7,8,9,10)\n",
    "new_list = list(map(lambda x:x**3,List))\n",
    "print(new_list)"
   ]
  },
  {
   "cell_type": "code",
   "execution_count": 3,
   "id": "d7c63f0d",
   "metadata": {},
   "outputs": [
    {
     "name": "stdout",
     "output_type": "stream",
     "text": [
      "[5, 10, 15, 20, 25, 30, 35, 40, 45, 50]\n"
     ]
    }
   ],
   "source": [
    "List = (1,2,3,4,5,6,7,8,9,10)\n",
    "mult = list(map(lambda x:x*5,List))\n",
    "print(mult)"
   ]
  },
  {
   "cell_type": "code",
   "execution_count": 1,
   "id": "429582c3",
   "metadata": {},
   "outputs": [
    {
     "name": "stdout",
     "output_type": "stream",
     "text": [
      "(1, 2, 3, 4, 5, 6, 7, 8, 9, 10, 1, 2, 3, 4, 5, 6, 7, 8, 9, 10, 1, 2, 3, 4, 5, 6, 7, 8, 9, 10, 1, 2, 3, 4, 5, 6, 7, 8, 9, 10, 1, 2, 3, 4, 5, 6, 7, 8, 9, 10)\n"
     ]
    }
   ],
   "source": [
    "List = (1,2,3,4,5,6,7,8,9,10)\n",
    "print(List*5)"
   ]
  },
  {
   "cell_type": "code",
   "execution_count": 3,
   "id": "d44357ba",
   "metadata": {},
   "outputs": [
    {
     "name": "stdout",
     "output_type": "stream",
     "text": [
      "Enter n 5\n",
      "0 0\n",
      "1 5\n",
      "2 10\n",
      "3 15\n",
      "4 20\n"
     ]
    }
   ],
   "source": [
    "List = []\n",
    "n = int(input(\"Enter n \"))\n",
    "for i in range(n):\n",
    "    print(i,i*5)"
   ]
  },
  {
   "cell_type": "code",
   "execution_count": 4,
   "id": "7c8b71a5",
   "metadata": {},
   "outputs": [],
   "source": [
    "# Reduce function()\n",
    "# the reduce function in Python takes in a function and a list as arguement\n",
    "# The function is called with a lambda function and a list and a new \n",
    "# reduced result is returned\n",
    "# This performs a repitive operation over the pairs of a list.\n",
    "\n",
    "# reduce(<operation Function>,list)"
   ]
  },
  {
   "cell_type": "code",
   "execution_count": 1,
   "id": "2f5af51b",
   "metadata": {},
   "outputs": [
    {
     "name": "stdout",
     "output_type": "stream",
     "text": [
      "51\n"
     ]
    }
   ],
   "source": [
    "from functools import reduce\n",
    "list = [5,5,6,9,3,4,8,8,3]\n",
    "sum = reduce((lambda x,y:x+y),list)\n",
    "print(sum)"
   ]
  },
  {
   "cell_type": "code",
   "execution_count": 1,
   "id": "3bf7d934",
   "metadata": {},
   "outputs": [
    {
     "name": "stdout",
     "output_type": "stream",
     "text": [
      "98\n"
     ]
    }
   ],
   "source": [
    "from functools import reduce\n",
    "list = [12,43,32,67,98,23,34]\n",
    "fun = reduce((lambda x,y:x if (x>y)else y),list)\n",
    "print (fun)\n"
   ]
  },
  {
   "cell_type": "code",
   "execution_count": 2,
   "id": "350cc760",
   "metadata": {},
   "outputs": [
    {
     "name": "stdout",
     "output_type": "stream",
     "text": [
      "18\n",
      "19\n",
      "20\n",
      "32\n"
     ]
    }
   ],
   "source": [
    "ages = (5,12,17,18,19,20,32)\n",
    "def fun(x):\n",
    "    if x < 18:\n",
    "        return False\n",
    "    else:\n",
    "        return True\n",
    "adults = filter(fun, ages)\n",
    "\n",
    "for x in adults:\n",
    "    print(x)"
   ]
  },
  {
   "cell_type": "code",
   "execution_count": 5,
   "id": "ab9ab58f",
   "metadata": {},
   "outputs": [
    {
     "name": "stdout",
     "output_type": "stream",
     "text": [
      "[1, 2, 3, 16, 12, 13, 15, 18]\n"
     ]
    }
   ],
   "source": [
    "# print out numbers that are less than 18\n",
    "\n",
    "a = [1,2,3,45,16,12,13,15,18]\n",
    "ages = list(filter(lambda x:(x<=18),a))\n",
    "print(ages)\n",
    "    "
   ]
  },
  {
   "cell_type": "code",
   "execution_count": 7,
   "id": "33c56af5",
   "metadata": {},
   "outputs": [
    {
     "name": "stdout",
     "output_type": "stream",
     "text": [
      "(1, 2, 3, 16, 12, 13, 15, 18)\n"
     ]
    }
   ],
   "source": [
    "# print out numbers that are less than 18 with loop function\n",
    "\n",
    "b = []\n",
    "a = 1,2,3,45,16,12,13,15,18\n",
    "\n",
    "for i in a:\n",
    "    if i<=18:\n",
    "        b.append(i)\n",
    "def c(b):\n",
    "    return tuple(b)\n",
    "print(c(b))\n",
    "\n"
   ]
  },
  {
   "cell_type": "code",
   "execution_count": 12,
   "id": "d2867924",
   "metadata": {},
   "outputs": [
    {
     "name": "stdout",
     "output_type": "stream",
     "text": [
      "[65, 45, 65, 76]\n"
     ]
    }
   ],
   "source": [
    "new_list = []\n",
    "l = 1,2,3,4,5,65,6,45,65,76\n",
    "for i in l:\n",
    "    if i > 9:\n",
    "        new_list.append(i)\n",
    "print(new_list)\n"
   ]
  },
  {
   "cell_type": "code",
   "execution_count": 4,
   "id": "40cff2bd",
   "metadata": {},
   "outputs": [
    {
     "name": "stdout",
     "output_type": "stream",
     "text": [
      "(65, 45, 65, 76)\n"
     ]
    }
   ],
   "source": [
    "list = [65, 45, 65, 76]\n",
    "def convert(list):\n",
    "    return tuple(list)\n",
    "\n",
    "print(convert(list))"
   ]
  },
  {
   "cell_type": "code",
   "execution_count": null,
   "id": "a69144b1",
   "metadata": {},
   "outputs": [],
   "source": []
  }
 ],
 "metadata": {
  "kernelspec": {
   "display_name": "Python 3",
   "language": "python",
   "name": "python3"
  },
  "language_info": {
   "codemirror_mode": {
    "name": "ipython",
    "version": 3
   },
   "file_extension": ".py",
   "mimetype": "text/x-python",
   "name": "python",
   "nbconvert_exporter": "python",
   "pygments_lexer": "ipython3",
   "version": "3.8.8"
  }
 },
 "nbformat": 4,
 "nbformat_minor": 5
}
