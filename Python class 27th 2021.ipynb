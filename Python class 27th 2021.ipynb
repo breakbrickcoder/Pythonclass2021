{
 "cells": [
  {
   "cell_type": "code",
   "execution_count": 1,
   "id": "c9e8dfec",
   "metadata": {
    "scrolled": true
   },
   "outputs": [
    {
     "name": "stdout",
     "output_type": "stream",
     "text": [
      "10\n",
      "10.5\n",
      "Hello world\n",
      "True\n",
      "(2+3j)\n"
     ]
    }
   ],
   "source": [
    "a = 10\n",
    "b = 10.5\n",
    "c = \"Hello world\"\n",
    "d = True\n",
    "f = 2+3j\n",
    "\n",
    "print(a)\n",
    "print(b)\n",
    "print(c)\n",
    "print(d)\n",
    "print(f)"
   ]
  },
  {
   "cell_type": "code",
   "execution_count": 2,
   "id": "2cda00d0",
   "metadata": {},
   "outputs": [
    {
     "name": "stdout",
     "output_type": "stream",
     "text": [
      "<class 'int'>\n",
      "<class 'float'>\n",
      "<class 'str'>\n",
      "<class 'bool'>\n",
      "<class 'complex'>\n"
     ]
    }
   ],
   "source": [
    "print(type(a))\n",
    "print(type(b))\n",
    "print(type(c))\n",
    "print(type(d))\n",
    "print(type(f))"
   ]
  },
  {
   "cell_type": "code",
   "execution_count": 3,
   "id": "26ea7e53",
   "metadata": {},
   "outputs": [
    {
     "name": "stdout",
     "output_type": "stream",
     "text": [
      "100000\n"
     ]
    }
   ],
   "source": [
    "#+ - * / // ** % operators\n",
    "a = 10\n",
    "b = 5\n",
    "c = a**b\n",
    "print(c)"
   ]
  },
  {
   "cell_type": "code",
   "execution_count": 4,
   "id": "8ea1f909",
   "metadata": {},
   "outputs": [
    {
     "name": "stdout",
     "output_type": "stream",
     "text": [
      "1\n"
     ]
    }
   ],
   "source": [
    "#+ - * / // ** % operators\n",
    "a = 10\n",
    "b = 3\n",
    "c = a%b\n",
    "print(c)"
   ]
  },
  {
   "cell_type": "code",
   "execution_count": 5,
   "id": "da5a88ee",
   "metadata": {},
   "outputs": [
    {
     "name": "stdout",
     "output_type": "stream",
     "text": [
      "Enter a = 2\n",
      "<class 'str'>\n"
     ]
    }
   ],
   "source": [
    "a = input(\"Enter a = \")\n",
    "print(type(a))"
   ]
  },
  {
   "cell_type": "code",
   "execution_count": 6,
   "id": "39a583ff",
   "metadata": {},
   "outputs": [
    {
     "name": "stdout",
     "output_type": "stream",
     "text": [
      "1020\n"
     ]
    }
   ],
   "source": [
    "a = \"10\"\n",
    "b = \"20\"\n",
    "print(a+b)"
   ]
  },
  {
   "cell_type": "code",
   "execution_count": 7,
   "id": "e1be1a12",
   "metadata": {},
   "outputs": [
    {
     "name": "stdout",
     "output_type": "stream",
     "text": [
      "30\n"
     ]
    }
   ],
   "source": [
    "a = \"10\"\n",
    "b = \"20\"\n",
    "print(int(a)+int(b))"
   ]
  },
  {
   "cell_type": "code",
   "execution_count": 8,
   "id": "c37f7ba0",
   "metadata": {
    "scrolled": true
   },
   "outputs": [
    {
     "name": "stdout",
     "output_type": "stream",
     "text": [
      "30\n"
     ]
    }
   ],
   "source": [
    "a = 10\n",
    "b = 20\n",
    "print(int(a)+int(b))"
   ]
  },
  {
   "cell_type": "code",
   "execution_count": 9,
   "id": "49beea0e",
   "metadata": {},
   "outputs": [
    {
     "name": "stdout",
     "output_type": "stream",
     "text": [
      "Enter a = 10\n",
      "Enter b = 20\n",
      "30\n"
     ]
    }
   ],
   "source": [
    "a = int(input(\"Enter a = \"))\n",
    "b = int(input(\"Enter b = \"))\n",
    "c = a+b\n",
    "print(c)"
   ]
  },
  {
   "cell_type": "code",
   "execution_count": 10,
   "id": "cc99306d",
   "metadata": {},
   "outputs": [
    {
     "name": "stdout",
     "output_type": "stream",
     "text": [
      "Enter a = 10\n",
      "Enter b = 5\n",
      "2\n"
     ]
    }
   ],
   "source": [
    "a = int(input(\"Enter a = \"))\n",
    "b = int(input(\"Enter b = \"))\n",
    "c = a//b\n",
    "print(c)"
   ]
  },
  {
   "cell_type": "code",
   "execution_count": 1,
   "id": "289cc6d2",
   "metadata": {},
   "outputs": [
    {
     "name": "stdout",
     "output_type": "stream",
     "text": [
      "Enter p = 1000\n",
      "Enter t = 3\n",
      "Enter r = 4\n",
      "The value of i is =  120.0\n"
     ]
    }
   ],
   "source": [
    "p = int(input(\"Enter p = \"))\n",
    "t = float(input(\"Enter t = \"))\n",
    "r = float(input(\"Enter r = \"))\n",
    "i = p*t*r/100\n",
    "print(\"The value of i is = \",i)"
   ]
  },
  {
   "cell_type": "code",
   "execution_count": 1,
   "id": "08f744fc",
   "metadata": {},
   "outputs": [
    {
     "name": "stdout",
     "output_type": "stream",
     "text": [
      "Enter principle = 10000\n",
      "Enter time = 12\n",
      "Enter rate = 8\n",
      "The value of interest is =  9600.0\n"
     ]
    }
   ],
   "source": [
    "p = int(input(\"Enter principle = \"))\n",
    "t = float(input(\"Enter time = \"))\n",
    "r = float(input(\"Enter rate = \"))\n",
    "i = p*t*r/100\n",
    "print(\"The value of interest is = \",i)"
   ]
  },
  {
   "cell_type": "code",
   "execution_count": 2,
   "id": "6ed91d49",
   "metadata": {},
   "outputs": [
    {
     "name": "stdout",
     "output_type": "stream",
     "text": [
      "Enter principle = 100000\n",
      "Enter time = 12\n",
      "Enter interest = 8\n",
      "The rate is =  0.0009600000000000001\n"
     ]
    }
   ],
   "source": [
    "# finding out rate\n",
    "p = int(input(\"Enter principle = \"))\n",
    "t = float(input(\"Enter time = \"))\n",
    "i = int(input(\"Enter interest = \"))\n",
    "r = i/p*t\n",
    "print(\"The rate is = \", r)"
   ]
  },
  {
   "cell_type": "code",
   "execution_count": 12,
   "id": "ba7f67dd",
   "metadata": {
    "scrolled": true
   },
   "outputs": [
    {
     "name": "stdout",
     "output_type": "stream",
     "text": [
      "Enter your height (ft) = 6.5\n",
      "Enter your weight (kg) = 80\n",
      "Result: 20.381368836373436 (18.5 to 24.5 is normal)\n"
     ]
    }
   ],
   "source": [
    "# calculate body mass index BMI\n",
    "height = float(input(\"Enter your height (ft) = \"))\n",
    "weight = float(input(\"Enter your weight (kg) = \"))\n",
    "BMI = weight/(height*30.48)/(height*30.48)*10000\n",
    "\n",
    "if BMI<18.5:\n",
    "    print(\"Result:\",BMI, \"(less than 18.5 is underweight)\")\n",
    "elif BMI == 18.5 or BMI<24.5:\n",
    "    print(\"Result:\", BMI, \"(18.5 to 24.5 is normal)\")\n",
    "else:\n",
    "    print(\"Result:\",BMI, \"(Overweight)\")"
   ]
  },
  {
   "cell_type": "code",
   "execution_count": 3,
   "id": "273c1480",
   "metadata": {},
   "outputs": [
    {
     "name": "stdout",
     "output_type": "stream",
     "text": [
      "Enter your height (ft) = 6.7\n",
      "Enter your weight (kg) = 80\n",
      "19.18\n"
     ]
    }
   ],
   "source": [
    "height = float(input(\"Enter your height (ft) = \"))\n",
    "weight = float(input(\"Enter your weight (kg) = \"))\n",
    "BMI = weight/(height*30.48)/(height*30.48)*10000\n",
    "BMI1=\"{:.2f}\".format(BMI)\n",
    "print(BMI1)"
   ]
  },
  {
   "cell_type": "code",
   "execution_count": null,
   "id": "740d5456",
   "metadata": {},
   "outputs": [],
   "source": []
  }
 ],
 "metadata": {
  "kernelspec": {
   "display_name": "Python 3",
   "language": "python",
   "name": "python3"
  },
  "language_info": {
   "codemirror_mode": {
    "name": "ipython",
    "version": 3
   },
   "file_extension": ".py",
   "mimetype": "text/x-python",
   "name": "python",
   "nbconvert_exporter": "python",
   "pygments_lexer": "ipython3",
   "version": "3.8.8"
  }
 },
 "nbformat": 4,
 "nbformat_minor": 5
}
