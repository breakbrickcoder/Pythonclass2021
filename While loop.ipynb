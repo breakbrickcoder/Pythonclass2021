{
 "cells": [
  {
   "cell_type": "code",
   "execution_count": 1,
   "id": "0a773fef",
   "metadata": {},
   "outputs": [],
   "source": [
    "# while (conditional expression):\n",
    "#     execute statements"
   ]
  },
  {
   "cell_type": "code",
   "execution_count": 6,
   "id": "68112384",
   "metadata": {},
   "outputs": [],
   "source": [
    "while False:\n",
    "    print(\"welcome\") #if its false expression it won't execute statement"
   ]
  },
  {
   "cell_type": "code",
   "execution_count": 1,
   "id": "c21e91bd",
   "metadata": {},
   "outputs": [
    {
     "name": "stdout",
     "output_type": "stream",
     "text": [
      "current value count 5\n",
      "current value count 4\n",
      "current value count 3\n",
      "current value count 2\n",
      "current value count 1\n"
     ]
    }
   ],
   "source": [
    "count = 5\n",
    "while count>0:\n",
    "    print(\"current value count\", count)\n",
    "    count -= 1"
   ]
  },
  {
   "cell_type": "code",
   "execution_count": 1,
   "id": "3001a4db",
   "metadata": {},
   "outputs": [
    {
     "name": "stdout",
     "output_type": "stream",
     "text": [
      "count is 0.max_iterations is 4\n",
      "Increment count by 1.\n",
      "count is 1.max_iterations is 4\n",
      "Increment count by 1.\n",
      "count is 2.max_iterations is 4\n",
      "Increment count by 1.\n",
      "count is 3.max_iterations is 4\n",
      "Increment count by 1.\n"
     ]
    }
   ],
   "source": [
    "import random\n",
    "max_iterations = random.randint(0,5)\n",
    "count = 0\n",
    "while count < max_iterations:\n",
    "    print(f\"count is {count}.max_iterations is {max_iterations}\")\n",
    "    print(f\"Increment count by 1.\")\n",
    "    count+=1"
   ]
  },
  {
   "cell_type": "code",
   "execution_count": 3,
   "id": "d26afdac",
   "metadata": {},
   "outputs": [
    {
     "name": "stdout",
     "output_type": "stream",
     "text": [
      "count:0, a:5, b:10\n",
      "count:1, a:5, b:10\n",
      "count:2, a:5, b:10\n",
      "count:3, a:5, b:10\n",
      "count:4, a:5, b:10\n"
     ]
    }
   ],
   "source": [
    "a = 5\n",
    "b = 10\n",
    "count = 0\n",
    "while count < a and count < b:\n",
    "    print(f\"count:{count}, a:{a}, b:{b}\")\n",
    "    count += 1"
   ]
  },
  {
   "cell_type": "code",
   "execution_count": 4,
   "id": "fbeb7f3b",
   "metadata": {},
   "outputs": [
    {
     "name": "stdout",
     "output_type": "stream",
     "text": [
      "count:0, a:5, b:10\n",
      "count:1, a:5, b:10\n",
      "count:2, a:5, b:10\n",
      "count:3, a:5, b:10\n",
      "count:4, a:5, b:10\n",
      "count:5, a:5, b:10\n",
      "count:6, a:5, b:10\n",
      "count:7, a:5, b:10\n",
      "count:8, a:5, b:10\n",
      "count:9, a:5, b:10\n"
     ]
    }
   ],
   "source": [
    "a = 5\n",
    "b = 10\n",
    "count = 0\n",
    "while count < a or count < b:\n",
    "    print(f\"count:{count}, a:{a}, b:{b}\")\n",
    "    count += 1"
   ]
  },
  {
   "cell_type": "code",
   "execution_count": 5,
   "id": "b676f2a0",
   "metadata": {},
   "outputs": [
    {
     "name": "stdout",
     "output_type": "stream",
     "text": [
      "count:0, a:5, b:10\n",
      "count:1, a:5, b:10\n",
      "count:2, a:5, b:10\n",
      "count:3, a:5, b:10\n",
      "count:4, a:5, b:10\n",
      "count:5, a:5, b:10\n",
      "count:6, a:5, b:10\n",
      "count:7, a:5, b:10\n"
     ]
    }
   ],
   "source": [
    "import random\n",
    "a = 5\n",
    "b = 10\n",
    "max_iterations = random.randint(0,10)\n",
    "\n",
    "count = 0\n",
    "while count < a or count < b and not count >= max_iterations:\n",
    "    print(f\"count:{count}, a:{a}, b:{b}\")\n",
    "    count += 1"
   ]
  },
  {
   "cell_type": "code",
   "execution_count": 2,
   "id": "aa10af22",
   "metadata": {},
   "outputs": [
    {
     "name": "stdout",
     "output_type": "stream",
     "text": [
      "Enter n = 10\n",
      "0\n",
      "1\n",
      "1\n",
      "2\n",
      "3\n",
      "5\n",
      "8\n",
      "13\n",
      "21\n",
      "34\n"
     ]
    }
   ],
   "source": [
    "# fibonacci series\n",
    "n = int(input(\"Enter n = \"))\n",
    "a = 0\n",
    "b = 1\n",
    "\n",
    "count = 0\n",
    "\n",
    "while count < n:\n",
    "    print(a)\n",
    "    c = a + b\n",
    "    a = b\n",
    "    b = c\n",
    "    count += 1\n",
    "        "
   ]
  },
  {
   "cell_type": "code",
   "execution_count": null,
   "id": "f6502213",
   "metadata": {},
   "outputs": [],
   "source": []
  }
 ],
 "metadata": {
  "kernelspec": {
   "display_name": "Python 3",
   "language": "python",
   "name": "python3"
  },
  "language_info": {
   "codemirror_mode": {
    "name": "ipython",
    "version": 3
   },
   "file_extension": ".py",
   "mimetype": "text/x-python",
   "name": "python",
   "nbconvert_exporter": "python",
   "pygments_lexer": "ipython3",
   "version": "3.8.8"
  }
 },
 "nbformat": 4,
 "nbformat_minor": 5
}
