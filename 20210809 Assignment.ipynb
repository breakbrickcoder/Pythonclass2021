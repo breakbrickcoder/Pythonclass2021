{
 "cells": [
  {
   "cell_type": "code",
   "execution_count": null,
   "id": "354f7d39",
   "metadata": {},
   "outputs": [],
   "source": [
    "#Matrix\n",
    "#WAP to build matrix using list\n",
    "#WAP to find max value min value and sum the value in list"
   ]
  },
  {
   "cell_type": "code",
   "execution_count": 8,
   "id": "62632404",
   "metadata": {},
   "outputs": [
    {
     "name": "stdout",
     "output_type": "stream",
     "text": [
      "Enter n = 2\n",
      "Enter row1 = 23\n",
      "Enter row2 = 34\n",
      "Enter row1 = 56\n",
      "Enter row2 = 67\n",
      "[23, 56]\n",
      "[34, 67]\n"
     ]
    }
   ],
   "source": [
    "a = []\n",
    "b = []\n",
    "n = int(input(\"Enter n = \"))\n",
    "for i in range(1,n+1):\n",
    "    row1 = int(input(\"Enter row1 = \"))\n",
    "    row2 = int(input(\"Enter row2 = \"))\n",
    "    a.append(row1)\n",
    "    b.append(row2)\n",
    "\n",
    "print(a)\n",
    "print(b)"
   ]
  },
  {
   "cell_type": "code",
   "execution_count": 4,
   "id": "5228f3b3",
   "metadata": {},
   "outputs": [
    {
     "name": "stdout",
     "output_type": "stream",
     "text": [
      "Enter n = 2\n",
      "Enter numbers you want to add = 4\n",
      "Enter numbers you want to add = 5\n",
      "[4, 5]\n",
      "sum no. in given list is 9\n"
     ]
    }
   ],
   "source": [
    "a = []\n",
    "n = int(input(\"Enter n = \"))\n",
    "for i in range(n):\n",
    "    b = int(input(\"Enter numbers you want to add = \"))\n",
    "    a.append(b)\n",
    "\n",
    "print(\"sum no. in given list is\",sum(a))\n"
   ]
  },
  {
   "cell_type": "code",
   "execution_count": 13,
   "id": "707c916a",
   "metadata": {},
   "outputs": [
    {
     "name": "stdout",
     "output_type": "stream",
     "text": [
      "Enter n = 3\n",
      "Enter numbers = 10\n",
      "Enter numbers = 20\n",
      "Enter numbers = 30\n",
      "Max no. 30 Min no. 10 Sum no. 60\n"
     ]
    }
   ],
   "source": [
    "a = []\n",
    "n = int(input(\"Enter n = \"))\n",
    "for i in range(n):\n",
    "    num = int(input(\"Enter numbers = \"))\n",
    "    a.append(num)\n",
    "\n",
    "print(\"Max no.\",max(a),\"Min no.\",min(a),\"Sum no.\",sum(a))\n",
    "    "
   ]
  },
  {
   "cell_type": "markdown",
   "id": "963a5be3",
   "metadata": {},
   "source": []
  }
 ],
 "metadata": {
  "kernelspec": {
   "display_name": "Python 3",
   "language": "python",
   "name": "python3"
  },
  "language_info": {
   "codemirror_mode": {
    "name": "ipython",
    "version": 3
   },
   "file_extension": ".py",
   "mimetype": "text/x-python",
   "name": "python",
   "nbconvert_exporter": "python",
   "pygments_lexer": "ipython3",
   "version": "3.8.8"
  }
 },
 "nbformat": 4,
 "nbformat_minor": 5
}
