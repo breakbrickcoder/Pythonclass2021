{
 "cells": [
  {
   "cell_type": "code",
   "execution_count": 2,
   "id": "015180b0",
   "metadata": {},
   "outputs": [
    {
     "name": "stdout",
     "output_type": "stream",
     "text": [
      "Hello world\n",
      "Hello world\n",
      "Hello world\n",
      "Hello world\n",
      "Hello world\n"
     ]
    }
   ],
   "source": [
    "# while loop\n",
    "a = 0\n",
    "while a < 5:\n",
    "    print(\"Hello world\")\n",
    "    a = a+1"
   ]
  },
  {
   "cell_type": "code",
   "execution_count": 4,
   "id": "cfb83fb9",
   "metadata": {},
   "outputs": [
    {
     "name": "stdout",
     "output_type": "stream",
     "text": [
      "1 Hello world\n",
      "2 Hello world\n",
      "3 Hello world\n",
      "4 Hello world\n"
     ]
    }
   ],
   "source": [
    "a = 1\n",
    "while a < 5:\n",
    "    print(a,\"Hello world\")\n",
    "    a = a+1"
   ]
  },
  {
   "cell_type": "code",
   "execution_count": 6,
   "id": "6219dac6",
   "metadata": {},
   "outputs": [
    {
     "name": "stdout",
     "output_type": "stream",
     "text": [
      "Enter n = 5\n",
      "5 x 1 = 5\n",
      "5 x 2 = 10\n",
      "5 x 3 = 15\n",
      "5 x 4 = 20\n",
      "5 x 5 = 25\n",
      "5 x 6 = 30\n",
      "5 x 7 = 35\n",
      "5 x 8 = 40\n",
      "5 x 9 = 45\n",
      "5 x 10 = 50\n"
     ]
    }
   ],
   "source": [
    "a = 1\n",
    "n = int(input(\"Enter n = \"))\n",
    "while a<=10:\n",
    "    print(n,\"x\",a,\"=\",n*a)\n",
    "    a += 1"
   ]
  },
  {
   "cell_type": "code",
   "execution_count": 7,
   "id": "d88d4aa2",
   "metadata": {},
   "outputs": [
    {
     "name": "stdout",
     "output_type": "stream",
     "text": [
      "Enter n = 2\n",
      "Enter name = bin\n",
      "Enter phone no. = 234234\n",
      "Enter name = raj\n",
      "Enter phone no. = 234\n",
      "bin 234234\n",
      "raj 234\n",
      "\n"
     ]
    }
   ],
   "source": [
    "s = str()\n",
    "i = 0\n",
    "n = int(input(\"Enter n = \"))\n",
    "while i<n:\n",
    "    name = input(\"Enter name = \")\n",
    "    phone = input(\"Enter phone no. = \")\n",
    "    s = s+name+\" \"+phone+\"\\n\"\n",
    "    i += 1\n",
    "print(s)"
   ]
  },
  {
   "cell_type": "code",
   "execution_count": 8,
   "id": "3b204cd4",
   "metadata": {},
   "outputs": [
    {
     "name": "stdout",
     "output_type": "stream",
     "text": [
      "Enter n = 5\n",
      "Enter x = 4\n",
      "Enter x = 4\n",
      "Enter x = 4\n",
      "Enter x = 4\n",
      "Enter x = 4\n",
      "The sum is =  20\n",
      "The average is =  4.0\n"
     ]
    }
   ],
   "source": [
    "s = 0\n",
    "i = 0\n",
    "n = int(input(\"Enter n = \"))\n",
    "while i<n:\n",
    "    x = int(input(\"Enter x = \"))\n",
    "    s = s+x\n",
    "    i += 1\n",
    "print(\"The sum is = \", s)\n",
    "print(\"The average is = \", s/n)"
   ]
  },
  {
   "cell_type": "code",
   "execution_count": 12,
   "id": "32b95d5e",
   "metadata": {},
   "outputs": [
    {
     "name": "stdout",
     "output_type": "stream",
     "text": [
      "P\n",
      "y\n",
      "t\n",
      "h\n",
      "o\n",
      "n\n"
     ]
    }
   ],
   "source": [
    "a =\"Python\"\n",
    "l = len(a)\n",
    "i = 0\n",
    "while i<l:\n",
    "    print(a[i])\n",
    "    i += 1"
   ]
  },
  {
   "cell_type": "code",
   "execution_count": 2,
   "id": "08ed715c",
   "metadata": {},
   "outputs": [
    {
     "name": "stdout",
     "output_type": "stream",
     "text": [
      "Hello world I am ython"
     ]
    }
   ],
   "source": [
    "a =\"Hello world I am Python\"\n",
    "l = len(a)\n",
    "i = 0\n",
    "while i<l:\n",
    "    if a[i]== \"P\":\n",
    "        i = i+1\n",
    "        continue\n",
    "    print(a[i], end = \"\")\n",
    "    i = i+1\n"
   ]
  },
  {
   "cell_type": "code",
   "execution_count": 1,
   "id": "1725d1bf",
   "metadata": {},
   "outputs": [
    {
     "name": "stdout",
     "output_type": "stream",
     "text": [
      "Enter n = 5\n",
      "This is a prime no.\n"
     ]
    }
   ],
   "source": [
    "n = int(input(\"Enter n = \"))\n",
    "i = 2\n",
    "while i<n:\n",
    "    if i%n == 0:\n",
    "        print(\"This is a composite no.\")\n",
    "        break\n",
    "    else:\n",
    "        print(\"This is a prime no.\")\n",
    "        break"
   ]
  },
  {
   "cell_type": "code",
   "execution_count": 6,
   "id": "ab93e1a5",
   "metadata": {},
   "outputs": [
    {
     "name": "stdout",
     "output_type": "stream",
     "text": [
      "Enter n = 10\n",
      "0\n",
      "1\n",
      "1\n",
      "2\n",
      "3\n",
      "5\n",
      "8\n",
      "13\n",
      "21\n",
      "34\n"
     ]
    }
   ],
   "source": [
    "n = int(input(\"Enter n = \"))\n",
    "i = 0\n",
    "a , b = 0 , 1\n",
    "while i<n:\n",
    "    print(a)\n",
    "    c = a+b\n",
    "    a = b\n",
    "    b = c\n",
    "    i += 1\n",
    "\n"
   ]
  },
  {
   "cell_type": "code",
   "execution_count": null,
   "id": "30440cb5",
   "metadata": {},
   "outputs": [],
   "source": []
  }
 ],
 "metadata": {
  "kernelspec": {
   "display_name": "Python 3",
   "language": "python",
   "name": "python3"
  },
  "language_info": {
   "codemirror_mode": {
    "name": "ipython",
    "version": 3
   },
   "file_extension": ".py",
   "mimetype": "text/x-python",
   "name": "python",
   "nbconvert_exporter": "python",
   "pygments_lexer": "ipython3",
   "version": "3.8.8"
  }
 },
 "nbformat": 4,
 "nbformat_minor": 5
}
