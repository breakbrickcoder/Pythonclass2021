{
 "cells": [
  {
   "cell_type": "code",
   "execution_count": 1,
   "id": "b71d2c83",
   "metadata": {},
   "outputs": [
    {
     "name": "stdout",
     "output_type": "stream",
     "text": [
      "90.0\n"
     ]
    }
   ],
   "source": [
    "class Cal:\n",
    "    def __init__(self,p,t,r):\n",
    "        self.p = p\n",
    "        self.t = t\n",
    "        self.r = r\n",
    "        \n",
    "class Calculation(Cal):\n",
    "    def interest(self):\n",
    "        i = self.p*self.t*self.r/100\n",
    "        print(i)\n",
    "        \n",
    "obj = Calculation(300,5,6)\n",
    "obj.interest()\n",
    "        \n"
   ]
  },
  {
   "cell_type": "code",
   "execution_count": 3,
   "id": "d5d35f33",
   "metadata": {},
   "outputs": [
    {
     "name": "stdout",
     "output_type": "stream",
     "text": [
      "Enter p = 5000\n",
      "Enter t = 6\n",
      "Enter r = 7\n",
      "2100.0\n"
     ]
    }
   ],
   "source": [
    "class Cal:\n",
    "    def __init__(self):\n",
    "        self.p = int(input(\"Enter p = \"))\n",
    "        self.t = int(input(\"Enter t = \"))\n",
    "        self.r = int(input(\"Enter r = \"))\n",
    "class Calculation(Cal):\n",
    "    def cal(self):\n",
    "        i = self.p*self.t*self.r/100\n",
    "        print(i)\n",
    "        \n",
    "obj = Calculation()\n",
    "obj.cal()\n",
    "        \n",
    "\n",
    "        "
   ]
  },
  {
   "cell_type": "code",
   "execution_count": 9,
   "id": "3df9fabb",
   "metadata": {},
   "outputs": [
    {
     "name": "stdout",
     "output_type": "stream",
     "text": [
      "Enter height = 5\n",
      "Enter length = 5\n",
      "Enter breadth = 5\n",
      "25\n",
      "125\n"
     ]
    }
   ],
   "source": [
    "class Area:\n",
    "    def __init__(self):\n",
    "        self.l = int(input(\"Enter length = \"))\n",
    "        self.b = int(input(\"Enter breadth = \"))\n",
    "        \n",
    "    def area(self):\n",
    "        a = self.l*self.b\n",
    "        print(a)\n",
    "        \n",
    "class Volume(Area):\n",
    "    def __init__(self):\n",
    "        self.h = int(input(\"Enter height = \"))\n",
    "        Area.__init__(self)\n",
    "        \n",
    "    def vol(self):\n",
    "        v = self.l*self.b*self.h\n",
    "        print(v)\n",
    "        \n",
    "obj = Volume()\n",
    "obj.area()\n",
    "obj.vol()\n",
    "        \n",
    "    "
   ]
  },
  {
   "cell_type": "code",
   "execution_count": 29,
   "id": "53027077",
   "metadata": {},
   "outputs": [
    {
     "name": "stdout",
     "output_type": "stream",
     "text": [
      "Enter height = 5\n",
      "Enter length = 6\n",
      "Enter breadth = 7\n",
      "42\n",
      "210\n"
     ]
    }
   ],
   "source": [
    "class Area:\n",
    "    def __init__(self):\n",
    "        self.l = int(input(\"Enter length = \"))\n",
    "        self.b = int(input(\"Enter breadth = \"))\n",
    "    def area(self):\n",
    "        a = self.l*self.b\n",
    "        print(a)\n",
    "        \n",
    "    \n",
    "        \n",
    "class Volume(Area):\n",
    "    def __init__(self):\n",
    "        self.h = int(input(\"Enter height = \"))\n",
    "        Area.__init__(self)\n",
    "        \n",
    "    def vol(self):\n",
    "        v = self.l*self.b*self.h\n",
    "        print(v)\n",
    "        \n",
    "obj = Volume()\n",
    "obj.area()\n",
    "obj.vol()\n",
    "        \n",
    "\n",
    "        "
   ]
  },
  {
   "cell_type": "code",
   "execution_count": 30,
   "id": "f040202c",
   "metadata": {},
   "outputs": [
    {
     "name": "stdout",
     "output_type": "stream",
     "text": [
      "This is class A\n",
      "This is class B\n",
      "This is class C\n"
     ]
    }
   ],
   "source": [
    "class A:\n",
    "    def a(self):\n",
    "        print(\"This is class A\")\n",
    "        \n",
    "class B(A):\n",
    "    def b(self):\n",
    "        print(\"This is class B\")\n",
    "        \n",
    "class C(B):\n",
    "    def c(self):\n",
    "        print(\"This is class C\")\n",
    "        \n",
    "obj = C()\n",
    "obj.a()\n",
    "obj.b()\n",
    "obj.c()"
   ]
  },
  {
   "cell_type": "code",
   "execution_count": 32,
   "id": "10d26a04",
   "metadata": {},
   "outputs": [
    {
     "name": "stdout",
     "output_type": "stream",
     "text": [
      "Hello world my name is Ram, I live in Kathmandu and my salary is 20000\n"
     ]
    }
   ],
   "source": [
    "class Salary:\n",
    "    def __init__(self,sal):\n",
    "        self.sal = sal\n",
    "    def salary(self):\n",
    "        print(self.sal)\n",
    "\n",
    "class Address(Salary):\n",
    "    def __init__(self,add,sal):\n",
    "        self.add = add\n",
    "        Salary.__init__(self,sal)\n",
    "        \n",
    "    def add(self):\n",
    "        print(self.add)\n",
    "        \n",
    "class Info(Address):\n",
    "    def __init__(self,add,sal,name):\n",
    "        self.name = name\n",
    "        Address.__init__(self,add,sal)\n",
    "    \n",
    "    def info(self):\n",
    "        print(f\"Hello world my name is {self.name}, I live in {self.add} and my salary is {self.sal}\")\n",
    "        \n",
    "obj = Info(\"Kathmandu\",20000,\"Ram\")\n",
    "obj.info()\n",
    "    "
   ]
  },
  {
   "cell_type": "code",
   "execution_count": 36,
   "id": "b850d3b2",
   "metadata": {},
   "outputs": [
    {
     "name": "stdout",
     "output_type": "stream",
     "text": [
      "Hello world my name is Ram, I live in dhading and I earn 20000.\n"
     ]
    }
   ],
   "source": [
    "class Salary: \n",
    "    def __init__(self,sal):\n",
    "        self.sal = sal\n",
    "    def salary(self):\n",
    "        print(self.sal)\n",
    "\n",
    "class Address(Salary):\n",
    "    def __init__(self,add,sal):\n",
    "        self.add = add\n",
    "    def address(self):\n",
    "        print (self.add)\n",
    "        \n",
    "class Name(Address):\n",
    "    def __init__(self,name,add,sal):\n",
    "        self.name = name\n",
    "        Salary.__init__(self,sal)\n",
    "        Address.__init__(self,add,sal)\n",
    "    \n",
    "    def info(self):\n",
    "        print(f\"Hello world my name is {self.name}, I live in {self.add} and I earn {self.sal}.\")\n",
    "    \n",
    "obj = Name(\"Ram\",\"dhading\",20000)\n",
    "obj.info()\n",
    "    \n",
    "    "
   ]
  },
  {
   "cell_type": "code",
   "execution_count": 47,
   "id": "e185f4b8",
   "metadata": {},
   "outputs": [
    {
     "name": "stdout",
     "output_type": "stream",
     "text": [
      "Enter phone no. = 954845848\n",
      "Enter name = Ram\n",
      "Enter school name = Valley High School\n",
      "Hello world! My name is Ram, My school name is Valley High School and my Phone no. is 954845848.\n"
     ]
    }
   ],
   "source": [
    "class Name:\n",
    "    def __init__(self):\n",
    "        self.name = input(\"Enter name = \")\n",
    "    def name(self):\n",
    "        print(self.name)\n",
    "\n",
    "class School(Name):\n",
    "    def __init__(self):\n",
    "        self.school = input(\"Enter school name = \")\n",
    "    def school(self):\n",
    "        print(self.school)\n",
    "        \n",
    "class Phone(School):\n",
    "    def __init__(self):\n",
    "        self.phone = int(input(\"Enter phone no. = \"))\n",
    "        Name.__init__(self)\n",
    "        School.__init__(self)\n",
    "        \n",
    "    def info(self):\n",
    "        print(f\"Hello world! My name is {self.name}, My school name is {self.school} and my Phone no. is {self.phone}.\")\n",
    "    \n",
    "obj = Phone()\n",
    "obj.info()"
   ]
  },
  {
   "cell_type": "code",
   "execution_count": 2,
   "id": "36bec946",
   "metadata": {},
   "outputs": [
    {
     "name": "stdout",
     "output_type": "stream",
     "text": [
      "Binod Gurung\n"
     ]
    }
   ],
   "source": [
    "class Person: \n",
    "    def __init__(self,fname,lname):\n",
    "        self.firstname = fname\n",
    "        self.lastname = lname\n",
    "    def printname(self):\n",
    "        print(self.firstname,self.lastname)\n",
    "\n",
    "obj = Person(\"Binod\",\"Gurung\")\n",
    "obj.printname()\n",
    "        "
   ]
  },
  {
   "cell_type": "code",
   "execution_count": null,
   "id": "b3892f3f",
   "metadata": {},
   "outputs": [],
   "source": []
  }
 ],
 "metadata": {
  "kernelspec": {
   "display_name": "Python 3",
   "language": "python",
   "name": "python3"
  },
  "language_info": {
   "codemirror_mode": {
    "name": "ipython",
    "version": 3
   },
   "file_extension": ".py",
   "mimetype": "text/x-python",
   "name": "python",
   "nbconvert_exporter": "python",
   "pygments_lexer": "ipython3",
   "version": "3.8.8"
  }
 },
 "nbformat": 4,
 "nbformat_minor": 5
}
