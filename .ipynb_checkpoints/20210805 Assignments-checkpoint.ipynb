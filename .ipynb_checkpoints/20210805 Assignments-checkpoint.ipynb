{
 "cells": [
  {
   "cell_type": "code",
   "execution_count": 11,
   "id": "5a09f513",
   "metadata": {
    "scrolled": true
   },
   "outputs": [
    {
     "name": "stdout",
     "output_type": "stream",
     "text": [
      "Enter n 10\n",
      "1\n",
      "2\n",
      "3\n",
      "5\n",
      "8\n",
      "13\n",
      "21\n",
      "34\n",
      "55\n",
      "89\n"
     ]
    }
   ],
   "source": [
    "#Fibonacci number \n",
    "# 0,1,1,2,3,5,8,13.....\n",
    "\n",
    "n = int(input(\"Enter n \"))\n",
    "a = 0\n",
    "b = 1\n",
    "for i in range(n):\n",
    "    c = a+b\n",
    "    a = b\n",
    "    b = c\n",
    "    print(c)\n"
   ]
  },
  {
   "cell_type": "code",
   "execution_count": 13,
   "id": "459b63ab",
   "metadata": {},
   "outputs": [
    {
     "name": "stdout",
     "output_type": "stream",
     "text": [
      "Enter the n seq = 10\n",
      "0\n",
      "1\n",
      "1\n",
      "2\n",
      "3\n",
      "5\n",
      "8\n",
      "13\n",
      "21\n",
      "34\n"
     ]
    }
   ],
   "source": [
    "n = int(input(\"Enter the n seq = \"))\n",
    "def d(n):\n",
    "    a = 0\n",
    "    b = 1\n",
    "    if n==1:\n",
    "        print(a)\n",
    "    else:\n",
    "        print(a)\n",
    "        print(b)\n",
    "        for i in range(2,n):\n",
    "            c = a+b\n",
    "            a = b\n",
    "            b = c\n",
    "            print(c)\n",
    "d(n)\n",
    "         "
   ]
  },
  {
   "cell_type": "code",
   "execution_count": null,
   "id": "205d3492",
   "metadata": {},
   "outputs": [],
   "source": [
    "n = int((input(\"Enter n sequence = \")))"
   ]
  },
  {
   "cell_type": "code",
   "execution_count": 8,
   "id": "eb24fb92",
   "metadata": {},
   "outputs": [
    {
     "name": "stdout",
     "output_type": "stream",
     "text": [
      "**  * \n",
      "**  *  * \n",
      "**  *  *  * \n",
      "**  *  *  *  * \n",
      "**  *  *  *  *  * \n",
      "**  *  *  *  *  *  * \n",
      "**  *  *  *  *  *  *  * \n",
      "**  *  *  *  *  *  *  *  * \n",
      "**  *  *  *  *  *  *  *  *  * \n",
      "**  * \n",
      "**  *  * \n",
      "**  *  *  * \n",
      "**  *  *  *  * \n",
      "**  *  *  *  *  * \n",
      "**  *  *  *  *  *  * \n",
      "**  *  *  *  *  *  *  * \n",
      "**  *  *  *  *  *  *  *  * \n",
      "**  *  *  *  *  *  *  *  *  * \n",
      "**\n",
      "**\n",
      "**\n",
      "**\n",
      "**\n",
      "**\n",
      "**\n",
      "**\n",
      "**\n"
     ]
    }
   ],
   "source": [
    "# Nepali flag\n",
    "a = \"**\"\n",
    "for i in range(1,10):\n",
    "    print(a,i*\" * \")\n",
    "    \n",
    "for i in range(1,10):\n",
    "    print(a,i*\" * \")\n",
    "    \n",
    "for i in range(1,10):\n",
    "    print(a)\n",
    "    "
   ]
  },
  {
   "cell_type": "code",
   "execution_count": 7,
   "id": "fc916d9f",
   "metadata": {
    "scrolled": true
   },
   "outputs": [
    {
     "name": "stdout",
     "output_type": "stream",
     "text": [
      "Product name = egg\n",
      "Unit price = 3\n",
      "Num of pcs = 1\n",
      "Add tax% = 13\n",
      "Total amt =  3.39\n"
     ]
    }
   ],
   "source": [
    "#billing system\n",
    "\n",
    "a = str(input(\"Product name = \"))\n",
    "b = float(input(\"Unit price = \"))\n",
    "c = float(input(\"Num of pcs = \"))\n",
    "d = float(input(\"Add tax% = \"))\n",
    "e = b*c\n",
    "print(\"Total amt = \", d/100*e+e)\n"
   ]
  },
  {
   "cell_type": "code",
   "execution_count": 2,
   "id": "8b30ab67",
   "metadata": {},
   "outputs": [
    {
     "name": "stdout",
     "output_type": "stream",
     "text": [
      "Num of products = 2\n",
      "Product name = sdf\n",
      "Unit price = 3\n",
      "Num of pcs = 42\n",
      "Add tax% = 234\n",
      "Total amount = 420.84 \n",
      "\n",
      "Product name = sf\n",
      "Unit price = 234\n",
      "Num of pcs = 234\n",
      "Add tax% = 234\n",
      "Total amount = 182885.04 \n",
      "\n"
     ]
    }
   ],
   "source": [
    "n = int(input(\"Num of products = \"))\n",
    "for i in range(n):\n",
    "    a = str(input(\"Product name = \"))\n",
    "    b = float(input(\"Unit price = \"))\n",
    "    c = float(input(\"Num of pcs = \"))\n",
    "    d = float(input(\"Add tax% = \"))\n",
    "    e = b*c\n",
    "    f = float(d/100*e+e)\n",
    "    print(\"Total amount =\",round(f,2),\"\\n\")"
   ]
  },
  {
   "cell_type": "code",
   "execution_count": null,
   "id": "02af6844",
   "metadata": {},
   "outputs": [],
   "source": []
  }
 ],
 "metadata": {
  "kernelspec": {
   "display_name": "Python 3",
   "language": "python",
   "name": "python3"
  },
  "language_info": {
   "codemirror_mode": {
    "name": "ipython",
    "version": 3
   },
   "file_extension": ".py",
   "mimetype": "text/x-python",
   "name": "python",
   "nbconvert_exporter": "python",
   "pygments_lexer": "ipython3",
   "version": "3.8.8"
  }
 },
 "nbformat": 4,
 "nbformat_minor": 5
}
