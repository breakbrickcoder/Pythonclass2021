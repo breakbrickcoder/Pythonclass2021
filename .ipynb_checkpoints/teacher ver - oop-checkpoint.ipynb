{
 "cells": [
  {
   "cell_type": "code",
   "execution_count": 1,
   "id": "ee1621ed",
   "metadata": {
    "collapsed": true
   },
   "outputs": [
    {
     "name": "stdout",
     "output_type": "stream",
     "text": [
      "Hello world\n"
     ]
    }
   ],
   "source": [
    "class Hello:\n",
    "    print(\"Hello world\")\n",
    "obj = Hello()"
   ]
  },
  {
   "cell_type": "code",
   "execution_count": 2,
   "id": "fab98a9e",
   "metadata": {},
   "outputs": [],
   "source": [
    "obj = Hello()"
   ]
  },
  {
   "cell_type": "code",
   "execution_count": 3,
   "id": "d2f642c6",
   "metadata": {},
   "outputs": [
    {
     "name": "stdout",
     "output_type": "stream",
     "text": [
      "12\n"
     ]
    }
   ],
   "source": [
    "class Area:\n",
    "    l = 3\n",
    "    b = 4\n",
    "    a = l*b\n",
    "    print(a)\n",
    "obj = Area()"
   ]
  },
  {
   "cell_type": "code",
   "execution_count": 5,
   "id": "bfe77dfe",
   "metadata": {},
   "outputs": [
    {
     "name": "stdout",
     "output_type": "stream",
     "text": [
      "12\n"
     ]
    }
   ],
   "source": [
    "class Area:\n",
    "    def area(self):\n",
    "        l = 3 \n",
    "        b = 4\n",
    "        a = l*b\n",
    "        print(a)\n",
    "        \n",
    "obj = Area()\n",
    "obj.area()\n",
    "    "
   ]
  },
  {
   "cell_type": "code",
   "execution_count": 6,
   "id": "e0aee83c",
   "metadata": {},
   "outputs": [
    {
     "name": "stdout",
     "output_type": "stream",
     "text": [
      "12\n"
     ]
    }
   ],
   "source": [
    "class Area:\n",
    "    def area(self,l,b):\n",
    "        a = l*b\n",
    "        print(a)\n",
    "        \n",
    "obj = Area()\n",
    "obj.area(3,4)"
   ]
  },
  {
   "cell_type": "code",
   "execution_count": 7,
   "id": "343abbd0",
   "metadata": {},
   "outputs": [
    {
     "name": "stdout",
     "output_type": "stream",
     "text": [
      "Enter length = 4\n",
      "Enter breadth = 3\n",
      "12\n"
     ]
    }
   ],
   "source": [
    "class Area:\n",
    "    def area(self,l,b):\n",
    "        a = l*b\n",
    "        print(a)\n",
    "        \n",
    "obj = Area()\n",
    "\n",
    "l = int(input(\"Enter length = \"))\n",
    "b = int(input(\"Enter breadth = \"))\n",
    "obj.area(l,b)"
   ]
  },
  {
   "cell_type": "code",
   "execution_count": 11,
   "id": "28118497",
   "metadata": {},
   "outputs": [
    {
     "name": "stdout",
     "output_type": "stream",
     "text": [
      "Enter length = 3\n",
      "Enter breadth = 4\n",
      "Enter height = 5\n",
      "12\n",
      "60\n"
     ]
    }
   ],
   "source": [
    "class Area:\n",
    "    def area(self,l,b):\n",
    "        a = l*b\n",
    "        print(a)\n",
    "    \n",
    "    def volume(self,l,b,h):\n",
    "        v = l*b*h\n",
    "        print(v)\n",
    "        \n",
    "obj = Area()\n",
    "l = int(input(\"Enter length = \"))\n",
    "b = int(input(\"Enter breadth = \"))\n",
    "h = int(input(\"Enter height = \"))\n",
    "obj.area(l,b)\n",
    "obj.volume(l,b,h)\n",
    "    "
   ]
  },
  {
   "cell_type": "code",
   "execution_count": 13,
   "id": "79c45de9",
   "metadata": {},
   "outputs": [
    {
     "name": "stdout",
     "output_type": "stream",
     "text": [
      "Enter length = 5\n",
      "Enter breadth = 4\n",
      "Enetr height = 3\n",
      "20\n",
      "60\n"
     ]
    }
   ],
   "source": [
    "class Area:\n",
    "    def area(self,l,b):\n",
    "        a = l*b\n",
    "        print(a)\n",
    "        \n",
    "class Volume:\n",
    "    def volume(self,l,b,h):\n",
    "        v = l*b*h\n",
    "        print(v)\n",
    "        \n",
    "obj = Area()\n",
    "obj1 = Volume()\n",
    "\n",
    "l = int(input(\"Enter length = \"))\n",
    "b = int(input(\"Enter breadth = \"))\n",
    "h = int(input(\"Enetr height = \"))\n",
    "\n",
    "obj.area(l,b)\n",
    "obj1.volume(l,b,h)"
   ]
  },
  {
   "cell_type": "code",
   "execution_count": 18,
   "id": "948aea02",
   "metadata": {},
   "outputs": [
    {
     "name": "stdout",
     "output_type": "stream",
     "text": [
      "12\n"
     ]
    }
   ],
   "source": [
    "#init method will intialize given argument to class where any method can reuse the parameters\n",
    "class Area:\n",
    "    def __init__(self,l,b):\n",
    "        self.l = l\n",
    "        self.b = b\n",
    "    def area(self):\n",
    "        a = self.l*self.b\n",
    "        print(a)\n",
    "        \n",
    "obj = Area(3,4)\n",
    "obj.area()\n"
   ]
  },
  {
   "cell_type": "code",
   "execution_count": 20,
   "id": "6f2580a9",
   "metadata": {},
   "outputs": [
    {
     "name": "stdout",
     "output_type": "stream",
     "text": [
      "12\n"
     ]
    }
   ],
   "source": [
    "class Area:\n",
    "    def __init__ (self,l,b):\n",
    "        self.l = l\n",
    "        self.b = b\n",
    "    def area(this): #can give any parameter in bracket\n",
    "        a = this.l*this.b\n",
    "        print(a)\n",
    "obj = Area(3,4)\n",
    "obj.area()\n",
    "        "
   ]
  },
  {
   "cell_type": "code",
   "execution_count": 23,
   "id": "2a6f63a4",
   "metadata": {},
   "outputs": [
    {
     "name": "stdout",
     "output_type": "stream",
     "text": [
      "12\n",
      "30\n",
      "72\n"
     ]
    }
   ],
   "source": [
    "#multiple object\n",
    "class Area:\n",
    "    def __init__(self,l,b):\n",
    "        self.l = l\n",
    "        self.b = b\n",
    "        \n",
    "    def area(self):\n",
    "        a = self.l*self.b\n",
    "        print(a)\n",
    "        \n",
    "obj = Area(3,4)\n",
    "obj1 = Area(5,6)\n",
    "obj2 = Area(9,8)\n",
    "obj.area()\n",
    "obj1.area()\n",
    "obj2.area()"
   ]
  },
  {
   "cell_type": "code",
   "execution_count": 25,
   "id": "63127730",
   "metadata": {},
   "outputs": [
    {
     "name": "stdout",
     "output_type": "stream",
     "text": [
      "12\n",
      "60\n",
      "30\n",
      "210\n"
     ]
    }
   ],
   "source": [
    "class Volume:\n",
    "    def __init__(self,l,b,h):\n",
    "        self.l = l\n",
    "        self.b = b\n",
    "        self.h = h\n",
    "        \n",
    "    def area(self):\n",
    "        a = self.l*self.b\n",
    "        print(a)\n",
    "        \n",
    "    def volume(self):\n",
    "        v = self.l*self.b*self.h\n",
    "        print(v)\n",
    "\n",
    "obj = Volume(3,4,5)\n",
    "obj.area()\n",
    "obj.volume()\n",
    "\n",
    "obj1 = Volume(5,6,7)\n",
    "obj1.area()\n",
    "obj1.volume()\n"
   ]
  },
  {
   "cell_type": "code",
   "execution_count": 27,
   "id": "81c63bd0",
   "metadata": {},
   "outputs": [
    {
     "name": "stdout",
     "output_type": "stream",
     "text": [
      "12\n",
      "72\n"
     ]
    }
   ],
   "source": [
    "class Cal:\n",
    "    def __init__(self,l,b):\n",
    "        self.l = l\n",
    "        self.b = b\n",
    "    \n",
    "    def area(self):\n",
    "        a = self.l*self.b\n",
    "        print(a)\n",
    "        \n",
    "    def vol(self,h):\n",
    "        v = self.l*self.b*h # don't share value of h with others\n",
    "        print(v)\n",
    "        \n",
    "obj = Cal(3,4)\n",
    "obj.area()\n",
    "obj.vol(6)\n",
    "        "
   ]
  },
  {
   "cell_type": "code",
   "execution_count": 29,
   "id": "46568627",
   "metadata": {},
   "outputs": [
    {
     "name": "stdout",
     "output_type": "stream",
     "text": [
      "30\n",
      "210\n"
     ]
    }
   ],
   "source": [
    "# using return type function, require to use \"print()\" function in object\n",
    "class Cal:\n",
    "    def __init__(self,l,b):\n",
    "        self.l = l\n",
    "        self.b = b\n",
    "    \n",
    "    def area(self):\n",
    "        a = self.l*self.b\n",
    "        return a\n",
    "    \n",
    "    def vol(self,h):\n",
    "        v = self.l*self.b*h\n",
    "        return v\n",
    "\n",
    "obj = Cal(5,6)\n",
    "print (obj.area())\n",
    "print (obj.vol(7))"
   ]
  },
  {
   "cell_type": "code",
   "execution_count": 31,
   "id": "be511705",
   "metadata": {},
   "outputs": [
    {
     "name": "stdout",
     "output_type": "stream",
     "text": [
      "20\n",
      "160\n"
     ]
    }
   ],
   "source": [
    "class Cal:\n",
    "    def __init__(self,l,b):\n",
    "        self.l = l\n",
    "        self.b = b\n",
    "    \n",
    "    def area(self):\n",
    "        a = self.l*self.b\n",
    "        return a\n",
    "    \n",
    "    def vol(self,h):\n",
    "        v = Cal.area(self)*h #calling existing value using Cal.area(self){inheriting existing method}\n",
    "        return v\n",
    "\n",
    "obj = Cal(4,5)\n",
    "print(obj.area())\n",
    "print (obj.vol(8))"
   ]
  },
  {
   "cell_type": "code",
   "execution_count": 3,
   "id": "7f347657",
   "metadata": {},
   "outputs": [
    {
     "name": "stdout",
     "output_type": "stream",
     "text": [
      "Ram\n",
      "<class '__main__.info'>\n"
     ]
    }
   ],
   "source": [
    "#__str__\n",
    "\n",
    "class info:\n",
    "    def __init__(self,name,age):\n",
    "        self.name = name\n",
    "        self.age = age\n",
    "        \n",
    "    def __str__(self):\n",
    "        return self.name\n",
    "    \n",
    "obj = info(\"Ram\",34)\n",
    "print(obj)\n",
    "print(type(obj)) #this is the object of a class \"info\""
   ]
  },
  {
   "cell_type": "code",
   "execution_count": 8,
   "id": "80bec348",
   "metadata": {},
   "outputs": [
    {
     "name": "stdout",
     "output_type": "stream",
     "text": [
      "Ram\n",
      "Ram\n",
      "<class '__main__.info'>\n",
      "<class 'str'>\n"
     ]
    }
   ],
   "source": [
    "class info:\n",
    "    def __init__(self,name,age):\n",
    "        self.name = name\n",
    "        self.age = age\n",
    "        \n",
    "    def __str__(self):\n",
    "        return self.name\n",
    "    \n",
    "obj = info(\"Ram\",34)\n",
    "print(obj)\n",
    "print(obj.__str__())\n",
    "print(type(obj))\n",
    "\n",
    "n = str(obj) #----> to change obj into string\n",
    "print(type(n))"
   ]
  },
  {
   "cell_type": "code",
   "execution_count": 9,
   "id": "68e3e8c5",
   "metadata": {},
   "outputs": [
    {
     "name": "stdout",
     "output_type": "stream",
     "text": [
      "Ram 34\n",
      "Ram 34\n",
      "<class '__main__.info'>\n",
      "<class 'str'>\n"
     ]
    }
   ],
   "source": [
    "class info:\n",
    "    def __init__(self,name,age):\n",
    "        self.name = name\n",
    "        self.age = age\n",
    "    \n",
    "    def __str__(self):\n",
    "        return f\"{self.name} {self.age}\"\n",
    "    \n",
    "obj = info(\"Ram\", 34)\n",
    "print(obj)\n",
    "print(obj.__str__())\n",
    "print(type(obj))\n",
    "\n",
    "n = str(obj) #--> change object to string\n",
    "print(type(n))"
   ]
  },
  {
   "cell_type": "code",
   "execution_count": 11,
   "id": "080c3535",
   "metadata": {},
   "outputs": [
    {
     "name": "stdout",
     "output_type": "stream",
     "text": [
      "{'Name': 'Ram', 'Age': 34}\n",
      "<class 'dict'>\n"
     ]
    }
   ],
   "source": [
    "# __repr__\n",
    "\n",
    "class info:\n",
    "    def __init__(self,name,age):\n",
    "        self.name = name\n",
    "        self.age = age\n",
    "        \n",
    "    def __repr__ (self): #--> to return dict()\n",
    "        return {\"Name\": self.name, \"Age\": self.age}\n",
    "    \n",
    "obj = info(\"Ram\", 34)\n",
    "print(obj.__repr__())\n",
    "\n",
    "x = obj.__repr__()\n",
    "print(type(x))\n"
   ]
  },
  {
   "cell_type": "code",
   "execution_count": 13,
   "id": "681e5962",
   "metadata": {},
   "outputs": [
    {
     "name": "stdout",
     "output_type": "stream",
     "text": [
      "1 5\n"
     ]
    }
   ],
   "source": [
    "# operation overloading(), it is the function that enables to overload object and does calculations\n",
    "\n",
    "class Point:\n",
    "    def __init__(self,x = 0, y = 0):\n",
    "        self.x = x\n",
    "        self.y = y\n",
    "        \n",
    "    def __str__(self):\n",
    "        return f\"{self.x} {self.y}\"\n",
    "    \n",
    "    def __add__(self,other):\n",
    "        x = self.x + other.x\n",
    "        y = self.y + other.y\n",
    "        return Point(x,y)\n",
    "    \n",
    "p1 = Point(2,3)\n",
    "p2 = Point(-1,2)\n",
    "print(p1 + p2)\n",
    "        \n",
    "        \n",
    "        "
   ]
  },
  {
   "cell_type": "code",
   "execution_count": 18,
   "id": "51a13eee",
   "metadata": {},
   "outputs": [
    {
     "name": "stdout",
     "output_type": "stream",
     "text": [
      "This is init method 4 3\n",
      "This is init method -1 2\n",
      "This is add method 3 5\n",
      "This is init method 3 5\n",
      "This is str method 3 5\n",
      "3 5\n"
     ]
    }
   ],
   "source": [
    "class Point:\n",
    "    def __init__(self,x = 0,y = 0):\n",
    "        self.x = x\n",
    "        self.y = y\n",
    "        print(\"This is init method\", self.x,self.y)\n",
    "        \n",
    "    def __str__(self):\n",
    "        print(\"This is str method\", self.x,self.y)\n",
    "        return f\"{self.x} {self.y}\"\n",
    "    \n",
    "    def __add__(self,other):\n",
    "        x = self.x + other.x\n",
    "        y = self.y + other.y\n",
    "        print(\"This is add method\", x, y)\n",
    "        return Point(x,y)\n",
    "    \n",
    "p1 = Point(4,3)\n",
    "p2 = Point(-1,2)\n",
    "print(p1 + p2)"
   ]
  },
  {
   "cell_type": "code",
   "execution_count": 22,
   "id": "32a1fc4f",
   "metadata": {},
   "outputs": [
    {
     "name": "stdout",
     "output_type": "stream",
     "text": [
      "This is init method 2000\n",
      "This is init method 3000\n",
      "This is init method 4000\n",
      "This is add method 5000\n",
      "This is init method 5000\n",
      "This is add method 9000\n",
      "This is init method 9000\n",
      "This is str method 9000\n",
      "9000\n"
     ]
    }
   ],
   "source": [
    "# using only one value as x\n",
    "\n",
    "class Point:\n",
    "    def __init__(self,x = 0):\n",
    "        self.x = x\n",
    "        print(\"This is init method\", self.x)\n",
    "        \n",
    "    def __str__(self):\n",
    "        print(\"This is str method\", self.x)\n",
    "        return f\"{self.x}\"\n",
    "    \n",
    "    def __add__(self,other):\n",
    "        x = self.x + other.x\n",
    "        print(\"This is add method\", x)\n",
    "        return Point(x)\n",
    "    \n",
    "p1 = Point(2000)\n",
    "p2 = Point(3000)\n",
    "p3 = Point(4000)\n",
    "\n",
    "print(p1 + p2 + p3)\n"
   ]
  },
  {
   "cell_type": "code",
   "execution_count": 23,
   "id": "d41579ec",
   "metadata": {},
   "outputs": [
    {
     "name": "stdout",
     "output_type": "stream",
     "text": [
      "Parrot can fly\n",
      "Penguin cannot fly\n"
     ]
    }
   ],
   "source": [
    "# Polymorphism in Python --> if there similar functions 2 or more class\n",
    "\n",
    "class Parrot:\n",
    "    def fly(self):\n",
    "        print(\"Parrot can fly\")    \n",
    "    def swim(self):\n",
    "        print(\"Parrot cannot swim\")\n",
    "        \n",
    "class Penguin:\n",
    "    def fly(self):\n",
    "        print(\"Penguin cannot fly\")\n",
    "    def swim(self):\n",
    "        print(\"Penguin can swim\")\n",
    "        \n",
    "#common interface\n",
    "\n",
    "def flying_test(bird):\n",
    "    bird.fly()\n",
    "    \n",
    "#instantiate objects\n",
    "blu = Parrot()\n",
    "peggy = Penguin()\n",
    "#passing the object\n",
    "flying_test(blu)\n",
    "flying_test(peggy)"
   ]
  },
  {
   "cell_type": "code",
   "execution_count": null,
   "id": "4f966d9e",
   "metadata": {},
   "outputs": [],
   "source": []
  }
 ],
 "metadata": {
  "kernelspec": {
   "display_name": "Python 3",
   "language": "python",
   "name": "python3"
  },
  "language_info": {
   "codemirror_mode": {
    "name": "ipython",
    "version": 3
   },
   "file_extension": ".py",
   "mimetype": "text/x-python",
   "name": "python",
   "nbconvert_exporter": "python",
   "pygments_lexer": "ipython3",
   "version": "3.8.8"
  }
 },
 "nbformat": 4,
 "nbformat_minor": 5
}
