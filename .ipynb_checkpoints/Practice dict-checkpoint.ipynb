{
 "cells": [
  {
   "cell_type": "code",
   "execution_count": 1,
   "id": "9bb56e0a",
   "metadata": {},
   "outputs": [],
   "source": [
    "# WAP to make dic inside list and its CRUD operation."
   ]
  },
  {
   "cell_type": "code",
   "execution_count": 2,
   "id": "25ff1a0d",
   "metadata": {},
   "outputs": [
    {
     "name": "stdout",
     "output_type": "stream",
     "text": [
      "{'brad': 'ford', 'model': 'mustang', 'year': '1964'}\n"
     ]
    }
   ],
   "source": [
    "# Practice\n",
    "a = {\"brad\":\"ford\",\"model\":\"mustang\",\"year\":\"1964\"}\n",
    "print(a)"
   ]
  },
  {
   "cell_type": "code",
   "execution_count": 3,
   "id": "7cd4e6c7",
   "metadata": {},
   "outputs": [
    {
     "data": {
      "text/plain": [
       "dict"
      ]
     },
     "execution_count": 3,
     "metadata": {},
     "output_type": "execute_result"
    }
   ],
   "source": [
    "type(a)"
   ]
  },
  {
   "cell_type": "code",
   "execution_count": 4,
   "id": "f09997f7",
   "metadata": {},
   "outputs": [
    {
     "data": {
      "text/plain": [
       "{'brad': 'ford', 'model': 'mustang', 'year': '2001'}"
      ]
     },
     "execution_count": 4,
     "metadata": {},
     "output_type": "execute_result"
    }
   ],
   "source": [
    "{'brad': 'ford', 'model': 'mustang', 'year': '1964',\"year\":\"2001\"}"
   ]
  },
  {
   "cell_type": "code",
   "execution_count": 5,
   "id": "6e6b2892",
   "metadata": {},
   "outputs": [
    {
     "name": "stdout",
     "output_type": "stream",
     "text": [
      "3\n"
     ]
    }
   ],
   "source": [
    "print(len(a))"
   ]
  },
  {
   "cell_type": "code",
   "execution_count": 13,
   "id": "e5086dc9",
   "metadata": {},
   "outputs": [
    {
     "data": {
      "text/plain": [
       "{'brad': 'ford',\n",
       " 'model': 'mustang',\n",
       " 'year': '1964',\n",
       " 'electric': False,\n",
       " 'colors': ['red', 'white', 'blue']}"
      ]
     },
     "execution_count": 13,
     "metadata": {},
     "output_type": "execute_result"
    }
   ],
   "source": [
    "a = {'brad': 'ford', 'model': 'mustang', 'year': '1964',\"electric\":False,\"colors\":[\"red\",\"white\",\"blue\"]}\n",
    "a"
   ]
  },
  {
   "cell_type": "code",
   "execution_count": 18,
   "id": "2dd04c44",
   "metadata": {},
   "outputs": [
    {
     "name": "stdout",
     "output_type": "stream",
     "text": [
      "ford\n",
      "1964\n"
     ]
    }
   ],
   "source": [
    "x = a[\"brad\"] \n",
    "y = a[\"year\"]\n",
    "print(x)\n",
    "print(y)"
   ]
  },
  {
   "cell_type": "code",
   "execution_count": 20,
   "id": "0379a6a8",
   "metadata": {},
   "outputs": [
    {
     "name": "stdout",
     "output_type": "stream",
     "text": [
      "dict_keys(['brad', 'model', 'year', 'electric', 'colors'])\n"
     ]
    }
   ],
   "source": [
    "x = a.keys()\n",
    "print(x)"
   ]
  },
  {
   "cell_type": "code",
   "execution_count": 21,
   "id": "d9d7a94e",
   "metadata": {},
   "outputs": [
    {
     "name": "stdout",
     "output_type": "stream",
     "text": [
      "dict_keys(['brand', 'color', 'model', 'year'])\n"
     ]
    }
   ],
   "source": [
    "car = {\"brand\":\"ford\",\"color\":\"white\",\"model\":\"mustang\",\"year\":\"1963\"}\n",
    "x = car.keys()\n",
    "print(x)"
   ]
  },
  {
   "cell_type": "code",
   "execution_count": 22,
   "id": "e89f972e",
   "metadata": {},
   "outputs": [
    {
     "name": "stdout",
     "output_type": "stream",
     "text": [
      "{'brand': 'ford', 'color': 'white', 'model': 'mustang', 'year': '1963', 'wheel': 'big'}\n"
     ]
    }
   ],
   "source": [
    "car[\"wheel\"] = \"big\"\n",
    "print(car)"
   ]
  },
  {
   "cell_type": "code",
   "execution_count": 23,
   "id": "6a00d3b0",
   "metadata": {},
   "outputs": [
    {
     "name": "stdout",
     "output_type": "stream",
     "text": [
      "dict_values(['ford', 'white', 'mustang', '1963', 'big'])\n"
     ]
    }
   ],
   "source": [
    "a = car.values()\n",
    "print(a)"
   ]
  },
  {
   "cell_type": "code",
   "execution_count": 24,
   "id": "121c6493",
   "metadata": {},
   "outputs": [
    {
     "name": "stdout",
     "output_type": "stream",
     "text": [
      "{'brand': 'ford', 'color': 'white', 'model': 'mustang', 'year': 2020, 'wheel': 'big'}\n"
     ]
    }
   ],
   "source": [
    "car[\"year\"] = 2020\n",
    "print(car)"
   ]
  },
  {
   "cell_type": "code",
   "execution_count": 27,
   "id": "a5815c95",
   "metadata": {},
   "outputs": [
    {
     "name": "stdout",
     "output_type": "stream",
     "text": [
      "{'brand': 'ford', 'color': 'red', 'model': 'mustang', 'year': 2020, 'wheel': 'big'}\n"
     ]
    }
   ],
   "source": [
    "car[\"color\"] = \"red\"\n",
    "print(car)"
   ]
  },
  {
   "cell_type": "code",
   "execution_count": 28,
   "id": "54a9b81f",
   "metadata": {},
   "outputs": [
    {
     "data": {
      "text/plain": [
       "dict_items([('brand', 'ford'), ('color', 'red'), ('model', 'mustang'), ('year', 2020), ('wheel', 'big')])"
      ]
     },
     "execution_count": 28,
     "metadata": {},
     "output_type": "execute_result"
    }
   ],
   "source": [
    "x = car.items()\n",
    "x"
   ]
  },
  {
   "cell_type": "code",
   "execution_count": 29,
   "id": "e710fb57",
   "metadata": {},
   "outputs": [
    {
     "name": "stdout",
     "output_type": "stream",
     "text": [
      "Yes, 'model' is one of the key in car dictionary\n"
     ]
    }
   ],
   "source": [
    "car = {'brand': 'ford', 'color': 'red', 'model': 'mustang', 'year': 2020, 'wheel': 'big'}\n",
    "if \"model\" in car:\n",
    "    print(\"Yes, 'model' is one of the key in car dictionary\")\n",
    "    "
   ]
  },
  {
   "cell_type": "code",
   "execution_count": 30,
   "id": "bbd4be75",
   "metadata": {},
   "outputs": [
    {
     "data": {
      "text/plain": [
       "{'brand': 'ford',\n",
       " 'color': 'red',\n",
       " 'model': 'mustang',\n",
       " 'year': 2018,\n",
       " 'wheel': 'big'}"
      ]
     },
     "execution_count": 30,
     "metadata": {},
     "output_type": "execute_result"
    }
   ],
   "source": [
    "car[\"year\"] = 2018\n",
    "car"
   ]
  },
  {
   "cell_type": "code",
   "execution_count": 31,
   "id": "72f8da94",
   "metadata": {},
   "outputs": [
    {
     "name": "stdout",
     "output_type": "stream",
     "text": [
      "{'brand': 'bmw', 'color': 'red', 'model': 'mustang', 'year': 2020, 'wheel': 'big'}\n"
     ]
    }
   ],
   "source": [
    "car = {'brand': 'ford', 'color': 'red', 'model': 'mustang', 'year': 2020, 'wheel': 'big'}\n",
    "car.update({\"brand\":\"bmw\"})\n",
    "print(car)"
   ]
  },
  {
   "cell_type": "code",
   "execution_count": 33,
   "id": "7ee5f5e4",
   "metadata": {},
   "outputs": [
    {
     "name": "stdout",
     "output_type": "stream",
     "text": [
      "{'brand': 'ford', 'color': 'red', 'model': 'mustang', 'wheel': 'big'}\n",
      "2020\n"
     ]
    }
   ],
   "source": [
    "car = {'brand': 'ford', 'color': 'red', 'model': 'mustang', 'year': 2020, 'wheel': 'big'}\n",
    "car2 = car.pop(\"year\")\n",
    "print(car)\n",
    "print(car2)"
   ]
  },
  {
   "cell_type": "code",
   "execution_count": 35,
   "id": "3bee69e1",
   "metadata": {},
   "outputs": [
    {
     "name": "stdout",
     "output_type": "stream",
     "text": [
      "{'brand': 'ford', 'color': 'red', 'model': 'mustang', 'year': 2020}\n",
      "('wheel', 'big')\n"
     ]
    }
   ],
   "source": [
    "car = {'brand': 'ford', 'color': 'red', 'model': 'mustang', 'year': 2020, 'wheel': 'big'}\n",
    "car2 = car.popitem()\n",
    "print(car)\n",
    "print(car2)"
   ]
  },
  {
   "cell_type": "code",
   "execution_count": 37,
   "id": "a6fd5f46",
   "metadata": {},
   "outputs": [
    {
     "data": {
      "text/plain": [
       "{'color': 'red', 'model': 'mustang', 'year': 2020, 'wheel': 'big'}"
      ]
     },
     "execution_count": 37,
     "metadata": {},
     "output_type": "execute_result"
    }
   ],
   "source": [
    "car = {'brand': 'ford', 'color': 'red', 'model': 'mustang', 'year': 2020, 'wheel': 'big'}\n",
    "del car[\"brand\"]\n",
    "car"
   ]
  },
  {
   "cell_type": "code",
   "execution_count": 38,
   "id": "626675b5",
   "metadata": {},
   "outputs": [
    {
     "ename": "NameError",
     "evalue": "name 'car' is not defined",
     "output_type": "error",
     "traceback": [
      "\u001b[1;31m---------------------------------------------------------------------------\u001b[0m",
      "\u001b[1;31mNameError\u001b[0m                                 Traceback (most recent call last)",
      "\u001b[1;32m<ipython-input-38-3e96a2fb7a5b>\u001b[0m in \u001b[0;36m<module>\u001b[1;34m\u001b[0m\n\u001b[0;32m      1\u001b[0m \u001b[1;32mdel\u001b[0m \u001b[0mcar\u001b[0m\u001b[1;33m\u001b[0m\u001b[1;33m\u001b[0m\u001b[0m\n\u001b[1;32m----> 2\u001b[1;33m \u001b[0mprint\u001b[0m\u001b[1;33m(\u001b[0m\u001b[0mcar\u001b[0m\u001b[1;33m)\u001b[0m\u001b[1;33m\u001b[0m\u001b[1;33m\u001b[0m\u001b[0m\n\u001b[0m",
      "\u001b[1;31mNameError\u001b[0m: name 'car' is not defined"
     ]
    }
   ],
   "source": [
    "del car\n",
    "print(car)"
   ]
  },
  {
   "cell_type": "code",
   "execution_count": 39,
   "id": "956b3f23",
   "metadata": {},
   "outputs": [
    {
     "data": {
      "text/plain": [
       "{}"
      ]
     },
     "execution_count": 39,
     "metadata": {},
     "output_type": "execute_result"
    }
   ],
   "source": [
    "car = {'brand': 'ford', 'color': 'red', 'model': 'mustang', 'year': 2020, 'wheel': 'big'}\n",
    "car.clear()\n",
    "car"
   ]
  },
  {
   "cell_type": "code",
   "execution_count": null,
   "id": "973cc8bd",
   "metadata": {},
   "outputs": [],
   "source": []
  }
 ],
 "metadata": {
  "kernelspec": {
   "display_name": "Python 3",
   "language": "python",
   "name": "python3"
  },
  "language_info": {
   "codemirror_mode": {
    "name": "ipython",
    "version": 3
   },
   "file_extension": ".py",
   "mimetype": "text/x-python",
   "name": "python",
   "nbconvert_exporter": "python",
   "pygments_lexer": "ipython3",
   "version": "3.8.8"
  }
 },
 "nbformat": 4,
 "nbformat_minor": 5
}
