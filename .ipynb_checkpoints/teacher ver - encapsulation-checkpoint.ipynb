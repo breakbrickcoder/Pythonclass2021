{
 "cells": [
  {
   "cell_type": "code",
   "execution_count": 2,
   "id": "39ccf849",
   "metadata": {},
   "outputs": [
    {
     "name": "stdout",
     "output_type": "stream",
     "text": [
      "Ram\n",
      "35\n"
     ]
    }
   ],
   "source": [
    "# Public members\n",
    "class Info:\n",
    "    def __init__(self,name,age):\n",
    "        self.name = name\n",
    "        self.age = age\n",
    "        \n",
    "obj = Info(\"Ram\",35)\n",
    "print(obj.name)\n",
    "print(obj.age)"
   ]
  },
  {
   "cell_type": "code",
   "execution_count": 4,
   "id": "0824335a",
   "metadata": {},
   "outputs": [
    {
     "name": "stdout",
     "output_type": "stream",
     "text": [
      "Ram\n",
      "35\n"
     ]
    }
   ],
   "source": [
    "# Protected members\n",
    "class Info:\n",
    "    def __init__(self,name,age):\n",
    "        self._name = name\n",
    "        self._age = age\n",
    "        \n",
    "obj = Info(\"Ram\",35)\n",
    "print(obj._name)\n",
    "print(obj._age)\n",
    "    "
   ]
  },
  {
   "cell_type": "code",
   "execution_count": 6,
   "id": "61c835db",
   "metadata": {},
   "outputs": [
    {
     "name": "stdout",
     "output_type": "stream",
     "text": [
      "Ram\n",
      "35\n"
     ]
    }
   ],
   "source": [
    "# Private members\n",
    "class Info:\n",
    "    def __init__(self,name,age):\n",
    "        self.__name = name\n",
    "        self.__age = age\n",
    "        \n",
    "obj = Info(\"Ram\",35)\n",
    "print(obj._Info__name)\n",
    "print(obj._Info__age) "
   ]
  },
  {
   "cell_type": "code",
   "execution_count": 16,
   "id": "ae4ffb70",
   "metadata": {},
   "outputs": [
    {
     "name": "stdout",
     "output_type": "stream",
     "text": [
      "Hello world, my name is Sujan, I am 45 years old.\n"
     ]
    }
   ],
   "source": [
    "class Info:\n",
    "    def __init__(self,name,sal,age):\n",
    "        self._name = name\n",
    "        self.__sal = sal\n",
    "        self.age = age\n",
    "     \n",
    "    def info(self):\n",
    "        print(\"My salary is {self.__sal}\")\n",
    "        \n",
    "class Office(Info):\n",
    "    \n",
    "    def office(self):\n",
    "        print(f\"Hello world, my name is {self._name}, I am {self.age} years old.\")\n",
    "        \n",
    "obj = Office(\"Sujan\",20000,45)\n",
    "obj.office()\n",
    "\n",
    "        \n",
    "    "
   ]
  },
  {
   "cell_type": "code",
   "execution_count": 18,
   "id": "f15a938f",
   "metadata": {},
   "outputs": [
    {
     "name": "stdout",
     "output_type": "stream",
     "text": [
      "Hello world my name is Sujan, I am 45 years old and my salary is 10000.\n",
      "Sujan\n",
      "10000\n",
      "45\n"
     ]
    }
   ],
   "source": [
    "class Info:\n",
    "    def __init__(self,name,sal,age):\n",
    "        self._name = name\n",
    "        self.__sal = sal\n",
    "        self.age = age\n",
    "    def info(self):\n",
    "        print(\"My salary is {self.__sal}\")\n",
    "        \n",
    "class Office(Info):\n",
    "    def office(self):\n",
    "        print(f\"Hello world my name is {self._name}, I am {self.age} years old and my salary is {self._Info__sal}.\")\n",
    "        \n",
    "obj = Office(\"Sujan\",10000,45)\n",
    "obj.office()\n",
    "\n",
    "print(obj._name)# to execute protected attribute, must give \"_\" as in above class method\n",
    "print(obj._Info__sal)# to execute private attribute, must call class and attribute eg.self._Info__sal     \n",
    "print(obj.age)\n",
    "        \n"
   ]
  },
  {
   "cell_type": "code",
   "execution_count": 19,
   "id": "d84d9894",
   "metadata": {},
   "outputs": [
    {
     "name": "stdout",
     "output_type": "stream",
     "text": [
      "My name is Ram, I am 45 and my salary is 20000.\n",
      "Ram\n",
      "45\n",
      "20000\n"
     ]
    }
   ],
   "source": [
    "# 2nd method using return type function\n",
    "\n",
    "class Info:\n",
    "    def __init__(self,name,age,sal):\n",
    "        self.name = name\n",
    "        self._age = age \n",
    "        self.__sal = sal\n",
    "        \n",
    "    def info(self):\n",
    "        return self.__sal\n",
    "    \n",
    "class Office(Info):\n",
    "    def office(self):\n",
    "        print(f\"My name is {self.name}, I am {self._age} and my salary is {Info.info(self)}.\")\n",
    "        \n",
    "obj = Office(\"Ram\",45,20000)\n",
    "obj.office()\n",
    "\n",
    "print(obj.name)\n",
    "print(obj._age)\n",
    "print(obj._Info__sal)\n"
   ]
  },
  {
   "cell_type": "code",
   "execution_count": 21,
   "id": "15d702b2",
   "metadata": {},
   "outputs": [
    {
     "name": "stdout",
     "output_type": "stream",
     "text": [
      "Hello world my name is Ram I live in Kathmandu and I am 34 years old.\n",
      "Ram\n",
      "Kathmandu\n",
      "34\n"
     ]
    }
   ],
   "source": [
    "# 3rd method using super()\n",
    "class Info:\n",
    "    def __init__(self,name,add,age):\n",
    "        self.name = name\n",
    "        self._add = add\n",
    "        self.__age = age\n",
    "        \n",
    "    def info(self):\n",
    "        return self.__age\n",
    "    \n",
    "class Office(Info):\n",
    "    def office(self):\n",
    "        print(f\"Hello world my name is {self.name} I live in {self._add} and I am {super().info()} years old.\")\n",
    "        \n",
    "obj = Office(\"Ram\",\"Kathmandu\",34)\n",
    "obj.office()\n",
    "\n",
    "print(obj.name)\n",
    "print(obj._add)\n",
    "print(obj._Info__age)"
   ]
  },
  {
   "cell_type": "code",
   "execution_count": 27,
   "id": "e8c0e677",
   "metadata": {},
   "outputs": [
    {
     "name": "stdout",
     "output_type": "stream",
     "text": [
      "Hello world my name is Ram, I live in Kathmandu and my salary is 10000.\n",
      "Ram\n",
      "10000\n",
      "Kathmandu\n"
     ]
    }
   ],
   "source": [
    "class Salary:\n",
    "    def __init__(self,sal):\n",
    "        self._sal = sal\n",
    "        \n",
    "    def salary(self):\n",
    "        print(self.sal)\n",
    "        \n",
    "class Info:\n",
    "    def __init__(self,add):\n",
    "        self.add = add\n",
    "        \n",
    "    def info(self):\n",
    "        print(self.add)\n",
    "        \n",
    "class Office(Salary,Info):\n",
    "    def __init__(self,name,sal,add):\n",
    "        self.__name = name\n",
    "        Salary.__init__(self,sal)\n",
    "        Info.__init__(self,add)\n",
    "        \n",
    "    def office(self):\n",
    "        print(f\"Hello world my name is {self.__name}, I live in {self.add} and my salary is {self._sal}.\")\n",
    "\n",
    "obj = Office(\"Ram\",10000,\"Kathmandu\")\n",
    "obj.office()\n",
    "\n",
    "print(obj._Office__name)\n",
    "print(obj._sal)\n",
    "print(obj.add)\n",
    "\n",
    "\n",
    "        "
   ]
  },
  {
   "cell_type": "code",
   "execution_count": 32,
   "id": "078a9c1b",
   "metadata": {},
   "outputs": [
    {
     "name": "stdout",
     "output_type": "stream",
     "text": [
      "25\n"
     ]
    }
   ],
   "source": [
    "#using @staticmethod\n",
    "class Area:\n",
    "    @staticmethod\n",
    "    def area(l,b):\n",
    "        a = l*b\n",
    "        print(a)  \n",
    "        \n",
    "obj = Area()\n",
    "obj.area(5,5)"
   ]
  },
  {
   "cell_type": "code",
   "execution_count": 34,
   "id": "d7725f00",
   "metadata": {},
   "outputs": [
    {
     "name": "stdout",
     "output_type": "stream",
     "text": [
      "Enter l = 3\n",
      "Enter b = 4\n",
      "Enter h = 5\n",
      "12\n",
      "5\n"
     ]
    }
   ],
   "source": [
    "class Area:\n",
    "    @staticmethod\n",
    "    def area(l,b):\n",
    "        a = l*b\n",
    "        print(a)\n",
    "\n",
    "class Volume:\n",
    "    @staticmethod\n",
    "    def vol(l,b,h):\n",
    "        v = l*b*h\n",
    "        print(h)\n",
    "        \n",
    "obj = Area()\n",
    "obj1 = Volume()\n",
    "\n",
    "l = int(input(\"Enter l = \"))\n",
    "b = int(input(\"Enter b = \"))\n",
    "h = int(input(\"Enter h = \"))\n",
    "obj.area(l,b)\n",
    "obj1.vol(l,b,h)"
   ]
  },
  {
   "cell_type": "code",
   "execution_count": null,
   "id": "e76173b8",
   "metadata": {},
   "outputs": [],
   "source": []
  }
 ],
 "metadata": {
  "kernelspec": {
   "display_name": "Python 3",
   "language": "python",
   "name": "python3"
  },
  "language_info": {
   "codemirror_mode": {
    "name": "ipython",
    "version": 3
   },
   "file_extension": ".py",
   "mimetype": "text/x-python",
   "name": "python",
   "nbconvert_exporter": "python",
   "pygments_lexer": "ipython3",
   "version": "3.8.8"
  }
 },
 "nbformat": 4,
 "nbformat_minor": 5
}
