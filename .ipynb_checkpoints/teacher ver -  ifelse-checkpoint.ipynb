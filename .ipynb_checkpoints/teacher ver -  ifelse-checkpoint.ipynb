{
 "cells": [
  {
   "cell_type": "code",
   "execution_count": 1,
   "id": "7d850d39",
   "metadata": {},
   "outputs": [],
   "source": [
    "# if else"
   ]
  },
  {
   "cell_type": "code",
   "execution_count": 2,
   "id": "31229e91",
   "metadata": {},
   "outputs": [],
   "source": [
    "#if <condition>:\n",
    "#    <operation>\n",
    "    \n",
    "# elif <condition>:\n",
    "#        <operation>\n",
    "    \n",
    "# else:\n",
    "#    <operation>"
   ]
  },
  {
   "cell_type": "code",
   "execution_count": 5,
   "id": "2bd1c60d",
   "metadata": {},
   "outputs": [
    {
     "name": "stdout",
     "output_type": "stream",
     "text": [
      "Enter a = 5\n",
      "5 is odd\n"
     ]
    }
   ],
   "source": [
    "a = int(input(\"Enter a = \"))\n",
    "if a%2 == 0:\n",
    "    print(a,\"is even\")\n",
    "else:\n",
    "    print(a,\"is odd\")\n"
   ]
  },
  {
   "cell_type": "code",
   "execution_count": 8,
   "id": "e6247311",
   "metadata": {},
   "outputs": [
    {
     "name": "stdout",
     "output_type": "stream",
     "text": [
      "Enter a = 30\n",
      "Enter b = 10\n",
      "30 is greater\n"
     ]
    }
   ],
   "source": [
    "a = int(input(\"Enter a = \"))\n",
    "b = int(input(\"Enter b = \"))\n",
    "if a<b:\n",
    "    print(b,\"is greater\")\n",
    "elif a>b:\n",
    "    print(a,\"is greater\")\n",
    "else:\n",
    "    print(\"Both are equal\")\n"
   ]
  },
  {
   "cell_type": "code",
   "execution_count": 17,
   "id": "8c81d5f3",
   "metadata": {
    "scrolled": true
   },
   "outputs": [
    {
     "name": "stdout",
     "output_type": "stream",
     "text": [
      "Enter a = 10\n",
      "Enter b = 2\n",
      "Enter + - * // = //\n",
      "5\n"
     ]
    }
   ],
   "source": [
    "# Conditions (true false)\n",
    "\n",
    "a = int(input(\"Enter a = \"))\n",
    "b = int(input(\"Enter b = \"))\n",
    "o = input(\"Enter + - * // = \")\n",
    "\n",
    "if o == \"+\":\n",
    "    print(a+b)\n",
    "elif o == \"-\":\n",
    "    print(a-b)\n",
    "elif o == \"*\":\n",
    "    print(a*b)\n",
    "elif o == \"//\":\n",
    "    print(a//b)\n",
    "else: \n",
    "    print(\"Invalid operator\")\n",
    "    "
   ]
  },
  {
   "cell_type": "code",
   "execution_count": 21,
   "id": "44b7c68f",
   "metadata": {},
   "outputs": [
    {
     "name": "stdout",
     "output_type": "stream",
     "text": [
      "Enter a = 6\n",
      "6 is right no\n"
     ]
    }
   ],
   "source": [
    "# and &\n",
    "# or \n",
    "a = int(input(\"Enter a = \"))\n",
    "if a%2==0 and a%3==0:\n",
    "    print(a,\"is right no\")\n",
    "else:\n",
    "    print(a,\"is not the no we want\")"
   ]
  },
  {
   "cell_type": "code",
   "execution_count": 23,
   "id": "95707dd7",
   "metadata": {},
   "outputs": [
    {
     "name": "stdout",
     "output_type": "stream",
     "text": [
      "Enter a = 10\n",
      "Enter b = 0\n",
      "Enter + - * / = /\n",
      "The value of b cannot be 0\n"
     ]
    }
   ],
   "source": [
    "a = int(input(\"Enter a = \"))\n",
    "b = int(input(\"Enter b = \"))\n",
    "o = input(\"Enter + - * / = \")\n",
    "\n",
    "if o == \"+\":\n",
    "    print(a+b)\n",
    "elif o == \"-\":\n",
    "    print(a-b)\n",
    "elif o == \"*\":\n",
    "    print(a*b)\n",
    "elif o == \"/\" and b!=0:\n",
    "    print(a/b) \n",
    "elif o == \"/\" and b==0:\n",
    "    print(\"The value of b cannot be 0\")\n",
    "else: \n",
    "    print(\"Invalid operator\")\n"
   ]
  },
  {
   "cell_type": "code",
   "execution_count": 24,
   "id": "42406c6e",
   "metadata": {},
   "outputs": [],
   "source": [
    "#Nested if\n",
    "# if <condtions>:\n",
    "#     if<condtions>:\n",
    "#         <operations>\n",
    "# elif<condtions>:\n",
    "#     <operations>\n",
    "# else:\n",
    "#     <operations>\n"
   ]
  },
  {
   "cell_type": "code",
   "execution_count": 36,
   "id": "81496a85",
   "metadata": {},
   "outputs": [
    {
     "name": "stdout",
     "output_type": "stream",
     "text": [
      "Enter a = 10\n",
      "Enter b = 0\n",
      "Enter + - * / = /\n",
      "value of b cannot be 0\n"
     ]
    }
   ],
   "source": [
    "a = int(input(\"Enter a = \"))\n",
    "b = int(input(\"Enter b = \"))\n",
    "o = input(\"Enter + - * / = \")\n",
    "\n",
    "if o == \"+\":\n",
    "    print(a+b)\n",
    "elif o == \"-\":\n",
    "    print(a-b)\n",
    "elif o == \"*\":\n",
    "    print(a*b)\n",
    "elif o == \"/\":\n",
    "    if b!=0:\n",
    "        print(a/b)\n",
    "    else:\n",
    "        print(\"value of b cannot be 0\")\n",
    "else:\n",
    "    print(\"Invalid operator\")\n"
   ]
  }
 ],
 "metadata": {
  "kernelspec": {
   "display_name": "Python 3",
   "language": "python",
   "name": "python3"
  }
 },
 "nbformat": 4,
 "nbformat_minor": 5
}
