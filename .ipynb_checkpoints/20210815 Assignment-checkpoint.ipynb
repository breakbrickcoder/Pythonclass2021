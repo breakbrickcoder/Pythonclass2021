{
 "cells": [
  {
   "cell_type": "code",
   "execution_count": null,
   "id": "2c6f8eeb",
   "metadata": {},
   "outputs": [],
   "source": [
    "#WAP to make dic inside list and its CRUD operation"
   ]
  },
  {
   "cell_type": "code",
   "execution_count": 1,
   "id": "f0bc429c",
   "metadata": {
    "scrolled": true
   },
   "outputs": [
    {
     "name": "stdout",
     "output_type": "stream",
     "text": [
      "Enter n = 2\n",
      "Enter name = ram\n",
      "Enter add = ktm\n",
      "Enter name = sam\n",
      "Enter add = ktm\n",
      "[{'ram': 'ktm', 'sam': 'ktm'}]\n"
     ]
    }
   ],
   "source": [
    "#Create one <value>\n",
    "a = {}\n",
    "n = int(input(\"Enter n = \"))\n",
    "for i in range(n):\n",
    "    name = input(\"Enter name = \")\n",
    "    add = input(\"Enter add = \")\n",
    "    a[name] = add\n",
    "    b = [a]\n",
    "print(b)\n",
    "    "
   ]
  },
  {
   "cell_type": "code",
   "execution_count": 2,
   "id": "46dc1288",
   "metadata": {},
   "outputs": [
    {
     "name": "stdout",
     "output_type": "stream",
     "text": [
      "{'ram': 'ktm', 'sam': 'ktm', 'hari': 'sundhara'}\n",
      "[{'ram': 'ktm', 'sam': 'ktm', 'hari': 'sundhara'}]\n"
     ]
    }
   ],
   "source": [
    "#pop()\n",
    "a = [{'ram': 'ktm', 'sam': 'ktm', 'hari': 'sundhara'}, {'ram': 'ktm', 'sam': 'ktm', 'hari': 'sundhara'}]\n",
    "b = a.pop(1)\n",
    "print(b)\n",
    "print(a)"
   ]
  },
  {
   "cell_type": "code",
   "execution_count": 3,
   "id": "3435d556",
   "metadata": {},
   "outputs": [
    {
     "name": "stdout",
     "output_type": "stream",
     "text": [
      "[]\n"
     ]
    }
   ],
   "source": [
    "#del\n",
    "a = [{'ram': ('ktm', 9398484), 'sam': ('ktm', 9384848484)}]\n",
    "del a[0]\n",
    "print(a)"
   ]
  },
  {
   "cell_type": "code",
   "execution_count": 4,
   "id": "773bc68e",
   "metadata": {},
   "outputs": [
    {
     "data": {
      "text/plain": [
       "[{'ram': 'ktm', 'sam': 'ktm', 'hari': 'sundhara'}]"
      ]
     },
     "execution_count": 4,
     "metadata": {},
     "output_type": "execute_result"
    }
   ],
   "source": [
    "#update, edit\n",
    "a = [{'ram': 'ktm', 'sam': 'ktm'}]\n",
    "a[0][\"hari\"] = \"sundhara\"\n",
    "a"
   ]
  },
  {
   "cell_type": "code",
   "execution_count": 5,
   "id": "2deeb5e4",
   "metadata": {},
   "outputs": [
    {
     "name": "stdout",
     "output_type": "stream",
     "text": [
      "[{'ram': 'ktm', 'sam': 'ktm', 'hari': 'sundhara'}, {'sonam': 'birgunj'}]\n"
     ]
    }
   ],
   "source": [
    "#extend\n",
    "a = [{'ram': 'ktm', 'sam': 'ktm', 'hari': 'sundhara'}]\n",
    "b = [{\"sonam\":\"birgunj\"}]\n",
    "a.extend(b)\n",
    "print(a)"
   ]
  },
  {
   "cell_type": "code",
   "execution_count": null,
   "id": "bc6f6dbb",
   "metadata": {},
   "outputs": [],
   "source": []
  }
 ],
 "metadata": {
  "kernelspec": {
   "display_name": "Python 3",
   "language": "python",
   "name": "python3"
  },
  "language_info": {
   "codemirror_mode": {
    "name": "ipython",
    "version": 3
   },
   "file_extension": ".py",
   "mimetype": "text/x-python",
   "name": "python",
   "nbconvert_exporter": "python",
   "pygments_lexer": "ipython3",
   "version": "3.8.8"
  }
 },
 "nbformat": 4,
 "nbformat_minor": 5
}
