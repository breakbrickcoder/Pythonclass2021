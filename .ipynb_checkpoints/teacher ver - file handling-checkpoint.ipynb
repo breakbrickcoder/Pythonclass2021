{
 "cells": [
  {
   "cell_type": "code",
   "execution_count": 2,
   "id": "3b13de8d",
   "metadata": {},
   "outputs": [],
   "source": [
    "b = open('data.txt','x')\n",
    "b.close()"
   ]
  },
  {
   "cell_type": "code",
   "execution_count": 4,
   "id": "08f33809",
   "metadata": {},
   "outputs": [
    {
     "name": "stdout",
     "output_type": "stream",
     "text": [
      "1.Hello world\n",
      "2.Hello world\n",
      "3.Hello world\n",
      "4.Hello world\n",
      "5.Hello world\n",
      "6.Hello world\n",
      "7.Hello world\n"
     ]
    }
   ],
   "source": [
    "b = open('data.txt','r')\n",
    "print(b.read())\n",
    "b.close()"
   ]
  },
  {
   "cell_type": "code",
   "execution_count": 5,
   "id": "acae8f28",
   "metadata": {},
   "outputs": [
    {
     "name": "stdout",
     "output_type": "stream",
     "text": [
      "1.Hello world\n",
      "2.Hello world\n",
      "3.Hello world\n",
      "4.Hello \n"
     ]
    }
   ],
   "source": [
    "#to read number of characters\n",
    "b = open('data.txt','r')\n",
    "print(b.read(50))\n",
    "b.close()"
   ]
  },
  {
   "cell_type": "code",
   "execution_count": 1,
   "id": "f6847b80",
   "metadata": {},
   "outputs": [
    {
     "name": "stdout",
     "output_type": "stream",
     "text": [
      "1.Hello world\n",
      "\n",
      "2.Hello world\n",
      "\n"
     ]
    }
   ],
   "source": [
    "#to read line\n",
    "b = open('data.txt','r')\n",
    "print(b.readline())\n",
    "print(b.readline())\n",
    "b.close()"
   ]
  },
  {
   "cell_type": "code",
   "execution_count": 5,
   "id": "23172736",
   "metadata": {},
   "outputs": [
    {
     "name": "stdout",
     "output_type": "stream",
     "text": [
      "Enter n 7\n",
      "ggggggggggggggggggggggggggggggggggggggggggggggggggggggggggggg\n",
      "\n"
     ]
    }
   ],
   "source": [
    "b = open('data.txt','r')\n",
    "n = int(input(\"Enter n \"))\n",
    "for i in range(1,8):\n",
    "    if i != n:\n",
    "        b.readline()\n",
    "    else:\n",
    "        print(b.readline())\n",
    "b.close()"
   ]
  },
  {
   "cell_type": "code",
   "execution_count": 13,
   "id": "e1d81ba6",
   "metadata": {},
   "outputs": [],
   "source": [
    "# to write we have to use 'a'\n",
    "\n",
    "b = open('data.txt', 'a')\n",
    "b.write('Hello my name is Python''\\n')\n",
    "b.close()"
   ]
  },
  {
   "cell_type": "code",
   "execution_count": 14,
   "id": "3d43b779",
   "metadata": {},
   "outputs": [
    {
     "name": "stdout",
     "output_type": "stream",
     "text": [
      "1.Hello world\n",
      "2.Hello world\n",
      "3.Hello world\n",
      "4.Hello world\n",
      "5.Hello world\n",
      "6.Hello world\n",
      "ggggggggggggggggggggggggggggggggggggggggggggggggggggggggggggg\n",
      "ggggggggggggggggggggggggggggggggggggggggggggggg\n",
      "7.Hello worldHello my name is PythonHello my name is Python\n",
      "Hello my name is Python\n",
      "Hello my name is Python\n",
      "\n"
     ]
    }
   ],
   "source": [
    "b = open('data.txt','r')\n",
    "print(b.read())"
   ]
  },
  {
   "cell_type": "code",
   "execution_count": 15,
   "id": "39121eeb",
   "metadata": {},
   "outputs": [
    {
     "name": "stdout",
     "output_type": "stream",
     "text": [
      "1.Hello world\n",
      "2.Hello world\n",
      "3.Hello world\n",
      "4.Hello world\n",
      "5.Hello world\n",
      "6.Hello world\n",
      "7.Hello world\n",
      "Hello my name is Python\n"
     ]
    }
   ],
   "source": [
    "b = open('data.txt','r')\n",
    "print(b.read())\n",
    "b.close()"
   ]
  },
  {
   "cell_type": "code",
   "execution_count": 18,
   "id": "35b01502",
   "metadata": {},
   "outputs": [],
   "source": [
    "b = open('data.txt','a')\n",
    "b.write('I like to work on my project x.''\\n')\n",
    "b.close()"
   ]
  },
  {
   "cell_type": "code",
   "execution_count": 19,
   "id": "43132d0f",
   "metadata": {},
   "outputs": [
    {
     "name": "stdout",
     "output_type": "stream",
     "text": [
      "1.Hello world\n",
      "2.Hello world\n",
      "3.Hello world\n",
      "4.Hello world\n",
      "5.Hello world\n",
      "6.Hello world\n",
      "7.Hello world\n",
      "Hello my name is PythonI like to work on my project x.I like to work on my project x.\n",
      "\n"
     ]
    }
   ],
   "source": [
    "b = open('data.txt','r')\n",
    "print(b.read())\n",
    "b.close()"
   ]
  },
  {
   "cell_type": "code",
   "execution_count": 23,
   "id": "0203d1da",
   "metadata": {},
   "outputs": [],
   "source": [
    "with open('sample.txt','a') as file_object:\n",
    "    file_object.write(\"hello this is a sample file and it contains a sample text\")\n",
    "    \n"
   ]
  },
  {
   "cell_type": "code",
   "execution_count": 22,
   "id": "b1f9ae93",
   "metadata": {},
   "outputs": [
    {
     "ename": "UnsupportedOperation",
     "evalue": "not readable",
     "output_type": "error",
     "traceback": [
      "\u001b[1;31m---------------------------------------------------------------------------\u001b[0m",
      "\u001b[1;31mUnsupportedOperation\u001b[0m                      Traceback (most recent call last)",
      "\u001b[1;32m<ipython-input-22-cc97e7059f9c>\u001b[0m in \u001b[0;36m<module>\u001b[1;34m\u001b[0m\n\u001b[0;32m      1\u001b[0m \u001b[1;32mwith\u001b[0m \u001b[0mopen\u001b[0m\u001b[1;33m(\u001b[0m\u001b[1;34m'sample.txt'\u001b[0m\u001b[1;33m,\u001b[0m\u001b[1;34m'a'\u001b[0m\u001b[1;33m)\u001b[0m \u001b[1;32mas\u001b[0m \u001b[0mfile_object\u001b[0m\u001b[1;33m:\u001b[0m\u001b[1;33m\u001b[0m\u001b[1;33m\u001b[0m\u001b[0m\n\u001b[1;32m----> 2\u001b[1;33m     \u001b[0mprint\u001b[0m\u001b[1;33m(\u001b[0m\u001b[0mfile_object\u001b[0m\u001b[1;33m.\u001b[0m\u001b[0mread\u001b[0m\u001b[1;33m(\u001b[0m\u001b[1;33m)\u001b[0m\u001b[1;33m)\u001b[0m\u001b[1;33m\u001b[0m\u001b[1;33m\u001b[0m\u001b[0m\n\u001b[0m",
      "\u001b[1;31mUnsupportedOperation\u001b[0m: not readable"
     ]
    }
   ],
   "source": [
    "with open('sample.txt','a') as file_object:\n",
    "    print(file_object.read())"
   ]
  },
  {
   "cell_type": "code",
   "execution_count": 26,
   "id": "8641c0fa",
   "metadata": {},
   "outputs": [],
   "source": [
    "with open('sample2.txt','a+') as file_object:\n",
    "    file_object.seek(0)\n",
    "    data = file_object.read(100)\n",
    "    if len(data) > 0:\n",
    "        file_object.write(\"\\n\")\n",
    "    file_object.write(\"hello world this is awesome\")"
   ]
  },
  {
   "cell_type": "code",
   "execution_count": 27,
   "id": "9403a3e3",
   "metadata": {},
   "outputs": [
    {
     "name": "stdout",
     "output_type": "stream",
     "text": [
      "hello world this is awesome\n"
     ]
    }
   ],
   "source": [
    "b = open('sample2.txt','r')\n",
    "print(b.read())\n",
    "b.close()"
   ]
  },
  {
   "cell_type": "code",
   "execution_count": 28,
   "id": "72a998e8",
   "metadata": {},
   "outputs": [],
   "source": [
    "with open('sample2.txt','a+') as file_object:\n",
    "    file_object.seek(0)\n",
    "    data = file_object.read(100)\n",
    "    if len(data) > 0:\n",
    "        file_object.write(\"\\n\")\n",
    "    file_object.write(\"hello world this is wonder\")"
   ]
  },
  {
   "cell_type": "code",
   "execution_count": 29,
   "id": "34e5ab24",
   "metadata": {},
   "outputs": [
    {
     "name": "stdout",
     "output_type": "stream",
     "text": [
      "hello world this is awesome\n",
      "hello world this is wonder\n"
     ]
    }
   ],
   "source": [
    "b = open('sample2.txt','r')\n",
    "print(b.read())\n",
    "b.close()"
   ]
  },
  {
   "cell_type": "code",
   "execution_count": 38,
   "id": "c19fa021",
   "metadata": {},
   "outputs": [],
   "source": [
    "def append_new_line(file_name, txt_to_append):\n",
    "    \"\"\"Append given text as a new line at the end of the file\"\"\"\n",
    "    with open('file_name','a+') as file_object:\n",
    "        file_object.seek(0)\n",
    "        data = file_object.read(100)\n",
    "        if len(data) > 0:\n",
    "            file_object.write(\"\\n\")\n",
    "            file_object.write(txt_to_append)"
   ]
  },
  {
   "cell_type": "code",
   "execution_count": 39,
   "id": "63628157",
   "metadata": {},
   "outputs": [],
   "source": [
    "append_new_line('sample3.txt','This is first line')"
   ]
  },
  {
   "cell_type": "code",
   "execution_count": 40,
   "id": "1b98c10d",
   "metadata": {},
   "outputs": [],
   "source": [
    "append_new_line('sample3.txt','This is second line')"
   ]
  },
  {
   "cell_type": "code",
   "execution_count": 41,
   "id": "d2155e2f",
   "metadata": {},
   "outputs": [
    {
     "ename": "FileNotFoundError",
     "evalue": "[Errno 2] No such file or directory: 'sample3.txt'",
     "output_type": "error",
     "traceback": [
      "\u001b[1;31m---------------------------------------------------------------------------\u001b[0m",
      "\u001b[1;31mFileNotFoundError\u001b[0m                         Traceback (most recent call last)",
      "\u001b[1;32m<ipython-input-41-e57eaf01c261>\u001b[0m in \u001b[0;36m<module>\u001b[1;34m\u001b[0m\n\u001b[1;32m----> 1\u001b[1;33m \u001b[0mfile_object\u001b[0m \u001b[1;33m=\u001b[0m \u001b[0mopen\u001b[0m\u001b[1;33m(\u001b[0m\u001b[1;34m'sample3.txt'\u001b[0m\u001b[1;33m,\u001b[0m\u001b[1;34m'r'\u001b[0m\u001b[1;33m)\u001b[0m\u001b[1;33m\u001b[0m\u001b[1;33m\u001b[0m\u001b[0m\n\u001b[0m\u001b[0;32m      2\u001b[0m \u001b[0mprint\u001b[0m\u001b[1;33m(\u001b[0m\u001b[0mfile_object\u001b[0m\u001b[1;33m.\u001b[0m\u001b[0mread\u001b[0m\u001b[1;33m(\u001b[0m\u001b[1;33m)\u001b[0m\u001b[1;33m)\u001b[0m\u001b[1;33m\u001b[0m\u001b[1;33m\u001b[0m\u001b[0m\n",
      "\u001b[1;31mFileNotFoundError\u001b[0m: [Errno 2] No such file or directory: 'sample3.txt'"
     ]
    }
   ],
   "source": [
    "file_object = open('sample3.txt','r')\n",
    "print(file_object.read())\n"
   ]
  },
  {
   "cell_type": "code",
   "execution_count": 49,
   "id": "0ce5e60d",
   "metadata": {},
   "outputs": [
    {
     "name": "stdout",
     "output_type": "stream",
     "text": [
      "Enter n = 2\n",
      "Enter name = ram\n",
      "Enter add = ktm\n",
      "Enter phone no.= 94848438\n",
      "Enter name = sam\n",
      "Enter add = ktm\n",
      "Enter phone no.= 94848348348\n",
      "ram ktm 94848438\n",
      "sam ktm 94848348348\n",
      "\n"
     ]
    }
   ],
   "source": [
    "s = str()\n",
    "n = int(input(\"Enter n = \"))\n",
    "for i in range(n):\n",
    "    name = input(\"Enter name = \")\n",
    "    add = input(\"Enter add = \")\n",
    "    phone = int(input(\"Enter phone no.= \"))\n",
    "    info = f\"{name} {add} {phone}\\n\"\n",
    "    s = s+info\n",
    "    \n",
    "print(s)\n",
    "b = open('data.txt','a')\n",
    "b.write(s)\n",
    "\n",
    "b.close()"
   ]
  },
  {
   "cell_type": "code",
   "execution_count": 51,
   "id": "d52e4284",
   "metadata": {},
   "outputs": [
    {
     "name": "stdout",
     "output_type": "stream",
     "text": [
      "1.Hello world\n",
      "2.Hello world\n",
      "3.Hello world\n",
      "4.Hello world\n",
      "5.Hello world\n",
      "6.Hello world\n",
      "7.Hello world\n",
      "Hello my name is PythonI like to work on my project x.I like to work on my project x.\n",
      "ram ktm 94848438\n",
      "sam ktm 94848348348\n",
      "\n"
     ]
    }
   ],
   "source": [
    "b = open('data.txt','r')\n",
    "print(b.read())\n",
    "\n",
    "b.close()"
   ]
  },
  {
   "cell_type": "markdown",
   "id": "6aac071a",
   "metadata": {},
   "source": []
  },
  {
   "cell_type": "code",
   "execution_count": 67,
   "id": "529465f8",
   "metadata": {},
   "outputs": [
    {
     "name": "stdout",
     "output_type": "stream",
     "text": [
      "Enter n = 2\n",
      "Enter name = ram\n",
      "Enter add = ktm\n",
      "Enter phone no.= 94848\n",
      "Enter name = sam\n",
      "Enter add = ktm\n",
      "Enter phone no.= 83838\n",
      "ram,ktm,94848\n",
      "sam,ktm,83838\n",
      "\n"
     ]
    }
   ],
   "source": [
    "s = str()\n",
    "b = open('data.csv','w')\n",
    "b.write(\"Name,Add,Phone\\n\")\n",
    "n = int(input(\"Enter n = \"))\n",
    "for i in range(n):\n",
    "    name = input(\"Enter name = \")\n",
    "    add = input(\"Enter add = \")\n",
    "    phone = int(input(\"Enter phone no.= \"))\n",
    "    info = f\"{name},{add},{phone}\\n\"\n",
    "    s = s+info\n",
    "    \n",
    "print(s)\n",
    "\n",
    "b.write(s)\n",
    "b.close()\n"
   ]
  },
  {
   "cell_type": "code",
   "execution_count": 56,
   "id": "a04e3f55",
   "metadata": {},
   "outputs": [],
   "source": [
    "import os\n",
    "os.remove('data.csv')"
   ]
  },
  {
   "cell_type": "code",
   "execution_count": 58,
   "id": "ad2b279b",
   "metadata": {},
   "outputs": [],
   "source": [
    "import os\n",
    "os.remove('data.txt')"
   ]
  },
  {
   "cell_type": "code",
   "execution_count": 59,
   "id": "94240456",
   "metadata": {},
   "outputs": [],
   "source": [
    "import os\n",
    "os.remove('sample2.txt')"
   ]
  },
  {
   "cell_type": "code",
   "execution_count": 62,
   "id": "24248eae",
   "metadata": {},
   "outputs": [],
   "source": [
    "import os\n",
    "os.remove('file_name')"
   ]
  },
  {
   "cell_type": "code",
   "execution_count": 65,
   "id": "786f4d6a",
   "metadata": {},
   "outputs": [],
   "source": [
    "import os\n",
    "if os.path.exists('data.csv'):\n",
    "    os.remove('data.csv')\n",
    "else:\n",
    "    print(\"There is no file.\")"
   ]
  },
  {
   "cell_type": "code",
   "execution_count": 66,
   "id": "373811e1",
   "metadata": {},
   "outputs": [
    {
     "name": "stdout",
     "output_type": "stream",
     "text": [
      "There is no file.\n"
     ]
    }
   ],
   "source": [
    "import os\n",
    "if os.path.exists('data.csv'):\n",
    "    os.remove('data.csv')\n",
    "else:\n",
    "    print(\"There is no file.\")"
   ]
  },
  {
   "cell_type": "code",
   "execution_count": 68,
   "id": "6ac832f6",
   "metadata": {},
   "outputs": [
    {
     "data": {
      "text/plain": [
       "'Untitled Folder\\\\data.csv'"
      ]
     },
     "execution_count": 68,
     "metadata": {},
     "output_type": "execute_result"
    }
   ],
   "source": [
    "#Copy with shutil\n",
    "import shutil as s\n",
    "s.copy('data.csv','Untitled Folder')\n"
   ]
  },
  {
   "cell_type": "code",
   "execution_count": 69,
   "id": "88cb94fd",
   "metadata": {},
   "outputs": [
    {
     "data": {
      "text/plain": [
       "'Untitled Folder1'"
      ]
     },
     "execution_count": 69,
     "metadata": {},
     "output_type": "execute_result"
    }
   ],
   "source": [
    "import shutil as s\n",
    "s.copytree('Untitled Folder','Untitled Folder1')"
   ]
  },
  {
   "cell_type": "code",
   "execution_count": 71,
   "id": "ab207b1a",
   "metadata": {},
   "outputs": [],
   "source": [
    "import os\n",
    "os.rename('Untitled Folder1','Sample folder')"
   ]
  },
  {
   "cell_type": "code",
   "execution_count": 73,
   "id": "7ee4a746",
   "metadata": {},
   "outputs": [
    {
     "data": {
      "text/plain": [
       "'D:/Sample folder'"
      ]
     },
     "execution_count": 73,
     "metadata": {},
     "output_type": "execute_result"
    }
   ],
   "source": [
    "import shutil as s\n",
    "s.move('Sample folder','D:/')"
   ]
  },
  {
   "cell_type": "code",
   "execution_count": null,
   "id": "e6706378",
   "metadata": {},
   "outputs": [],
   "source": []
  }
 ],
 "metadata": {
  "kernelspec": {
   "display_name": "Python 3",
   "language": "python",
   "name": "python3"
  },
  "language_info": {
   "codemirror_mode": {
    "name": "ipython",
    "version": 3
   },
   "file_extension": ".py",
   "mimetype": "text/x-python",
   "name": "python",
   "nbconvert_exporter": "python",
   "pygments_lexer": "ipython3",
   "version": "3.8.8"
  }
 },
 "nbformat": 4,
 "nbformat_minor": 5
}
