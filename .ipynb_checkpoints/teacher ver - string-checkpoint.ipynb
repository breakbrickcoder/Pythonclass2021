{
 "cells": [
  {
   "cell_type": "code",
   "execution_count": 1,
   "id": "3d246864",
   "metadata": {},
   "outputs": [
    {
     "name": "stdout",
     "output_type": "stream",
     "text": [
      "<class 'str'>\n"
     ]
    }
   ],
   "source": [
    "a = \"Hello world\"\n",
    "print (type(a))"
   ]
  },
  {
   "cell_type": "code",
   "execution_count": 2,
   "id": "c5421b65",
   "metadata": {},
   "outputs": [
    {
     "name": "stdout",
     "output_type": "stream",
     "text": [
      "<class 'int'>\n",
      "<class 'str'>\n"
     ]
    }
   ],
   "source": [
    "a = 10\n",
    "b = \"10\"\n",
    "print(type(a))\n",
    "print(type(b))"
   ]
  },
  {
   "cell_type": "code",
   "execution_count": 3,
   "id": "b9805899",
   "metadata": {},
   "outputs": [
    {
     "name": "stdout",
     "output_type": "stream",
     "text": [
      "Hello worldHello worldHello worldHello world\n"
     ]
    }
   ],
   "source": [
    "a = \"Hello world\"\n",
    "print (a*4)"
   ]
  },
  {
   "cell_type": "code",
   "execution_count": 4,
   "id": "5118bea1",
   "metadata": {},
   "outputs": [
    {
     "name": "stdout",
     "output_type": "stream",
     "text": [
      "Hello world\n",
      "Hello world\n",
      "Hello world\n",
      "Hello world\n",
      "\n"
     ]
    }
   ],
   "source": [
    "a = \"Hello world\\n\"\n",
    "print (a*4)"
   ]
  },
  {
   "cell_type": "code",
   "execution_count": 6,
   "id": "8460a293",
   "metadata": {},
   "outputs": [
    {
     "name": "stdout",
     "output_type": "stream",
     "text": [
      "Hello world\n"
     ]
    }
   ],
   "source": [
    "a = \"Hello \"\n",
    "b = \"world\"\n",
    "print (a+b)     #concatenate the values of multiple variables"
   ]
  },
  {
   "cell_type": "code",
   "execution_count": 7,
   "id": "0c54a59d",
   "metadata": {},
   "outputs": [
    {
     "data": {
      "text/plain": [
       "'H'"
      ]
     },
     "execution_count": 7,
     "metadata": {},
     "output_type": "execute_result"
    }
   ],
   "source": [
    "a = \"Hello world\"\n",
    "a[0]"
   ]
  },
  {
   "cell_type": "code",
   "execution_count": 8,
   "id": "8e656cd2",
   "metadata": {},
   "outputs": [
    {
     "data": {
      "text/plain": [
       "'Hello '"
      ]
     },
     "execution_count": 8,
     "metadata": {},
     "output_type": "execute_result"
    }
   ],
   "source": [
    "a = \"Hello world\"\n",
    "a[0:6]              # slicing method in string"
   ]
  },
  {
   "cell_type": "code",
   "execution_count": 9,
   "id": "4d64bf45",
   "metadata": {},
   "outputs": [
    {
     "data": {
      "text/plain": [
       "'Hlo'"
      ]
     },
     "execution_count": 9,
     "metadata": {},
     "output_type": "execute_result"
    }
   ],
   "source": [
    "a = \"Hello world\"\n",
    "a[0:6:2]          #it will start from 0 till 6 but will have an increment of 2"
   ]
  },
  {
   "cell_type": "code",
   "execution_count": 10,
   "id": "43723d77",
   "metadata": {},
   "outputs": [
    {
     "data": {
      "text/plain": [
       "'d'"
      ]
     },
     "execution_count": 10,
     "metadata": {},
     "output_type": "execute_result"
    }
   ],
   "source": [
    "a = \"Hello world\"\n",
    "a[-1]              #it will start from last letter/value"
   ]
  },
  {
   "cell_type": "code",
   "execution_count": 11,
   "id": "3203333f",
   "metadata": {},
   "outputs": [
    {
     "data": {
      "text/plain": [
       "'l'"
      ]
     },
     "execution_count": 11,
     "metadata": {},
     "output_type": "execute_result"
    }
   ],
   "source": [
    "a = \"Hello world\"\n",
    "a[-2]"
   ]
  },
  {
   "cell_type": "code",
   "execution_count": 12,
   "id": "ea9d77ab",
   "metadata": {},
   "outputs": [
    {
     "name": "stdout",
     "output_type": "stream",
     "text": [
      "11\n"
     ]
    }
   ],
   "source": [
    "a = \"Hello world\"\n",
    "n = len(a)\n",
    "print(n)"
   ]
  },
  {
   "cell_type": "code",
   "execution_count": 17,
   "id": "ecd80b0c",
   "metadata": {},
   "outputs": [
    {
     "data": {
      "text/plain": [
       "'dlrow olleH'"
      ]
     },
     "execution_count": 17,
     "metadata": {},
     "output_type": "execute_result"
    }
   ],
   "source": [
    "a = \"Hello world\"\n",
    "n = len(a)\n",
    "a[n::-1]               #reverse print"
   ]
  },
  {
   "cell_type": "code",
   "execution_count": 19,
   "id": "2ad3ca74",
   "metadata": {},
   "outputs": [
    {
     "name": "stdout",
     "output_type": "stream",
     "text": [
      "Apple Orange\n"
     ]
    }
   ],
   "source": [
    "# concate values\n",
    "a = \"Apple \"\n",
    "b = \"Orange\"\n",
    "print(a+b)"
   ]
  },
  {
   "cell_type": "code",
   "execution_count": 20,
   "id": "d41e891e",
   "metadata": {},
   "outputs": [
    {
     "name": "stdout",
     "output_type": "stream",
     "text": [
      "Enter name = ram\n",
      "Yes\n",
      "1\n"
     ]
    }
   ],
   "source": [
    "#Search\n",
    "a = \"Ram sita hari sam gita ram\"\n",
    "name = input(\"Enter name = \")\n",
    "if name in a:\n",
    "    print(\"Yes\")\n",
    "    c = a.count(name)\n",
    "    print(c)\n",
    "    "
   ]
  },
  {
   "cell_type": "code",
   "execution_count": 21,
   "id": "688f8113",
   "metadata": {},
   "outputs": [
    {
     "name": "stdout",
     "output_type": "stream",
     "text": [
      "ram sita hari sam gita ram\n",
      "RAM SITA HARI SAM GITA RAM\n"
     ]
    }
   ],
   "source": [
    "#changin cases\n",
    "a = \"Ram sita hari sam gita ram\"\n",
    "\n",
    "print(a.lower())\n",
    "print(a.upper())\n",
    "    "
   ]
  },
  {
   "cell_type": "code",
   "execution_count": 22,
   "id": "af1e50dc",
   "metadata": {},
   "outputs": [
    {
     "name": "stdout",
     "output_type": "stream",
     "text": [
      "Enter name = Ram\n",
      "Yes\n",
      "2\n"
     ]
    }
   ],
   "source": [
    "# to remove case sensitive\n",
    "\n",
    "a = \"Ram sita hari sam gita ram\"\n",
    "a_lower = a.lower()\n",
    "name = input(\"Enter name = \")\n",
    "name_lower = name.lower()\n",
    "if name_lower in a_lower:\n",
    "    print(\"Yes\")\n",
    "    c = a_lower.count(name_lower)\n",
    "    print(c)\n",
    "    "
   ]
  },
  {
   "cell_type": "code",
   "execution_count": 25,
   "id": "75bddd42",
   "metadata": {},
   "outputs": [
    {
     "name": "stdout",
     "output_type": "stream",
     "text": [
      "Enter name = bin\n",
      "Enter age = 35\n",
      "Enter add = ktm\n",
      "Hello world I am bin. I am from ktm. I am 35\n"
     ]
    }
   ],
   "source": [
    "#String formatting\n",
    "name = input(\"Enter name = \")\n",
    "age = input(\"Enter age = \")\n",
    "add = input(\"Enter add = \")\n",
    "info = f\"Hello world I am {name}. I am from {add}. I am {age}.\"\n",
    "print(info)"
   ]
  },
  {
   "cell_type": "code",
   "execution_count": 1,
   "id": "ad2f2fd9",
   "metadata": {},
   "outputs": [
    {
     "name": "stdout",
     "output_type": "stream",
     "text": [
      "Enter n = 1\n",
      "Enter name = ram\n",
      "Enter age = 23\n",
      "Enter add = ktm\n",
      "ram 23 ktm\n",
      "\n"
     ]
    }
   ],
   "source": [
    "s = str()\n",
    "n = int(input(\"Enter n = \"))\n",
    "for i in range(n):\n",
    "    name = input(\"Enter name = \")\n",
    "    age = input(\"Enter age = \")\n",
    "    add = input(\"Enter add = \")\n",
    "    info = f\"{name} {age} {add}\\n\"\n",
    "    s = s+info\n",
    "\n",
    "print(s)"
   ]
  },
  {
   "cell_type": "code",
   "execution_count": 4,
   "id": "1e7f3bbd",
   "metadata": {},
   "outputs": [
    {
     "name": "stdout",
     "output_type": "stream",
     "text": [
      "Enter n = 2\n",
      "Enter product = egg\n",
      "Enter price = 45\n",
      "Enter quantity = 3\n",
      "Enter product = apple\n",
      "Enter price = 45\n",
      "Enter quantity = 34\n",
      "egg 45 3 135\n",
      "apple 45 34 1530\n",
      "\n",
      "1665\n"
     ]
    }
   ],
   "source": [
    "#billing system with formating string\n",
    "s = str()\n",
    "grand_total = 0\n",
    "n = int(input(\"Enter n = \"))\n",
    "for i in range(n):\n",
    "    product = input(\"Enter product = \")\n",
    "    price = int(input(\"Enter price = \"))\n",
    "    quantity = int(input(\"Enter quantity = \"))\n",
    "    total = price*quantity \n",
    "    info = f\"{product} {price} {quantity} {total}\\n\"\n",
    "    s = s+info\n",
    "    grand_total = grand_total+total\n",
    "\n",
    "print(s)\n",
    "print(grand_total)"
   ]
  },
  {
   "cell_type": "code",
   "execution_count": 5,
   "id": "2be08d8a",
   "metadata": {},
   "outputs": [
    {
     "name": "stdout",
     "output_type": "stream",
     "text": [
      "rama, hari, sam, sita, gita\n"
     ]
    }
   ],
   "source": [
    "#replacing value\n",
    "a = \"Ram, hari, sam, sita, gita\"\n",
    "b = a.replace(\"Ram\", \"rama\")     #immutable data type, where you should assign variable to replace value\n",
    "print(b)"
   ]
  },
  {
   "cell_type": "code",
   "execution_count": 8,
   "id": "08487113",
   "metadata": {},
   "outputs": [
    {
     "name": "stdout",
     "output_type": "stream",
     "text": [
      " hari sam sita gita\n"
     ]
    }
   ],
   "source": [
    "#deleting value\n",
    "a = \"Ram hari sam sita gita\"\n",
    "b = a.replace(\"Ram\",\"\")     \n",
    "print(b)"
   ]
  },
  {
   "cell_type": "code",
   "execution_count": 9,
   "id": "668f5946",
   "metadata": {},
   "outputs": [
    {
     "name": "stdout",
     "output_type": "stream",
     "text": [
      "egg 45 3 135\n",
      "apple 45 34 1530\n",
      "\n"
     ]
    }
   ],
   "source": [
    "print(s)"
   ]
  },
  {
   "cell_type": "code",
   "execution_count": 10,
   "id": "58ea41e7",
   "metadata": {},
   "outputs": [
    {
     "data": {
      "text/plain": [
       "['egg 45 3 135', 'apple 45 34 1530', '']"
      ]
     },
     "execution_count": 10,
     "metadata": {},
     "output_type": "execute_result"
    }
   ],
   "source": [
    "s.split(\"\\n\") #to change any data you require to put in array. for this you need to split the data"
   ]
  },
  {
   "cell_type": "code",
   "execution_count": null,
   "id": "56a7507e",
   "metadata": {},
   "outputs": [],
   "source": []
  }
 ],
 "metadata": {
  "kernelspec": {
   "display_name": "Python 3",
   "language": "python",
   "name": "python3"
  },
  "language_info": {
   "codemirror_mode": {
    "name": "ipython",
    "version": 3
   },
   "file_extension": ".py",
   "mimetype": "text/x-python",
   "name": "python",
   "nbconvert_exporter": "python",
   "pygments_lexer": "ipython3",
   "version": "3.8.8"
  }
 },
 "nbformat": 4,
 "nbformat_minor": 5
}
