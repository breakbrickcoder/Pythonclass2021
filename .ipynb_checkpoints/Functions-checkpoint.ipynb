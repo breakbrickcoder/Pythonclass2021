{
 "cells": [
  {
   "cell_type": "code",
   "execution_count": 1,
   "id": "d0d7cd4b",
   "metadata": {},
   "outputs": [],
   "source": [
    "# user definded functions\n",
    "# pre-definded functions"
   ]
  },
  {
   "cell_type": "code",
   "execution_count": 2,
   "id": "98142671",
   "metadata": {},
   "outputs": [],
   "source": [
    "# pre-definded functions\n",
    "# print()\n",
    "# type()\n",
    "# int()\n",
    "# input()\n",
    "# str()\n",
    "# float()"
   ]
  },
  {
   "cell_type": "code",
   "execution_count": 3,
   "id": "ab6debd5",
   "metadata": {},
   "outputs": [],
   "source": [
    "# def<function_name>():\n",
    "#     <operations>\n",
    "\n",
    "# <function_name>()"
   ]
  },
  {
   "cell_type": "code",
   "execution_count": 6,
   "id": "783e1a8d",
   "metadata": {},
   "outputs": [
    {
     "name": "stdout",
     "output_type": "stream",
     "text": [
      "hello world\n"
     ]
    }
   ],
   "source": [
    "def hello():           #created user defined function\n",
    "    print(\"hello world\")\n",
    "hello()               # call the function, doesn't excute the operation without calling the function created"
   ]
  },
  {
   "cell_type": "code",
   "execution_count": 7,
   "id": "5289c1ca",
   "metadata": {},
   "outputs": [
    {
     "name": "stdout",
     "output_type": "stream",
     "text": [
      "hello world\n"
     ]
    }
   ],
   "source": [
    "hello()                   # you can call created func whenever needed"
   ]
  },
  {
   "cell_type": "code",
   "execution_count": 10,
   "id": "74e9e83b",
   "metadata": {},
   "outputs": [
    {
     "name": "stdout",
     "output_type": "stream",
     "text": [
      "Enter the lenght = 50\n",
      "Enter the breadth = 50\n",
      "2500\n"
     ]
    }
   ],
   "source": [
    "#1st case variable defined inside the function known as Local variable\n",
    "def area():\n",
    "    l = int(input(\"Enter the lenght = \"))\n",
    "    b = int(input(\"Enter the breadth = \"))\n",
    "    a = l*b\n",
    "    print (a)\n",
    "    \n",
    "area()"
   ]
  },
  {
   "cell_type": "code",
   "execution_count": 11,
   "id": "635f360b",
   "metadata": {},
   "outputs": [
    {
     "name": "stdout",
     "output_type": "stream",
     "text": [
      "Enter the lenght = 50\n",
      "Enter the breadth = 90\n",
      "4500\n"
     ]
    }
   ],
   "source": [
    "# 2nd case variable is defined outside the function known as global variable\n",
    "l = int(input(\"Enter the lenght = \"))\n",
    "b = int(input(\"Enter the breadth = \"))\n",
    "def area():\n",
    "    a=l*b\n",
    "    print(a)\n",
    "\n",
    "area()"
   ]
  },
  {
   "cell_type": "code",
   "execution_count": 1,
   "id": "8fcb6580",
   "metadata": {},
   "outputs": [],
   "source": [
    "# arguement"
   ]
  },
  {
   "cell_type": "code",
   "execution_count": 1,
   "id": "aba319a8",
   "metadata": {},
   "outputs": [
    {
     "name": "stdout",
     "output_type": "stream",
     "text": [
      "Enter the lenght = 100\n",
      "Enter the breadth = 50\n",
      "5000\n"
     ]
    }
   ],
   "source": [
    "def area(l,b):                       # 2nd the number of parameters should be same as the arguement\n",
    "    a=l*b\n",
    "    print(a)\n",
    "\n",
    "l = int(input(\"Enter the lenght = \"))\n",
    "b = int(input(\"Enter the breadth = \"))\n",
    "\n",
    "area(l,b)                            # 1st add argument to call above operations"
   ]
  },
  {
   "cell_type": "code",
   "execution_count": 2,
   "id": "4b35f742",
   "metadata": {},
   "outputs": [
    {
     "name": "stdout",
     "output_type": "stream",
     "text": [
      "Hello world\n"
     ]
    }
   ],
   "source": [
    "def hello(x):\n",
    "    print(x)\n",
    "hello(\"Hello world\")"
   ]
  },
  {
   "cell_type": "code",
   "execution_count": 3,
   "id": "897134d4",
   "metadata": {},
   "outputs": [],
   "source": [
    "# return function       "
   ]
  },
  {
   "cell_type": "code",
   "execution_count": 4,
   "id": "93d25534",
   "metadata": {},
   "outputs": [
    {
     "name": "stdout",
     "output_type": "stream",
     "text": [
      "Enter the lenght = 100\n",
      "Enter the breadth = 50\n"
     ]
    },
    {
     "data": {
      "text/plain": [
       "5000"
      ]
     },
     "execution_count": 4,
     "metadata": {},
     "output_type": "execute_result"
    }
   ],
   "source": [
    "#function with arguement and return type\n",
    "\n",
    "def area(l,b):                       \n",
    "    a=l*b\n",
    "    return(a)\n",
    "\n",
    "l = int(input(\"Enter the lenght = \"))\n",
    "b = int(input(\"Enter the breadth = \"))\n",
    "\n",
    "area(l,b)   #the return fuction will return the excuted value to area(l,b)              "
   ]
  },
  {
   "cell_type": "code",
   "execution_count": 1,
   "id": "8375aeff",
   "metadata": {},
   "outputs": [
    {
     "name": "stdout",
     "output_type": "stream",
     "text": [
      "Enter the lenght = 5\n",
      "Enter the breadth = 5\n",
      "Enter the height = 5\n",
      "The area is =  25\n",
      "The volume is =  125\n"
     ]
    }
   ],
   "source": [
    "#function with arguement and return type\n",
    "\n",
    "def area(l,b):                       \n",
    "    a=l*b\n",
    "    return(a)\n",
    "\n",
    "l = int(input(\"Enter the lenght = \"))\n",
    "b = int(input(\"Enter the breadth = \"))\n",
    "h = int(input(\"Enter the height = \"))\n",
    "\n",
    "area(l,b) \n",
    "ar = area(l,b)\n",
    "print(\"The area is = \",ar)\n",
    "print(\"The volume is = \",ar*h)"
   ]
  },
  {
   "cell_type": "code",
   "execution_count": 2,
   "id": "df448afd",
   "metadata": {},
   "outputs": [
    {
     "name": "stdout",
     "output_type": "stream",
     "text": [
      "Enter a = 10\n",
      "Enter b = 2\n",
      "Etner + - / * = /\n",
      "5.0\n"
     ]
    }
   ],
   "source": [
    "def add(a,b):\n",
    "    return a+b\n",
    "def sub(a,b):\n",
    "    return a-b\n",
    "def mult(a,b):\n",
    "    return a*b\n",
    "def div(a,b):\n",
    "    return a/b\n",
    "\n",
    "a = int(input(\"Enter a = \"))\n",
    "b = int(input(\"Enter b = \"))\n",
    "o = input(\"Etner + - / * = \")\n",
    "\n",
    "if o == \"+\":\n",
    "    print(add(a,b))\n",
    "elif o ==\"-\":\n",
    "    print(sub(a,b))\n",
    "elif o ==\"*\":\n",
    "    print(mult(a,b))\n",
    "elif o ==\"/\":\n",
    "    print(div(a,b))\n",
    "else:\n",
    "    print(\"Invalid operators\")\n",
    "\n",
    "    "
   ]
  },
  {
   "cell_type": "code",
   "execution_count": 1,
   "id": "0d88882b",
   "metadata": {
    "scrolled": true
   },
   "outputs": [
    {
     "name": "stdout",
     "output_type": "stream",
     "text": [
      "Enter length = 5\n",
      "Enter breadth = 5\n",
      "Enter length = 5\n",
      "Enter breadth = 5\n"
     ]
    },
    {
     "data": {
      "text/plain": [
       "25"
      ]
     },
     "execution_count": 1,
     "metadata": {},
     "output_type": "execute_result"
    }
   ],
   "source": [
    "def area():\n",
    "    l = int(input(\"Enter length = \"))\n",
    "    b = int(input(\"Enter breadth = \"))\n",
    "    a = l*b\n",
    "    return a\n",
    "    x == input(\"Enter y for more calculation\")\n",
    "    if x =='y':\n",
    "        area()\n",
    "\n",
    "area()\n",
    "area()\n",
    "    "
   ]
  },
  {
   "cell_type": "code",
   "execution_count": 1,
   "id": "7a3287d3",
   "metadata": {},
   "outputs": [
    {
     "name": "stdout",
     "output_type": "stream",
     "text": [
      "C\n",
      "C++\n",
      "Java\n",
      "Python\n"
     ]
    }
   ],
   "source": [
    "def language(lan = \"Python\"):\n",
    "    print(lan)\n",
    "\n",
    "language(\"C\")\n",
    "language(\"C++\")\n",
    "language(\"Java\")\n",
    "language()"
   ]
  },
  {
   "cell_type": "code",
   "execution_count": 4,
   "id": "c9172a14",
   "metadata": {},
   "outputs": [
    {
     "name": "stdout",
     "output_type": "stream",
     "text": [
      "Enter the lenght = 20\n",
      "Enter the breadth = 20\n",
      "Enter the height = 20\n"
     ]
    },
    {
     "data": {
      "text/plain": [
       "(400, 8000)"
      ]
     },
     "execution_count": 4,
     "metadata": {},
     "output_type": "execute_result"
    }
   ],
   "source": [
    "def cal():\n",
    "    l = int(input(\"Enter the lenght = \"))\n",
    "    b = int(input(\"Enter the breadth = \"))\n",
    "    h = int(input(\"Enter the height = \"))\n",
    "    a = l*b\n",
    "    v = a*h\n",
    "    return a,v\n",
    "cal ()"
   ]
  },
  {
   "cell_type": "code",
   "execution_count": 5,
   "id": "66875d07",
   "metadata": {},
   "outputs": [
    {
     "name": "stdout",
     "output_type": "stream",
     "text": [
      "Enter the lenght = 50\n",
      "Enter the breadth = 50\n",
      "Enter the height = 50\n",
      "The area is  2500\n",
      "The volume is  125000\n"
     ]
    }
   ],
   "source": [
    "def cal():\n",
    "    l = int(input(\"Enter the lenght = \"))\n",
    "    b = int(input(\"Enter the breadth = \"))\n",
    "    h = int(input(\"Enter the height = \"))\n",
    "    a = l*b\n",
    "    v = a*h\n",
    "    return a,v\n",
    "area,volume = cal ()                            #define and return function we can assign value to different variables.\n",
    "print (\"The area is \",area)         \n",
    "print (\"The volume is \", volume)"
   ]
  },
  {
   "cell_type": "code",
   "execution_count": 6,
   "id": "22164a01",
   "metadata": {},
   "outputs": [
    {
     "name": "stdout",
     "output_type": "stream",
     "text": [
      "Enter the lenght = 50\n",
      "Enter the breadth = 50\n",
      "Enter the height = 50\n",
      "The area is  2500\n",
      "The volume is  125000\n"
     ]
    }
   ],
   "source": [
    "#adding tuple function to assign values\n",
    "def cal(t):\n",
    "    l,b,h = t\n",
    "    a = l*b\n",
    "    v = a*h\n",
    "    return a,v\n",
    "\n",
    "l = int(input(\"Enter the lenght = \"))\n",
    "b = int(input(\"Enter the breadth = \"))\n",
    "h = int(input(\"Enter the height = \"))\n",
    "\n",
    "t = (l,b,h)                           #for multiple variables we use tuple() function to assign values\n",
    "                                      #limit the arguements\n",
    "area,volume = cal (t)                 #define and return function we can assign value to different variables.\n",
    "print (\"The area is \",area)               \n",
    "print (\"The volume is \", volume)"
   ]
  },
  {
   "cell_type": "code",
   "execution_count": 8,
   "id": "d046930a",
   "metadata": {},
   "outputs": [
    {
     "name": "stdout",
     "output_type": "stream",
     "text": [
      "Enter the lenght = 5\n",
      "Enter the breadth = 5\n",
      "Enter the height = 5\n",
      "25\n",
      "125\n"
     ]
    }
   ],
   "source": [
    "def area(l,b):\n",
    "    a = l*b\n",
    "    return a\n",
    "def volume(l,b,h):\n",
    "    v = area(l,b)*h                 #the excuted value will return to volume(l,b,h)\n",
    "    return v\n",
    "\n",
    "l = int(input(\"Enter the lenght = \"))\n",
    "b = int(input(\"Enter the breadth = \"))\n",
    "h = int(input(\"Enter the height = \"))\n",
    "                 \n",
    "print(area(l,b))\n",
    "print(volume(l,b,h))"
   ]
  },
  {
   "cell_type": "code",
   "execution_count": 10,
   "id": "ed2eca1d",
   "metadata": {},
   "outputs": [
    {
     "name": "stdout",
     "output_type": "stream",
     "text": [
      "64\n"
     ]
    }
   ],
   "source": [
    "# Function with return type\n",
    "def power(x,n):\n",
    "    return x**n\n",
    "\n",
    "ans = power(4,3)\n",
    "print(ans)"
   ]
  },
  {
   "cell_type": "code",
   "execution_count": 15,
   "id": "136637e4",
   "metadata": {},
   "outputs": [
    {
     "name": "stdout",
     "output_type": "stream",
     "text": [
      "a =  1\n",
      "b =  2\n",
      "c =  3\n"
     ]
    }
   ],
   "source": [
    "#function with multiple return type\n",
    "def myfun():\n",
    "    return 1,2,3\n",
    "\n",
    "myfun()\n",
    "print('a = ',a)\n",
    "print('b = ',b)\n",
    "print('c = ',c)"
   ]
  },
  {
   "cell_type": "code",
   "execution_count": 13,
   "id": "b19bf7c8",
   "metadata": {},
   "outputs": [
    {
     "name": "stdout",
     "output_type": "stream",
     "text": [
      "Enter value for a = 1\n",
      "Enter value for b = 2\n",
      "Enter value for c = 3\n"
     ]
    },
    {
     "data": {
      "text/plain": [
       "(1, 2, 3)"
      ]
     },
     "execution_count": 13,
     "metadata": {},
     "output_type": "execute_result"
    }
   ],
   "source": [
    "def myfun():\n",
    "    return a,b,c\n",
    "\n",
    "a = int(input(\"Enter value for a = \"))\n",
    "b = int(input(\"Enter value for b = \"))\n",
    "c = int(input(\"Enter value for c = \"))\n",
    "\n",
    "myfun()"
   ]
  },
  {
   "cell_type": "code",
   "execution_count": 16,
   "id": "343d3459",
   "metadata": {},
   "outputs": [
    {
     "name": "stdout",
     "output_type": "stream",
     "text": [
      "9\n",
      "25\n"
     ]
    }
   ],
   "source": [
    "def sq(x):\n",
    "    print(x**2)\n",
    "    \n",
    "sq(3)\n",
    "sq(5)"
   ]
  },
  {
   "cell_type": "code",
   "execution_count": 20,
   "id": "af2d86c7",
   "metadata": {},
   "outputs": [
    {
     "name": "stdout",
     "output_type": "stream",
     "text": [
      "16\n",
      "8\n"
     ]
    }
   ],
   "source": [
    "def sq(x,n):\n",
    "    print(x**n)\n",
    "\n",
    "sq(2+2,2)\n",
    "sq(2,3)"
   ]
  },
  {
   "cell_type": "code",
   "execution_count": 21,
   "id": "4a30b305",
   "metadata": {},
   "outputs": [
    {
     "name": "stdout",
     "output_type": "stream",
     "text": [
      "ans 4\n",
      "ans 9\n"
     ]
    }
   ],
   "source": [
    "def sq(x,n):\n",
    "    return x**n\n",
    "\n",
    "ans = sq(2,2)\n",
    "print(\"ans\", ans)\n",
    "ans = sq(3,2)\n",
    "print(\"ans\", ans)"
   ]
  },
  {
   "cell_type": "code",
   "execution_count": null,
   "id": "040d23bf",
   "metadata": {},
   "outputs": [],
   "source": []
  }
 ],
 "metadata": {
  "kernelspec": {
   "display_name": "Python 3",
   "language": "python",
   "name": "python3"
  },
  "language_info": {
   "codemirror_mode": {
    "name": "ipython",
    "version": 3
   },
   "file_extension": ".py",
   "mimetype": "text/x-python",
   "name": "python",
   "nbconvert_exporter": "python",
   "pygments_lexer": "ipython3",
   "version": "3.8.8"
  }
 },
 "nbformat": 4,
 "nbformat_minor": 5
}
