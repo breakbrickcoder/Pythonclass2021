{
 "cells": [
  {
   "cell_type": "code",
   "execution_count": 1,
   "id": "15abb9ee",
   "metadata": {},
   "outputs": [],
   "source": [
    "# Python Collection\n",
    "# -List\n",
    "# -Tuple\n",
    "# -Dictionary\n",
    "# -Set"
   ]
  },
  {
   "cell_type": "code",
   "execution_count": 2,
   "id": "9b962cd3",
   "metadata": {},
   "outputs": [
    {
     "name": "stdout",
     "output_type": "stream",
     "text": [
      "4\n",
      "<class 'list'>\n"
     ]
    }
   ],
   "source": [
    "#List\n",
    "l = []\n",
    "a = [\"Apple\", \"Ball\", \"Cat\", \"Dog\"]\n",
    "print(len(a))\n",
    "print(type(a))"
   ]
  },
  {
   "cell_type": "code",
   "execution_count": null,
   "id": "3a863d42",
   "metadata": {},
   "outputs": [],
   "source": [
    "# List\n",
    "#  - indexed\n",
    "#  - Ordered\n",
    "#  - Multiple values\n",
    "#  - Mutable"
   ]
  },
  {
   "cell_type": "code",
   "execution_count": 3,
   "id": "da73910b",
   "metadata": {},
   "outputs": [
    {
     "data": {
      "text/plain": [
       "'Apple'"
      ]
     },
     "execution_count": 3,
     "metadata": {},
     "output_type": "execute_result"
    }
   ],
   "source": [
    "#  - indexed\n",
    "l = []\n",
    "a = [\"Apple\", \"Ball\", \"Cat\", \"Dog\"]\n",
    "a[0]"
   ]
  },
  {
   "cell_type": "code",
   "execution_count": 4,
   "id": "e4f45166",
   "metadata": {},
   "outputs": [
    {
     "data": {
      "text/plain": [
       "'Dog'"
      ]
     },
     "execution_count": 4,
     "metadata": {},
     "output_type": "execute_result"
    }
   ],
   "source": [
    "#  - indexed\n",
    "l = []\n",
    "a = [\"Apple\", \"Ball\", \"Cat\", \"Dog\"]\n",
    "a[-1]"
   ]
  },
  {
   "cell_type": "code",
   "execution_count": 3,
   "id": "f39ae9ca",
   "metadata": {},
   "outputs": [
    {
     "data": {
      "text/plain": [
       "['Ball', 'Cat', 'Dog', 'Fish']"
      ]
     },
     "execution_count": 3,
     "metadata": {},
     "output_type": "execute_result"
    }
   ],
   "source": [
    "#  - indexed\n",
    "l = []\n",
    "a = [\"Apple\", \"Ball\", \"Cat\", \"Dog\", \"Fish\"]\n",
    "a[1:6]"
   ]
  },
  {
   "cell_type": "code",
   "execution_count": 4,
   "id": "9f6f2984",
   "metadata": {},
   "outputs": [
    {
     "data": {
      "text/plain": [
       "['Ball', 'Dog']"
      ]
     },
     "execution_count": 4,
     "metadata": {},
     "output_type": "execute_result"
    }
   ],
   "source": [
    "#ordered\n",
    "l = []\n",
    "a = [\"Apple\", \"Ball\", \"Cat\", \"Dog\", \"Fish\"]\n",
    "a[1:6:2]"
   ]
  },
  {
   "cell_type": "code",
   "execution_count": 5,
   "id": "af8853a8",
   "metadata": {},
   "outputs": [
    {
     "name": "stdout",
     "output_type": "stream",
     "text": [
      "['Apple', 'Ball', 'Cat', 'Dog', 'Fish', 'Bag']\n"
     ]
    }
   ],
   "source": [
    "#conactenate\n",
    "a = [\"Apple\", \"Ball\", \"Cat\", \"Dog\", \"Fish\"]\n",
    "b = [\"Bag\"]\n",
    "print(a+b)"
   ]
  },
  {
   "cell_type": "code",
   "execution_count": 6,
   "id": "744fe65e",
   "metadata": {},
   "outputs": [
    {
     "name": "stdout",
     "output_type": "stream",
     "text": [
      "['Apple', 'Ball', 'Cat', 'Dog', 'Fish', 'Apple', 'Ball', 'Cat', 'Dog', 'Fish']\n"
     ]
    }
   ],
   "source": [
    "a = [\"Apple\", \"Ball\", \"Cat\", \"Dog\", \"Fish\"]\n",
    "print(a*2)"
   ]
  },
  {
   "cell_type": "code",
   "execution_count": 7,
   "id": "b8ecbe86",
   "metadata": {},
   "outputs": [
    {
     "data": {
      "text/plain": [
       "[1, 2, 3, 4, 5, 'Apple', 'Ball']"
      ]
     },
     "execution_count": 7,
     "metadata": {},
     "output_type": "execute_result"
    }
   ],
   "source": [
    "a = [1,2,3,4,5,\"Apple\",\"Ball\"]\n",
    "a"
   ]
  },
  {
   "cell_type": "code",
   "execution_count": 9,
   "id": "6737fb91",
   "metadata": {},
   "outputs": [
    {
     "data": {
      "text/plain": [
       "['Ant', 'Ball', 'Cat', 'Dog', 'Fish']"
      ]
     },
     "execution_count": 9,
     "metadata": {},
     "output_type": "execute_result"
    }
   ],
   "source": [
    "#mutable or changeable\n",
    "a = [\"Apple\", \"Ball\", \"Cat\", \"Dog\", \"Fish\"]\n",
    "a[0] = \"Ant\"\n",
    "a"
   ]
  },
  {
   "cell_type": "code",
   "execution_count": 13,
   "id": "fe5817f6",
   "metadata": {},
   "outputs": [
    {
     "name": "stdout",
     "output_type": "stream",
     "text": [
      "Enter n = 2\n",
      "Enter name = bg\n",
      "Enter name = cg\n",
      "['bg', 'cg']\n"
     ]
    }
   ],
   "source": [
    "a = []\n",
    "n = int(input(\"Enter n = \"))\n",
    "for i in range(n):\n",
    "    name = input(\"Enter name = \")\n",
    "    a = a+[name]\n",
    "print(a)"
   ]
  },
  {
   "cell_type": "code",
   "execution_count": 14,
   "id": "31eddf85",
   "metadata": {},
   "outputs": [
    {
     "name": "stdout",
     "output_type": "stream",
     "text": [
      "bg\n",
      "cg\n"
     ]
    }
   ],
   "source": [
    "for i in a:\n",
    "    print(i)"
   ]
  },
  {
   "cell_type": "code",
   "execution_count": 16,
   "id": "c442426c",
   "metadata": {},
   "outputs": [
    {
     "name": "stdout",
     "output_type": "stream",
     "text": [
      "Yes\n",
      "1\n"
     ]
    }
   ],
   "source": [
    "a = [\"Ram\", \"Hari\", \"Sam\", \"Sita\", \"Gita\"]\n",
    "if \"Ram\" in a:\n",
    "    print(\"Yes\")\n",
    "    print(a.count(\"Ram\"))"
   ]
  },
  {
   "cell_type": "code",
   "execution_count": null,
   "id": "5fc5251e",
   "metadata": {},
   "outputs": [],
   "source": [
    "# append\n",
    "# insert\n",
    "# extend"
   ]
  },
  {
   "cell_type": "code",
   "execution_count": 19,
   "id": "de53c01a",
   "metadata": {},
   "outputs": [
    {
     "name": "stdout",
     "output_type": "stream",
     "text": [
      "Enter n = 2\n",
      "Enter name = bg\n",
      "Enter name = cg\n",
      "['bg', 'cg']\n"
     ]
    }
   ],
   "source": [
    "a = []\n",
    "n = int(input(\"Enter n = \"))\n",
    "for i in range(n):\n",
    "    name = input(\"Enter name = \")\n",
    "    a.append(name)\n",
    "    \n",
    "print(a)"
   ]
  },
  {
   "cell_type": "code",
   "execution_count": 23,
   "id": "e807dbc9",
   "metadata": {},
   "outputs": [
    {
     "name": "stdout",
     "output_type": "stream",
     "text": [
      "['ram', 'nabin', 'hari', 'sita', 'gita']\n"
     ]
    }
   ],
   "source": [
    "#insert\n",
    "a = [\"ram\", \"hari\", \"sita\", \"gita\"]\n",
    "a.insert(1,\"nabin\")\n",
    "print(a)"
   ]
  },
  {
   "cell_type": "code",
   "execution_count": 25,
   "id": "d95a8dbb",
   "metadata": {},
   "outputs": [
    {
     "name": "stdout",
     "output_type": "stream",
     "text": [
      "['ram', 'hari', 'sita', 'gita', 'fish', 'ham']\n"
     ]
    }
   ],
   "source": [
    "#extend\n",
    "a = [\"ram\", \"hari\", \"sita\", \"gita\"]\n",
    "b = [\"fish\", \"ham\"]\n",
    "a.extend(b)\n",
    "print(a)"
   ]
  },
  {
   "cell_type": "code",
   "execution_count": null,
   "id": "39fec3b4",
   "metadata": {},
   "outputs": [],
   "source": [
    "# remove()\n",
    "# pop()\n",
    "# del()"
   ]
  },
  {
   "cell_type": "code",
   "execution_count": 1,
   "id": "c761f1d8",
   "metadata": {},
   "outputs": [
    {
     "name": "stdout",
     "output_type": "stream",
     "text": [
      "['hari', 'sita', 'gita']\n"
     ]
    }
   ],
   "source": [
    "a = [\"ram\", \"hari\", \"sita\", \"gita\"]\n",
    "a.remove(\"ram\")\n",
    "print(a)"
   ]
  },
  {
   "cell_type": "code",
   "execution_count": 2,
   "id": "68b67ac2",
   "metadata": {},
   "outputs": [
    {
     "name": "stdout",
     "output_type": "stream",
     "text": [
      "1\n"
     ]
    }
   ],
   "source": [
    "a = [\"ram\", \"hari\", \"sita\", \"gita\"]\n",
    "i = a.index(\"hari\")\n",
    "print(i)"
   ]
  },
  {
   "cell_type": "code",
   "execution_count": 3,
   "id": "ba096a86",
   "metadata": {},
   "outputs": [
    {
     "name": "stdout",
     "output_type": "stream",
     "text": [
      "['ram', 'sita', 'gita']\n"
     ]
    }
   ],
   "source": [
    "a = [\"ram\", \"hari\", \"sita\", \"gita\"]\n",
    "i = a.index(\"hari\")\n",
    "del a[1]\n",
    "print(a)"
   ]
  },
  {
   "cell_type": "code",
   "execution_count": 5,
   "id": "e73fb05f",
   "metadata": {},
   "outputs": [
    {
     "name": "stdout",
     "output_type": "stream",
     "text": [
      "['ram', 'hari']\n"
     ]
    }
   ],
   "source": [
    "a = [\"ram\", \"hari\", \"sita\", \"gita\"]\n",
    "del a[2:4]\n",
    "print(a)"
   ]
  },
  {
   "cell_type": "code",
   "execution_count": 1,
   "id": "059c4199",
   "metadata": {},
   "outputs": [
    {
     "name": "stdout",
     "output_type": "stream",
     "text": [
      "['gita', 'nabin', 'gopal']\n"
     ]
    }
   ],
   "source": [
    "a = [\"ram\", \"hari\", \"sita\", \"gita\",\"nabin\", \"gopal\"]\n",
    "del a[0:3:1]\n",
    "print(a)"
   ]
  },
  {
   "cell_type": "code",
   "execution_count": 2,
   "id": "9f047af2",
   "metadata": {},
   "outputs": [
    {
     "data": {
      "text/plain": [
       "['hari', 'sita', 'gita', 'nabin', 'gopal']"
      ]
     },
     "execution_count": 2,
     "metadata": {},
     "output_type": "execute_result"
    }
   ],
   "source": [
    "a = [\"ram\", \"hari\", \"sita\", \"gita\",\"nabin\", \"gopal\"]\n",
    "for i in a:\n",
    "    if i == \"ram\":\n",
    "        a.remove(\"ram\")\n",
    "a"
   ]
  },
  {
   "cell_type": "code",
   "execution_count": 1,
   "id": "60b4120b",
   "metadata": {},
   "outputs": [
    {
     "name": "stdout",
     "output_type": "stream",
     "text": [
      "0\n",
      "6\n"
     ]
    }
   ],
   "source": [
    "a = [\"ram\", \"hari\", \"sita\", \"gita\",\"nabin\", \"gopal\",\"ram\"]\n",
    "n = len(a)\n",
    "for i in range (n):\n",
    "    if a[i] == \"ram\": #i is as index\n",
    "        print(i)"
   ]
  },
  {
   "cell_type": "code",
   "execution_count": 3,
   "id": "db7af406",
   "metadata": {},
   "outputs": [
    {
     "name": "stdout",
     "output_type": "stream",
     "text": [
      "['ram', 'sita', 'gita', 'nabin', 'gopal', 'ram']\n",
      "hari\n"
     ]
    }
   ],
   "source": [
    "a = [\"ram\", \"hari\", \"sita\", \"gita\",\"nabin\", \"gopal\",\"ram\"]\n",
    "b = a.pop(1)\n",
    "print(a)\n",
    "print(b)"
   ]
  },
  {
   "cell_type": "code",
   "execution_count": 4,
   "id": "4aa86e22",
   "metadata": {},
   "outputs": [
    {
     "data": {
      "text/plain": [
       "[]"
      ]
     },
     "execution_count": 4,
     "metadata": {},
     "output_type": "execute_result"
    }
   ],
   "source": [
    "a = [\"ram\", \"hari\", \"sita\", \"gita\",\"nabin\", \"gopal\",\"ram\"]\n",
    "a.clear()\n",
    "a"
   ]
  },
  {
   "cell_type": "code",
   "execution_count": 1,
   "id": "e2aaf81c",
   "metadata": {},
   "outputs": [
    {
     "name": "stdout",
     "output_type": "stream",
     "text": [
      "Enter n = 2\n",
      "Enter product = egg\n",
      "Enter price = 45\n",
      "Enter quantity = 65\n",
      "Enter product = meat\n",
      "Enter price = 67\n",
      "Enter quantity = 45\n",
      "egg 45 65 2925\n",
      "meat 67 45 3015\n",
      "\n"
     ]
    }
   ],
   "source": [
    "s = str()\n",
    "n = int(input(\"Enter n = \"))\n",
    "for i in range(n):\n",
    "    product = input(\"Enter product = \")\n",
    "    price = int(input(\"Enter price = \"))\n",
    "    quantity = int(input(\"Enter quantity = \"))\n",
    "    total = price*quantity \n",
    "    info = f\"{product} {price} {quantity} {total}\\n\"\n",
    "    s = s+info\n",
    "    \n",
    "\n",
    "print(s)\n"
   ]
  },
  {
   "cell_type": "code",
   "execution_count": 6,
   "id": "9e3a874c",
   "metadata": {},
   "outputs": [
    {
     "name": "stdout",
     "output_type": "stream",
     "text": [
      "['egg 45 65 2925', 'meat 67 45 3015', '']\n"
     ]
    }
   ],
   "source": [
    "l = s.split(\"\\n\")\n",
    "print(l)"
   ]
  },
  {
   "cell_type": "code",
   "execution_count": 3,
   "id": "724a302f",
   "metadata": {},
   "outputs": [
    {
     "name": "stdout",
     "output_type": "stream",
     "text": [
      "egg 45 65 2925\n"
     ]
    }
   ],
   "source": [
    "print(l[0])"
   ]
  },
  {
   "cell_type": "code",
   "execution_count": 7,
   "id": "bb092cba",
   "metadata": {},
   "outputs": [
    {
     "data": {
      "text/plain": [
       "['egg 45 65 455', 'meat 67 45 3015']"
      ]
     },
     "execution_count": 7,
     "metadata": {},
     "output_type": "execute_result"
    }
   ],
   "source": [
    "a = ['egg 45 65 2925', 'meat 67 45 3015']\n",
    "a[0] = 'egg 45 65 455'\n",
    "a"
   ]
  },
  {
   "cell_type": "code",
   "execution_count": 1,
   "id": "a47901d3",
   "metadata": {},
   "outputs": [
    {
     "name": "stdout",
     "output_type": "stream",
     "text": [
      "Enter n = 2\n",
      "Enter name = ram\n",
      "Enter add = ktm\n",
      "Enter phone no. = 980384384\n",
      "Enter name = sam\n",
      "Enter add = ktm\n",
      "Enter phone no. = 9873949834\n",
      "ram ktm 980384384\n",
      "sam ktm 9873949834\n",
      "\n"
     ]
    }
   ],
   "source": [
    "s = str()\n",
    "n = int(input(\"Enter n = \"))\n",
    "for i in range(n):\n",
    "    name = input(\"Enter name = \")\n",
    "    add = input(\"Enter add = \")\n",
    "    phone = int(input(\"Enter phone no. = \"))\n",
    "    info = f\"{name} {add} {phone}\\n\"\n",
    "    s = s+info\n",
    "    \n",
    "\n",
    "print(s)\n"
   ]
  },
  {
   "cell_type": "code",
   "execution_count": 2,
   "id": "e066101f",
   "metadata": {},
   "outputs": [
    {
     "data": {
      "text/plain": [
       "['ram ktm 980384384', 'sam ktm 9873949834', '']"
      ]
     },
     "execution_count": 2,
     "metadata": {},
     "output_type": "execute_result"
    }
   ],
   "source": [
    "l = s.split(\"\\n\")\n",
    "l"
   ]
  },
  {
   "cell_type": "code",
   "execution_count": null,
   "id": "c65dff69",
   "metadata": {},
   "outputs": [],
   "source": []
  }
 ],
 "metadata": {
  "kernelspec": {
   "display_name": "Python 3",
   "language": "python",
   "name": "python3"
  },
  "language_info": {
   "codemirror_mode": {
    "name": "ipython",
    "version": 3
   },
   "file_extension": ".py",
   "mimetype": "text/x-python",
   "name": "python",
   "nbconvert_exporter": "python",
   "pygments_lexer": "ipython3",
   "version": "3.8.8"
  }
 },
 "nbformat": 4,
 "nbformat_minor": 5
}
