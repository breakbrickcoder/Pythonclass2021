{
 "cells": [
  {
   "cell_type": "code",
   "execution_count": 2,
   "id": "bfd2f74b",
   "metadata": {},
   "outputs": [
    {
     "name": "stdout",
     "output_type": "stream",
     "text": [
      "this is init method 1000 3 4\n",
      "120.0\n"
     ]
    }
   ],
   "source": [
    "class Cal:\n",
    "    def __init__(self,p,t,r):\n",
    "        self.p = p\n",
    "        self.t = t\n",
    "        self.r = r\n",
    "        print(\"this is init method\",self.p,self.t,self.r)\n",
    "    \n",
    "\n",
    "class Calculation(Cal):\n",
    "    def calculation(self):\n",
    "        i = self.p*self.t*self.r/100\n",
    "        print(i)\n",
    "\n",
    "obj = Calculation(1000,3,4)\n",
    "obj.calculation()"
   ]
  },
  {
   "cell_type": "code",
   "execution_count": 5,
   "id": "acfc4824",
   "metadata": {},
   "outputs": [
    {
     "name": "stdout",
     "output_type": "stream",
     "text": [
      "Enter p = 5000\n",
      "Enter t = 3\n",
      "Enter r = 4\n",
      "600.0\n"
     ]
    }
   ],
   "source": [
    "class Cal:\n",
    "    def __init__(self):\n",
    "        self.p = int(input(\"Enter p = \"))\n",
    "        self.t = int(input(\"Enter t = \"))\n",
    "        self.r = int(input(\"Enter r = \"))\n",
    "    \n",
    "class Calculation(Cal):\n",
    "    def calculation(self):\n",
    "        i = self.p*self.t*self.r/100\n",
    "        print(i)\n",
    "        \n",
    "obj = Calculation()\n",
    "\n",
    "obj.calculation()"
   ]
  },
  {
   "cell_type": "code",
   "execution_count": 8,
   "id": "4245f0c5",
   "metadata": {},
   "outputs": [
    {
     "name": "stdout",
     "output_type": "stream",
     "text": [
      "Enter height = 5\n",
      "Enter length = 6\n",
      "Enter breadth = 7\n",
      "42\n",
      "210\n"
     ]
    }
   ],
   "source": [
    "class Area:\n",
    "    def __init__(self):\n",
    "        self.l = int(input(\"Enter length = \"))\n",
    "        self.b = int(input(\"Enter breadth = \"))\n",
    "    def area(self):\n",
    "        a = self.l*self.b\n",
    "        print(a)\n",
    "        \n",
    "class Volume(Area):\n",
    "    def __init__(self):\n",
    "        self.h = int(input(\"Enter height = \"))\n",
    "        Area.__init__(self)\n",
    "    \n",
    "    def volume(self):\n",
    "        v = self.l*self.b*self.h\n",
    "        print(v)\n",
    "        \n",
    "obj = Volume()\n",
    "obj.area()\n",
    "obj.volume()\n"
   ]
  },
  {
   "cell_type": "code",
   "execution_count": 29,
   "id": "55db2e24",
   "metadata": {},
   "outputs": [
    {
     "name": "stdout",
     "output_type": "stream",
     "text": [
      "Enter h = 5\n",
      "this is init method of Volume 5\n",
      "Enter l = 5\n",
      "Enter b = 5\n",
      "this is Area init method 5 5\n",
      "This is area method 5 5\n",
      "25\n",
      "this is volume 5 5 5\n",
      "125\n"
     ]
    }
   ],
   "source": [
    "class Area():\n",
    "    def __init__(self):\n",
    "        self.l = int(input(\"Enter l = \"))\n",
    "        self.b = int(input(\"Enter b = \"))\n",
    "        print(\"this is Area init method\",self.l,self.b)\n",
    "    def area(self):\n",
    "        a = self.l*self.b\n",
    "        print(\"This is area method\",self.l,self.b)\n",
    "        print(a)\n",
    "\n",
    "class Volume(Area):\n",
    "    def __init__(self):\n",
    "        self.h = int(input(\"Enter h = \"))\n",
    "        print(\"this is init method of Volume\",self.h)\n",
    "        Area.__init__(self)\n",
    "    def volume(self):\n",
    "        v = self.l*self.b*self.h\n",
    "        print(\"this is volume\",self.l,self.b,self.h)\n",
    "        print(v)\n",
    "        \n",
    "obj = Volume()\n",
    "obj.area()\n",
    "obj.volume()\n",
    "    "
   ]
  },
  {
   "cell_type": "code",
   "execution_count": 30,
   "id": "6d950751",
   "metadata": {},
   "outputs": [
    {
     "name": "stdout",
     "output_type": "stream",
     "text": [
      "This is class A\n",
      "This is class B\n",
      "This is class C\n"
     ]
    }
   ],
   "source": [
    "class A:\n",
    "    print(\"This is class A\")\n",
    "    \n",
    "class B(A):\n",
    "    print(\"This is class B\")\n",
    "    \n",
    "class C(B):\n",
    "    print(\"This is class C\")\n",
    "\n",
    "obj = C()"
   ]
  },
  {
   "cell_type": "code",
   "execution_count": 32,
   "id": "9be77770",
   "metadata": {},
   "outputs": [
    {
     "name": "stdout",
     "output_type": "stream",
     "text": [
      "This is class A\n",
      "This is class B\n",
      "This is class C\n"
     ]
    }
   ],
   "source": [
    "class A:\n",
    "    def a(self):\n",
    "        print(\"This is class A\")\n",
    "        \n",
    "class B(A):\n",
    "    def b(self):\n",
    "        print(\"This is class B\")\n",
    "        \n",
    "class C(B):\n",
    "    def c(self):\n",
    "        print(\"This is class C\")\n",
    "\n",
    "obj = C()\n",
    "obj.a()\n",
    "obj.b()\n",
    "obj.c()\n",
    "    "
   ]
  },
  {
   "cell_type": "code",
   "execution_count": 36,
   "id": "21a3f0a7",
   "metadata": {},
   "outputs": [
    {
     "name": "stdout",
     "output_type": "stream",
     "text": [
      "Hello world I am Ram I am from Kathmandu. My salary is 30000.\n"
     ]
    }
   ],
   "source": [
    "class Salary:\n",
    "    def __init__(self,sal):\n",
    "        self.sal = sal\n",
    "    def salary(self):\n",
    "        print(self.sal)\n",
    "        \n",
    "class Info(Salary):\n",
    "    def __init__(self,sal,add):\n",
    "        self.add = add\n",
    "        Salary.__init__(self,sal)\n",
    "        \n",
    "    def info(self):\n",
    "        print(self.add,self.sal)\n",
    "        \n",
    "class Office(Info):\n",
    "    def __init__(self,name,sal,add):\n",
    "        self.name = name\n",
    "        Info.__init__(self,sal,add)\n",
    "        \n",
    "    def office(self):\n",
    "        print(f\"Hello world I am {self.name} I am from {self.add}. My salary is {self.sal}.\")\n",
    "\n",
    "obj = Office(\"Ram\",30000,\"Kathmandu\")\n",
    "\n",
    "obj.office()\n",
    "        \n",
    "        \n",
    "    "
   ]
  },
  {
   "cell_type": "code",
   "execution_count": 54,
   "id": "4295d3ce",
   "metadata": {},
   "outputs": [
    {
     "name": "stdout",
     "output_type": "stream",
     "text": [
      "Hello world my name is Ram, I am from Kathmandu and my salary is 30000.\n"
     ]
    }
   ],
   "source": [
    "class Salary:\n",
    "    def __init__(self,sal):\n",
    "        self.sal = sal\n",
    "    def salary(self):\n",
    "        print(self.sal)\n",
    "\n",
    "class Address(Salary):\n",
    "    def __init__(self,sal,add):\n",
    "        self.add = add\n",
    "        Salary.__init__(self,sal)\n",
    "        \n",
    "    def address(self):\n",
    "        print(self.add,self.sal)\n",
    "        \n",
    "class Name(Address):\n",
    "    def __init__(self,name,sal,add):\n",
    "        self.name = name\n",
    "        Address.__init__(self,sal,add)       \n",
    "        \n",
    "    def data(self):\n",
    "        print(f\"Hello world my name is {self.name}, I am from {self.add} and my salary is {self.sal}.\")\n",
    "        \n",
    "obj = Name(\"Ram\",30000,\"Kathmandu\")\n",
    "\n",
    "obj.data()\n"
   ]
  },
  {
   "cell_type": "code",
   "execution_count": 56,
   "id": "3c0e5a09",
   "metadata": {},
   "outputs": [
    {
     "name": "stdout",
     "output_type": "stream",
     "text": [
      "Hello world my name is Ram, I live in kathmandu and my salary is 30000.\n"
     ]
    }
   ],
   "source": [
    "class Salary:\n",
    "    def __init__(self,sal):\n",
    "        self.sal = sal\n",
    "    def salary(self):\n",
    "        print(self.sal)\n",
    "        \n",
    "class Address(Salary):\n",
    "    def __init__(self,add,sal):\n",
    "        self.add = add\n",
    "    def address(self):\n",
    "        print(self.add)\n",
    "        \n",
    "class Name(Address):\n",
    "    def __init__(self,name,add,sal):\n",
    "        self.name = name\n",
    "        Salary.__init__(self,sal)\n",
    "        Address.__init__(self,add,sal)\n",
    "    def info(self):\n",
    "        print(f\"Hello world my name is {self.name}, I live in {self.add} and my salary is {self.sal}.\")\n",
    "        \n",
    "obj = Name(\"Ram\",\"kathmandu\",30000)\n",
    "obj.info()\n",
    "    "
   ]
  },
  {
   "cell_type": "code",
   "execution_count": null,
   "id": "d79d9061",
   "metadata": {},
   "outputs": [],
   "source": []
  }
 ],
 "metadata": {
  "kernelspec": {
   "display_name": "Python 3",
   "language": "python",
   "name": "python3"
  },
  "language_info": {
   "codemirror_mode": {
    "name": "ipython",
    "version": 3
   },
   "file_extension": ".py",
   "mimetype": "text/x-python",
   "name": "python",
   "nbconvert_exporter": "python",
   "pygments_lexer": "ipython3",
   "version": "3.8.8"
  }
 },
 "nbformat": 4,
 "nbformat_minor": 5
}
