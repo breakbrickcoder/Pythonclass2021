{
 "cells": [
  {
   "cell_type": "code",
   "execution_count": 1,
   "id": "f0c6bf3f",
   "metadata": {},
   "outputs": [],
   "source": [
    "# importing database\n",
    "import mysql.connector\n",
    "database = mysql.connector.connect(\n",
    "    host = \"localhost\",\n",
    "    user = \"root\",\n",
    "    password = \"\",\n",
    "    database = \"class 5 pm\"\n",
    ")\n",
    "db = database.cursor()"
   ]
  },
  {
   "cell_type": "code",
   "execution_count": 2,
   "id": "ba971ba2",
   "metadata": {},
   "outputs": [
    {
     "name": "stdout",
     "output_type": "stream",
     "text": [
      "(1, 'Ram', 78, 79, 89, 77, 412, 80.2, 'A')\n",
      "(2, 'Shyam', 99, 87, 98, 77, 430, 82.4, 'A')\n",
      "(3, 'Hari', 88, 66, 55, 99, 450, 78.4, 'B')\n",
      "(4, 'Radha', 88, 99, 77, 77, 420, 81.2, 'B')\n",
      "(5, 'Leena', 99, 87, 98, 77, 390, 82.4, 'B')\n",
      "(6, 'Riva', 99, 88, 77, 99, 430, 82.4, 'B')\n"
     ]
    }
   ],
   "source": [
    "db.execute(\"SELECT * FROM student\")\n",
    "result = db.fetchall()\n",
    "for x in result:\n",
    "    print(x)"
   ]
  },
  {
   "cell_type": "code",
   "execution_count": 3,
   "id": "98814909",
   "metadata": {},
   "outputs": [
    {
     "name": "stdout",
     "output_type": "stream",
     "text": [
      "(1, 'Ram', 'A')\n",
      "(2, 'Shyam', 'A')\n",
      "(3, 'Hari', 'B')\n",
      "(4, 'Radha', 'B')\n",
      "(5, 'Leena', 'B')\n",
      "(6, 'Riva', 'B')\n"
     ]
    }
   ],
   "source": [
    "# to view specific fields only\n",
    "db.execute(\"SELECT id,name,grade FROM student\")\n",
    "result = db.fetchall()\n",
    "for x in result:\n",
    "    print(x)"
   ]
  },
  {
   "cell_type": "code",
   "execution_count": 4,
   "id": "5e6254b1",
   "metadata": {},
   "outputs": [
    {
     "name": "stdout",
     "output_type": "stream",
     "text": [
      "(1, 'Ram', 78, 79, 89, 77, 412, 80.2, 'A')\n",
      "(3, 'Hari', 88, 66, 55, 99, 450, 78.4, 'B')\n"
     ]
    }
   ],
   "source": [
    "# to view specific datas only\n",
    "db.execute(\"SELECT * FROM student WHERE name = 'Ram' or name = 'Hari'\")\n",
    "result = db.fetchall()\n",
    "for x in result:\n",
    "    print(x)"
   ]
  },
  {
   "cell_type": "code",
   "execution_count": 5,
   "id": "53939014",
   "metadata": {},
   "outputs": [
    {
     "name": "stdout",
     "output_type": "stream",
     "text": [
      "(1, 'Ram', 78, 79, 89, 77, 412, 80.2, 'A')\n"
     ]
    }
   ],
   "source": [
    "# to view specific datas only\n",
    "db.execute(\"SELECT * FROM student WHERE name = 'Ram' or 'Hari'\") #-----have to give field\n",
    "result = db.fetchall()\n",
    "for x in result:\n",
    "    print(x)"
   ]
  },
  {
   "cell_type": "code",
   "execution_count": 6,
   "id": "195f897b",
   "metadata": {},
   "outputs": [
    {
     "name": "stdout",
     "output_type": "stream",
     "text": [
      "(1, 'Ram', 78, 79, 89, 77, 412, 80.2, 'A')\n",
      "(2, 'Shyam', 99, 87, 98, 77, 430, 82.4, 'A')\n"
     ]
    }
   ],
   "source": [
    "db.execute(\"SELECT * FROM student WHERE grade = 'A'\") #-----have to give field\n",
    "result = db.fetchall()\n",
    "for x in result:\n",
    "    print(x)"
   ]
  },
  {
   "cell_type": "code",
   "execution_count": 7,
   "id": "92c0ea07",
   "metadata": {},
   "outputs": [
    {
     "name": "stdout",
     "output_type": "stream",
     "text": [
      "(3, 'Hari', 88, 66, 55, 99, 450, 78.4, 'B')\n",
      "(4, 'Radha', 88, 99, 77, 77, 420, 81.2, 'B')\n",
      "(5, 'Leena', 99, 87, 98, 77, 390, 82.4, 'B')\n",
      "(6, 'Riva', 99, 88, 77, 99, 430, 82.4, 'B')\n"
     ]
    }
   ],
   "source": [
    "db.execute(\"SELECT * FROM student WHERE grade = 'B'\") #-----have to give field\n",
    "result = db.fetchall()\n",
    "for x in result:\n",
    "    print(x)"
   ]
  },
  {
   "cell_type": "code",
   "execution_count": 10,
   "id": "31212f4a",
   "metadata": {},
   "outputs": [
    {
     "name": "stdout",
     "output_type": "stream",
     "text": [
      "1 record inserted.\n"
     ]
    }
   ],
   "source": [
    "sql = \"INSERT INTO student (name, physics, chemistry, english, nepali, total, per, grade) VALUES ('Sabina', '88', '98', '78', '77', '380', '87.2', 'A');\"\n",
    "db.execute(sql)\n",
    "database.commit()\n",
    "print(db.rowcount, \"record inserted.\")\n"
   ]
  },
  {
   "cell_type": "code",
   "execution_count": 14,
   "id": "d056d604",
   "metadata": {},
   "outputs": [
    {
     "name": "stdout",
     "output_type": "stream",
     "text": [
      "n = 1\n",
      "Enter name = Radhika\n",
      "Enter physics marks = 77\n",
      "Enter chemistry marks = 88\n",
      "Enter english marks = 99\n",
      "Enter nepali marks = 77\n"
     ]
    }
   ],
   "source": [
    "n = int(input( \"n = \"))\n",
    "for i in range(n):\n",
    "    name  = input(\"Enter name = \")\n",
    "    physics  = int(input(\"Enter physics marks = \"))\n",
    "    chemistry  = int(input(\"Enter chemistry marks = \"))\n",
    "    english  = int(input(\"Enter english marks = \"))\n",
    "    nepali  = int(input(\"Enter nepali marks = \"))\n",
    "    total = sum([physics,chemistry,english,nepali])\n",
    "    per = total/4\n",
    "    if per >= 80:\n",
    "        grade = \"A\"\n",
    "    elif per >= 60:\n",
    "        grade = \"B\"\n",
    "    elif per >= 50:\n",
    "        grade = \"C\"\n",
    "    else:\n",
    "        grade = \"D\"\n",
    "        \n",
    "    sql = f\"INSERT INTO student (name, physics, chemistry, english, nepali, total, per, grade) VALUES ('{name}', {physics}, {chemistry}, {english}, {nepali}, {total}, {per}, '{grade}')\"\n",
    "    db.execute(sql)\n",
    "database.commit()\n"
   ]
  },
  {
   "cell_type": "code",
   "execution_count": 15,
   "id": "0c24fb38",
   "metadata": {},
   "outputs": [],
   "source": [
    "sql =\"DELETE FROM student WHERE id = 2\"\n",
    "db.execute(sql)\n",
    "database.commit()"
   ]
  },
  {
   "cell_type": "code",
   "execution_count": 16,
   "id": "d5627852",
   "metadata": {},
   "outputs": [
    {
     "name": "stdout",
     "output_type": "stream",
     "text": [
      "Enter id = 3\n"
     ]
    }
   ],
   "source": [
    "id = int(input(\"Enter id = \"))\n",
    "sql = f\"DELETE FROM student WHERE id = {id}\"\n",
    "db.execute(sql)\n",
    "database.commit()"
   ]
  },
  {
   "cell_type": "code",
   "execution_count": 20,
   "id": "171c7329",
   "metadata": {},
   "outputs": [
    {
     "name": "stdout",
     "output_type": "stream",
     "text": [
      "Enter field (id,grade,name) = name\n",
      "Enter value = Ram\n"
     ]
    }
   ],
   "source": [
    "field = input(\"Enter field (id,grade,name) = \")\n",
    "value = input(\"Enter value = \")\n",
    "sql = f\"DELETE FROM student WHERE {field} = '{value}'\"\n",
    "db.execute(sql)\n",
    "database.commit()"
   ]
  },
  {
   "cell_type": "code",
   "execution_count": 21,
   "id": "9dae4de3",
   "metadata": {},
   "outputs": [
    {
     "name": "stdout",
     "output_type": "stream",
     "text": [
      "Enter field (id,grade,name) = id\n",
      "Enter value = 8\n"
     ]
    }
   ],
   "source": [
    "field = input(\"Enter field (id,grade,name) = \")\n",
    "value = input(\"Enter value = \")\n",
    "sql = f\"DELETE FROM student WHERE {field} = '{value}'\"\n",
    "db.execute(sql)\n",
    "database.commit()"
   ]
  },
  {
   "cell_type": "code",
   "execution_count": 23,
   "id": "28d297b8",
   "metadata": {},
   "outputs": [
    {
     "name": "stdout",
     "output_type": "stream",
     "text": [
      "Enter name = Satbhat\n",
      "Enter id = 9\n"
     ]
    }
   ],
   "source": [
    "name = input(\"Enter name = \")\n",
    "id = int(input(\"Enter id = \"))\n",
    "\n",
    "sql = f\"UPDATE student SET name = '{name}' WHERE id = {id}\" #---replacing name where id is ____\n",
    "db.execute(sql)\n",
    "database.commit()"
   ]
  },
  {
   "cell_type": "code",
   "execution_count": null,
   "id": "d46d069f",
   "metadata": {},
   "outputs": [],
   "source": [
    "id = int(input(\"Enter id = \"))\n",
    "sql = f\"DELETE \""
   ]
  }
 ],
 "metadata": {
  "kernelspec": {
   "display_name": "Python 3",
   "language": "python",
   "name": "python3"
  },
  "language_info": {
   "codemirror_mode": {
    "name": "ipython",
    "version": 3
   },
   "file_extension": ".py",
   "mimetype": "text/x-python",
   "name": "python",
   "nbconvert_exporter": "python",
   "pygments_lexer": "ipython3",
   "version": "3.8.8"
  }
 },
 "nbformat": 4,
 "nbformat_minor": 5
}
