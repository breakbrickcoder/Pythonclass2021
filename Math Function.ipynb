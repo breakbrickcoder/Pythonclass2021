{
 "cells": [
  {
   "cell_type": "code",
   "execution_count": 5,
   "id": "beba7c0e",
   "metadata": {},
   "outputs": [
    {
     "name": "stdout",
     "output_type": "stream",
     "text": [
      "3.141592653589793\n"
     ]
    }
   ],
   "source": [
    "# math function\n",
    "import math as m\n",
    "print(m.pi)\n"
   ]
  },
  {
   "cell_type": "code",
   "execution_count": 8,
   "id": "d11d1a70",
   "metadata": {},
   "outputs": [
    {
     "data": {
      "text/plain": [
       "3.14"
      ]
     },
     "execution_count": 8,
     "metadata": {},
     "output_type": "execute_result"
    }
   ],
   "source": [
    "import math as m\n",
    "x = m.pi\n",
    "round(x,2)           #only 2 decimals"
   ]
  },
  {
   "cell_type": "code",
   "execution_count": 9,
   "id": "30e98eb8",
   "metadata": {},
   "outputs": [
    {
     "data": {
      "text/plain": [
       "3.14"
      ]
     },
     "execution_count": 9,
     "metadata": {},
     "output_type": "execute_result"
    }
   ],
   "source": [
    "round(m.pi,2)"
   ]
  },
  {
   "cell_type": "code",
   "execution_count": 10,
   "id": "06519084",
   "metadata": {},
   "outputs": [
    {
     "data": {
      "text/plain": [
       "0.8939966636005579"
      ]
     },
     "execution_count": 10,
     "metadata": {},
     "output_type": "execute_result"
    }
   ],
   "source": [
    "import math as m\n",
    "a = m.sin(90)\n",
    "a "
   ]
  },
  {
   "cell_type": "code",
   "execution_count": 13,
   "id": "0416163f",
   "metadata": {},
   "outputs": [
    {
     "data": {
      "text/plain": [
       "1.0"
      ]
     },
     "execution_count": 13,
     "metadata": {},
     "output_type": "execute_result"
    }
   ],
   "source": [
    "import math as m\n",
    "a = m.pi/2\n",
    "p = m.sin(a)\n",
    "p"
   ]
  },
  {
   "cell_type": "code",
   "execution_count": 14,
   "id": "6f76becc",
   "metadata": {},
   "outputs": [
    {
     "name": "stdout",
     "output_type": "stream",
     "text": [
      "Enter r = 4\n",
      "50.26548245743669\n"
     ]
    }
   ],
   "source": [
    "import math as m\n",
    "r = float(input(\"Enter r = \"))\n",
    "p = m.pi*m.pow(r,2)               # r square is written as m.pow(r,2)\n",
    "print (p)"
   ]
  },
  {
   "cell_type": "code",
   "execution_count": 18,
   "id": "c8c322fe",
   "metadata": {},
   "outputs": [
    {
     "name": "stdout",
     "output_type": "stream",
     "text": [
      "Enter r = 4\n"
     ]
    },
    {
     "data": {
      "text/plain": [
       "50.27"
      ]
     },
     "execution_count": 18,
     "metadata": {},
     "output_type": "execute_result"
    }
   ],
   "source": [
    "import math as m\n",
    "r = float(input(\"Enter r = \"))\n",
    "p = m.pi*r**2               # r square is written as m.pow(r,2)\n",
    "round(p,2)"
   ]
  },
  {
   "cell_type": "code",
   "execution_count": null,
   "id": "7cd9e027",
   "metadata": {},
   "outputs": [],
   "source": []
  }
 ],
 "metadata": {
  "kernelspec": {
   "display_name": "Python 3",
   "language": "python",
   "name": "python3"
  },
  "language_info": {
   "codemirror_mode": {
    "name": "ipython",
    "version": 3
   },
   "file_extension": ".py",
   "mimetype": "text/x-python",
   "name": "python",
   "nbconvert_exporter": "python",
   "pygments_lexer": "ipython3",
   "version": "3.8.8"
  }
 },
 "nbformat": 4,
 "nbformat_minor": 5
}
