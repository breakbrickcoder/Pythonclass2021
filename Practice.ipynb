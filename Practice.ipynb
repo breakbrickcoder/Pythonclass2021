{
 "cells": [
  {
   "cell_type": "code",
   "execution_count": 2,
   "id": "74fbb204",
   "metadata": {},
   "outputs": [
    {
     "data": {
      "text/plain": [
       "24"
      ]
     },
     "execution_count": 2,
     "metadata": {},
     "output_type": "execute_result"
    }
   ],
   "source": [
    "def funct(n):\n",
    "    if n==1:\n",
    "        return n\n",
    "    else:\n",
    "        return n * funct(n-1)\n",
    "    \n",
    "funct(4)"
   ]
  },
  {
   "cell_type": "code",
   "execution_count": 1,
   "id": "b704bc79",
   "metadata": {},
   "outputs": [
    {
     "data": {
      "text/plain": [
       "720"
      ]
     },
     "execution_count": 1,
     "metadata": {},
     "output_type": "execute_result"
    }
   ],
   "source": [
    "def func(n):\n",
    "    if n==1:\n",
    "        return n\n",
    "    else:\n",
    "        return n*func(n-1)\n",
    "func(6)"
   ]
  },
  {
   "cell_type": "code",
   "execution_count": 7,
   "id": "94f9e0fb",
   "metadata": {},
   "outputs": [
    {
     "data": {
      "text/plain": [
       "1"
      ]
     },
     "execution_count": 7,
     "metadata": {},
     "output_type": "execute_result"
    }
   ],
   "source": [
    "def funct(n):\n",
    "    if n==1:\n",
    "        return n\n",
    "    else:\n",
    "        return n * funct(n-1)\n",
    "    \n",
    "funct(1)"
   ]
  },
  {
   "cell_type": "code",
   "execution_count": 5,
   "id": "521b2fb2",
   "metadata": {},
   "outputs": [
    {
     "name": "stdout",
     "output_type": "stream",
     "text": [
      "Enter n = 5\n"
     ]
    },
    {
     "data": {
      "text/plain": [
       "120"
      ]
     },
     "execution_count": 5,
     "metadata": {},
     "output_type": "execute_result"
    }
   ],
   "source": [
    "def funct(n):\n",
    "    if n==1:\n",
    "        return n\n",
    "    else:\n",
    "        return n * funct(n-1)\n",
    "    \n",
    "n = int(input(\"Enter n = \"))\n",
    "funct(n)"
   ]
  },
  {
   "cell_type": "code",
   "execution_count": 2,
   "id": "5115f6e9",
   "metadata": {},
   "outputs": [
    {
     "name": "stdout",
     "output_type": "stream",
     "text": [
      "2\n",
      "3\n",
      "4\n",
      "5\n",
      "6\n",
      "7\n",
      "8\n",
      "9\n",
      "10\n"
     ]
    }
   ],
   "source": [
    "def control_loop(val):\n",
    "    if val >= 10:\n",
    "        return False\n",
    "    return True\n",
    "\n",
    "limit = 1\n",
    "while control_loop(limit):\n",
    "    limit += 1\n",
    "    print(limit)"
   ]
  },
  {
   "cell_type": "code",
   "execution_count": 2,
   "id": "290aa009",
   "metadata": {},
   "outputs": [
    {
     "name": "stdout",
     "output_type": "stream",
     "text": [
      "<class 'tuple'>\n"
     ]
    }
   ],
   "source": [
    "#changing tuple to list\n",
    "atuple = (1,2,3,4,5)\n",
    "print(type(atuple)) "
   ]
  },
  {
   "cell_type": "code",
   "execution_count": 6,
   "id": "cba526b1",
   "metadata": {},
   "outputs": [
    {
     "name": "stdout",
     "output_type": "stream",
     "text": [
      "<class 'tuple'>\n"
     ]
    }
   ],
   "source": [
    "a = (1,)\n",
    "print(type(a))"
   ]
  },
  {
   "cell_type": "code",
   "execution_count": 11,
   "id": "c1062ec8",
   "metadata": {},
   "outputs": [
    {
     "name": "stdout",
     "output_type": "stream",
     "text": [
      "['true', 'false', 12, 21, 'binod']\n",
      "<class 'tuple'>\n",
      "<class 'list'>\n"
     ]
    }
   ],
   "source": [
    "a = (\"true\", \"false\",12,21,\"binod\")\n",
    "b = list(a)\n",
    "print(b)\n",
    "print(type(a))\n",
    "print(type(b))"
   ]
  },
  {
   "cell_type": "code",
   "execution_count": 7,
   "id": "b7d46dff",
   "metadata": {},
   "outputs": [
    {
     "name": "stdout",
     "output_type": "stream",
     "text": [
      "Enter row = 3\n",
      "Enter column = 4\n",
      "5 7\n"
     ]
    }
   ],
   "source": [
    "s = 0\n",
    "row = int(input(\"Enter row = \"))\n",
    "column = int(input(\"Enter column = \"))\n",
    "for i in range(row):\n",
    "    \n",
    "    i = i+row\n",
    "\n",
    "    for j in range(i):\n",
    "        \n",
    "        j = j+column\n",
    "\n",
    "print(i,j)\n",
    "\n",
    "        \n",
    "    \n",
    "    \n",
    "    \n",
    " \n",
    "    \n",
    "    "
   ]
  },
  {
   "cell_type": "code",
   "execution_count": 12,
   "id": "b881d941",
   "metadata": {},
   "outputs": [
    {
     "name": "stdout",
     "output_type": "stream",
     "text": [
      "* * * * \n",
      "* * * * \n",
      "* * * * \n"
     ]
    }
   ],
   "source": [
    "rows = 3\n",
    "cols = 4\n",
    "for i in range(rows):\n",
    "    print('*', end =' ')\n",
    "    for j in range(cols-1):\n",
    "        i*= j\n",
    "        print('*', end =' ')\n",
    "    print('')"
   ]
  },
  {
   "cell_type": "code",
   "execution_count": 1,
   "id": "fb0a1adf",
   "metadata": {},
   "outputs": [
    {
     "name": "stdout",
     "output_type": "stream",
     "text": [
      "Enter n = 4\n",
      "24\n"
     ]
    }
   ],
   "source": [
    "#1*2*3*4 = 24\n",
    "fac = 1\n",
    "n = int(input(\"Enter n = \"))\n",
    "for i in range(1,n+1):\n",
    "    fac = fac*i\n",
    "print(fac)"
   ]
  },
  {
   "cell_type": "code",
   "execution_count": 3,
   "id": "73e8c092",
   "metadata": {},
   "outputs": [
    {
     "name": "stdout",
     "output_type": "stream",
     "text": [
      "Enter n = 3\n",
      "Enter name = ram\n",
      "Enter name = sam\n",
      "Enter name = hari\n",
      "ram\n",
      "sam\n",
      "hari\n",
      "\n"
     ]
    }
   ],
   "source": [
    "s = str()\n",
    "n = int(input(\"Enter n = \"))\n",
    "for i in range(1,n+1):\n",
    "    x = input(\"Enter name = \")\n",
    "    s = s+x+\"\\n\"\n",
    "print(s)"
   ]
  },
  {
   "cell_type": "code",
   "execution_count": 1,
   "id": "b3af93f6",
   "metadata": {},
   "outputs": [],
   "source": [
    "#making rectangle\n",
    "def square(n,m):\n",
    "    n = 10\n",
    "    m = 10\n",
    "    for i in range(1,n+1):\n",
    "        for j in range(1,m+1):\n",
    "            if (i == 1 or i == n or \n",
    "                j == 1 or j == m) :\n",
    "                print(\"*\", end = \"\")\n",
    "            else:\n",
    "                print(\" \", end = \"\")\n",
    "        print()"
   ]
  },
  {
   "cell_type": "code",
   "execution_count": 37,
   "id": "5fc29b43",
   "metadata": {},
   "outputs": [
    {
     "name": "stdout",
     "output_type": "stream",
     "text": [
      "No. of columns = 10\n",
      "No. of rows = 10\n",
      " *  *  *  *  *  *  *  *  *  * \n",
      " *                          * \n",
      " *                          * \n",
      " *                          * \n",
      " *                          * \n",
      " *                          * \n",
      " *                          * \n",
      " *                          * \n",
      " *                          * \n",
      " *  *  *  *  *  *  *  *  *  * \n"
     ]
    }
   ],
   "source": [
    "def shape(n,m):\n",
    "    n = int(input(\"No. of columns = \"))\n",
    "    m = int(input(\"No. of rows = \"))\n",
    "    for i in range(1,n+1):\n",
    "        for j in range(1,m+1):\n",
    "            if (i == 1 or i == n or j == 1 or j == m):\n",
    "                print(\" * \", end = \"\")\n",
    "            else:\n",
    "                print(\"   \", end = \"\")\n",
    "        print()\n",
    "shape(m,n)\n"
   ]
  },
  {
   "cell_type": "code",
   "execution_count": 4,
   "id": "40523b1c",
   "metadata": {},
   "outputs": [
    {
     "name": "stdout",
     "output_type": "stream",
     "text": [
      "No. of cols = 10\n",
      "No. of rows = 10\n",
      " *  *  *  *  *  *  *  *  *  * \n",
      " *                          * \n",
      " *                          * \n",
      " *                          * \n",
      " *                          * \n",
      " *                          * \n",
      " *                          * \n",
      " *                          * \n",
      " *                          * \n",
      " *  *  *  *  *  *  *  *  *  * \n"
     ]
    }
   ],
   "source": [
    "def sq(c,r):\n",
    "    \n",
    "    c = int(input(\"No. of cols = \"))\n",
    "    r = int(input(\"No. of rows = \"))\n",
    "    \n",
    "    for i in range(1,c+1):\n",
    "        for j in range(1,r+1):\n",
    "            if (i == 1 or i == c or j == 1 or j == r):\n",
    "                print(\" * \",end = \"\")\n",
    "            else:\n",
    "                print(\"   \", end = \"\")\n",
    "        print()\n",
    "sq(10,10)\n",
    "            "
   ]
  },
  {
   "cell_type": "code",
   "execution_count": 39,
   "id": "e82dd444",
   "metadata": {},
   "outputs": [
    {
     "name": "stdout",
     "output_type": "stream",
     "text": [
      "No. of columns = 5\n",
      "No. of rows = 5\n",
      " *  *  *  *  * \n",
      " *           * \n",
      " *           * \n",
      " *           * \n",
      " *  *  *  *  * \n"
     ]
    }
   ],
   "source": [
    "shape(m,n)"
   ]
  },
  {
   "cell_type": "code",
   "execution_count": 2,
   "id": "74f7f46b",
   "metadata": {},
   "outputs": [
    {
     "name": "stdout",
     "output_type": "stream",
     "text": [
      "[6, 7, 5]\n"
     ]
    }
   ],
   "source": [
    "# slicing\n",
    "a = [1,2,3,3,4,5,6,7,5,5,4,4,3,5]\n",
    "b = a[6:9]\n",
    "print(b)"
   ]
  },
  {
   "cell_type": "code",
   "execution_count": 9,
   "id": "7387a990",
   "metadata": {},
   "outputs": [
    {
     "name": "stdout",
     "output_type": "stream",
     "text": [
      "levels = 10\n",
      "0 1 0 1 0 1 0 1 0 1 \n",
      "1 0 1 0 1 0 1 0 1 \n",
      "0 1 0 1 0 1 0 1 \n",
      "1 0 1 0 1 0 1 \n",
      "0 1 0 1 0 1 \n",
      "1 0 1 0 1 \n",
      "0 1 0 1 \n",
      "1 0 1 \n",
      "0 1 \n",
      "1 \n"
     ]
    }
   ],
   "source": [
    "n = int(input(\"levels = \"))\n",
    "for i in range(0,n):\n",
    "    for j in range(n-i,0,-1):\n",
    "        print(j%2, end = \" \")\n",
    "    print()"
   ]
  },
  {
   "cell_type": "code",
   "execution_count": 13,
   "id": "8c5725e2",
   "metadata": {},
   "outputs": [
    {
     "name": "stdout",
     "output_type": "stream",
     "text": [
      "0 0\n",
      "1 1\n",
      "2 0\n",
      "3 1\n",
      "4 0\n",
      "5 1\n",
      "6 0\n",
      "7 1\n",
      "8 0\n",
      "9 1\n",
      "10 0\n",
      "11 1\n",
      "12 0\n",
      "13 1\n",
      "14 0\n",
      "15 1\n",
      "16 0\n",
      "17 1\n",
      "18 0\n",
      "19 1\n"
     ]
    }
   ],
   "source": [
    "n = 20\n",
    "for i in range(n):\n",
    "    print(i,i%2)\n",
    "    \n"
   ]
  },
  {
   "cell_type": "code",
   "execution_count": 6,
   "id": "b43b6adf",
   "metadata": {},
   "outputs": [
    {
     "name": "stdout",
     "output_type": "stream",
     "text": [
      "<filter object at 0x00000218EF6795E0>\n"
     ]
    }
   ],
   "source": [
    "ages = (5,12,17,18,19,20,32)\n",
    "def fun(x):\n",
    "    if x < 18:\n",
    "        return False\n",
    "    else:\n",
    "        return True\n",
    "        adults = filter(fun, ages)\n",
    "print(adults)"
   ]
  },
  {
   "cell_type": "code",
   "execution_count": 7,
   "id": "c0737cf9",
   "metadata": {},
   "outputs": [
    {
     "name": "stdout",
     "output_type": "stream",
     "text": [
      "{1, 2, 3, 4, 5}\n",
      "<class 'set'>\n"
     ]
    }
   ],
   "source": [
    "a = {1,2,3,4,5}\n",
    "print(a)\n",
    "print(type(a))"
   ]
  },
  {
   "cell_type": "code",
   "execution_count": null,
   "id": "92957410",
   "metadata": {},
   "outputs": [],
   "source": [
    "# set\n",
    "# #set does not follow indexing\n",
    "# unordered\n",
    "# does not have multiple value\n",
    "# mutable"
   ]
  },
  {
   "cell_type": "code",
   "execution_count": 9,
   "id": "4e7ed9d6",
   "metadata": {},
   "outputs": [
    {
     "name": "stdout",
     "output_type": "stream",
     "text": [
      "{1, 2, 3, 4, 5}\n"
     ]
    }
   ],
   "source": [
    "a = {3,2,4,5,1}\n",
    "print(a)"
   ]
  },
  {
   "cell_type": "code",
   "execution_count": 10,
   "id": "d47ae1bd",
   "metadata": {},
   "outputs": [
    {
     "name": "stdout",
     "output_type": "stream",
     "text": [
      "{'cat', 2, 'ball', 'dog'}\n"
     ]
    }
   ],
   "source": [
    "a = {2,\"ball\",\"cat\",\"dog\"}\n",
    "print(a)"
   ]
  },
  {
   "cell_type": "code",
   "execution_count": 11,
   "id": "2d3fc047",
   "metadata": {},
   "outputs": [
    {
     "data": {
      "text/plain": [
       "{1, 2, 3, 4, 5, 6}"
      ]
     },
     "execution_count": 11,
     "metadata": {},
     "output_type": "execute_result"
    }
   ],
   "source": [
    "a = {1,2,3,3,3,3,4,4,4,4,5,5,5,6,6,6}\n",
    "a"
   ]
  },
  {
   "cell_type": "code",
   "execution_count": 13,
   "id": "6628933f",
   "metadata": {},
   "outputs": [
    {
     "name": "stdout",
     "output_type": "stream",
     "text": [
      "{2, 'Apple', 'Ball'}\n"
     ]
    }
   ],
   "source": [
    "a = set()\n",
    "a.add (\"Apple\")\n",
    "a.add (\"Ball\")\n",
    "a.add (2)\n",
    "print(a)"
   ]
  },
  {
   "cell_type": "code",
   "execution_count": 14,
   "id": "612391f3",
   "metadata": {},
   "outputs": [
    {
     "name": "stdout",
     "output_type": "stream",
     "text": [
      "Enter n = 2\n",
      "Enter name = ram\n",
      "Enter name = sam\n",
      "{'ram', 'sam'}\n"
     ]
    }
   ],
   "source": [
    "a = set()\n",
    "n = int(input(\"Enter n = \"))\n",
    "for i in range(n):\n",
    "    name = input(\"Enter name = \")\n",
    "    a.add(name)\n",
    "print(a)"
   ]
  },
  {
   "cell_type": "code",
   "execution_count": 18,
   "id": "e875c333",
   "metadata": {},
   "outputs": [
    {
     "data": {
      "text/plain": [
       "{2, 'Ball'}"
      ]
     },
     "execution_count": 18,
     "metadata": {},
     "output_type": "execute_result"
    }
   ],
   "source": [
    "a = {2, 'Apple', 'Ball'}\n",
    "a.remove(\"Apple\")\n",
    "a"
   ]
  },
  {
   "cell_type": "code",
   "execution_count": 5,
   "id": "5e8adce8",
   "metadata": {},
   "outputs": [
    {
     "name": "stdout",
     "output_type": "stream",
     "text": [
      "Apple,Ball,Cat\n",
      "Dog,Ball,Cat\n",
      "{'Dog,Ball,Cat'}\n"
     ]
    }
   ],
   "source": [
    "a = \"Apple,Ball,Cat\"\n",
    "\n",
    "b = a.replace('Apple', 'Dog')\n",
    "c = {b}\n",
    "\n",
    "print(a)\n",
    "type(a)\n",
    "print(b)\n",
    "print(c)"
   ]
  },
  {
   "cell_type": "code",
   "execution_count": 7,
   "id": "5d65b559",
   "metadata": {},
   "outputs": [
    {
     "name": "stdout",
     "output_type": "stream",
     "text": [
      "{'and', 'had', 'cat', 'two', 'thing', 'the', 'in', 'sidekicks', 'hat', 'one'}\n"
     ]
    }
   ],
   "source": [
    "sentence = \"The cat in hat had two sidekicks, thing one and thing two\"\n",
    "words = sentence.lower().replace('.','').replace(',','').split()\n",
    "unique_words = {word for word in words} \n",
    "print(unique_words)"
   ]
  },
  {
   "cell_type": "code",
   "execution_count": 3,
   "id": "531d3cca",
   "metadata": {},
   "outputs": [
    {
     "name": "stdout",
     "output_type": "stream",
     "text": [
      "The cat in hat had two sidekicks, thing one and thing two\n"
     ]
    }
   ],
   "source": [
    "sentence = \"The cat in hat had two sidekicks, thing one and thing two\"\n",
    "words = sentence.replace('.','')\n",
    "print(words)"
   ]
  },
  {
   "cell_type": "code",
   "execution_count": 8,
   "id": "9d34bba6",
   "metadata": {},
   "outputs": [
    {
     "data": {
      "text/plain": [
       "set"
      ]
     },
     "execution_count": 8,
     "metadata": {},
     "output_type": "execute_result"
    }
   ],
   "source": [
    "a = {1,2}\n",
    "type(a)"
   ]
  },
  {
   "cell_type": "code",
   "execution_count": 9,
   "id": "3184b615",
   "metadata": {},
   "outputs": [
    {
     "name": "stdout",
     "output_type": "stream",
     "text": [
      "[1, 2, 3, 4, 5, 6, 7]\n"
     ]
    }
   ],
   "source": [
    "a = [1,2,3,3,4,4,5,5,6,6,6,7,7,7]\n",
    "b = set(a)\n",
    "a = list(b)\n",
    "print(a)"
   ]
  },
  {
   "cell_type": "code",
   "execution_count": 12,
   "id": "6ef17285",
   "metadata": {},
   "outputs": [
    {
     "name": "stdout",
     "output_type": "stream",
     "text": [
      "{1, 2, 3, 4, 5, 6, 7, 8, 9}\n"
     ]
    }
   ],
   "source": [
    "a = {1,2,3,4,5}\n",
    "b = {6,7,8,9}\n",
    "a.update(b)\n",
    "print(a)"
   ]
  },
  {
   "cell_type": "code",
   "execution_count": 14,
   "id": "d5be9eb2",
   "metadata": {},
   "outputs": [
    {
     "name": "stdout",
     "output_type": "stream",
     "text": [
      "{1, 2, 3, 4, 5, 6}\n"
     ]
    }
   ],
   "source": [
    "a = {1,2,3,4,5}\n",
    "\n",
    "a.add(6)\n",
    "print(a)"
   ]
  },
  {
   "cell_type": "code",
   "execution_count": 15,
   "id": "27b8f147",
   "metadata": {},
   "outputs": [
    {
     "data": {
      "text/plain": [
       "{1, 2, 3, 4, 5, 6, 7, 8, 9}"
      ]
     },
     "execution_count": 15,
     "metadata": {},
     "output_type": "execute_result"
    }
   ],
   "source": [
    "a = {1,2,3,4,5}\n",
    "b = {6,7,8,9}\n",
    "a.union(b)"
   ]
  },
  {
   "cell_type": "code",
   "execution_count": 17,
   "id": "ae0b7c25",
   "metadata": {},
   "outputs": [
    {
     "data": {
      "text/plain": [
       "{'Kon', 'Ram'}"
      ]
     },
     "execution_count": 17,
     "metadata": {},
     "output_type": "execute_result"
    }
   ],
   "source": [
    "a = {\"Ram\",\"Sita\",\"Hari\",\"Kon\"}\n",
    "b = {\"Ram\",\"Kon\",\"Don\",\"Lov\"}\n",
    "a.intersection(b)"
   ]
  },
  {
   "cell_type": "code",
   "execution_count": 18,
   "id": "e265c0aa",
   "metadata": {},
   "outputs": [
    {
     "data": {
      "text/plain": [
       "{'Don', 'Hari', 'Kon', 'Lov', 'Ram', 'Sita'}"
      ]
     },
     "execution_count": 18,
     "metadata": {},
     "output_type": "execute_result"
    }
   ],
   "source": [
    "a.union(b)"
   ]
  },
  {
   "cell_type": "code",
   "execution_count": 19,
   "id": "501f4dd9",
   "metadata": {},
   "outputs": [
    {
     "data": {
      "text/plain": [
       "{'Hari', 'Sita'}"
      ]
     },
     "execution_count": 19,
     "metadata": {},
     "output_type": "execute_result"
    }
   ],
   "source": [
    "a.difference(b)"
   ]
  },
  {
   "cell_type": "code",
   "execution_count": 21,
   "id": "88e290ec",
   "metadata": {},
   "outputs": [
    {
     "data": {
      "text/plain": [
       "{'Hari', 'Sita'}"
      ]
     },
     "execution_count": 21,
     "metadata": {},
     "output_type": "execute_result"
    }
   ],
   "source": [
    "a = {\"Ram\",\"Sita\",\"Hari\",\"Kon\"}\n",
    "b = {\"Ram\",\"Kon\",\"Don\",\"Lov\"}\n",
    "a.difference(b)"
   ]
  },
  {
   "cell_type": "code",
   "execution_count": 22,
   "id": "8d4a4f93",
   "metadata": {},
   "outputs": [
    {
     "data": {
      "text/plain": [
       "{'Ram', 'Sita'}"
      ]
     },
     "execution_count": 22,
     "metadata": {},
     "output_type": "execute_result"
    }
   ],
   "source": [
    "a = {\"Ram\",\"Shyam\",\"Hari\",\"Sita\",\"Gita\"}\n",
    "b = {\"Nabin\",\"Arun\",\"Sabin\",\"Sita\",\"Ram\"}\n",
    "a.intersection(b)"
   ]
  },
  {
   "cell_type": "code",
   "execution_count": 23,
   "id": "87760112",
   "metadata": {},
   "outputs": [
    {
     "data": {
      "text/plain": [
       "{'Arun', 'Gita', 'Hari', 'Nabin', 'Sabin', 'Shyam'}"
      ]
     },
     "execution_count": 23,
     "metadata": {},
     "output_type": "execute_result"
    }
   ],
   "source": [
    "a = {\"Ram\",\"Shyam\",\"Hari\",\"Sita\",\"Gita\"}\n",
    "b = {\"Nabin\",\"Arun\",\"Sabin\",\"Sita\",\"Ram\"}\n",
    "a.symmetric_difference(b)"
   ]
  },
  {
   "cell_type": "code",
   "execution_count": 25,
   "id": "2c1315c1",
   "metadata": {},
   "outputs": [
    {
     "name": "stdout",
     "output_type": "stream",
     "text": [
      "{'Nabin', 'Gita', 'Shyam', 'Hari', 'Arun', 'Sabin'}\n"
     ]
    }
   ],
   "source": [
    "a = {\"Ram\",\"Shyam\",\"Hari\",\"Sita\",\"Gita\"}\n",
    "b = {\"Nabin\",\"Arun\",\"Sabin\",\"Sita\",\"Ram\"}\n",
    "u = a.union(b)\n",
    "i = a.intersection(b)\n",
    "\n",
    "ans = u.difference(i)\n",
    "print(ans)"
   ]
  },
  {
   "cell_type": "code",
   "execution_count": 2,
   "id": "0ba59a59",
   "metadata": {},
   "outputs": [
    {
     "name": "stdout",
     "output_type": "stream",
     "text": [
      "False\n"
     ]
    }
   ],
   "source": [
    "# a.isdisjoint() - to check uncommon value that returns logical operation \"True\" if there isn't common\n",
    "# \"False\" if there is common\n",
    "a = {\"Ram\",\"Shyam\",\"Hari\",\"Sita\",\"Gita\"}\n",
    "b = {\"Nabin\",\"Arun\",\"Sabin\",\"Sita\",\"Ram\"}\n",
    "\n",
    "print(a.isdisjoint(b))"
   ]
  },
  {
   "cell_type": "code",
   "execution_count": 3,
   "id": "934ca9cb",
   "metadata": {},
   "outputs": [
    {
     "name": "stdout",
     "output_type": "stream",
     "text": [
      "False\n"
     ]
    }
   ],
   "source": [
    "a = {\"cat\",\"dog\",\"fish\",\"elephant\"}\n",
    "b = {\"cat\",\"dog\"}\n",
    "print(a.issubset(b))"
   ]
  },
  {
   "cell_type": "code",
   "execution_count": 4,
   "id": "c30b1a0b",
   "metadata": {},
   "outputs": [
    {
     "data": {
      "text/plain": [
       "True"
      ]
     },
     "execution_count": 4,
     "metadata": {},
     "output_type": "execute_result"
    }
   ],
   "source": [
    "a = {\"cat\",\"dog\",\"fish\",\"elephant\"}\n",
    "b = {\"cat\",\"dog\"}\n",
    "a.issuperset(b)"
   ]
  },
  {
   "cell_type": "code",
   "execution_count": null,
   "id": "a880b8ed",
   "metadata": {},
   "outputs": [],
   "source": []
  }
 ],
 "metadata": {
  "kernelspec": {
   "display_name": "Python 3",
   "language": "python",
   "name": "python3"
  },
  "language_info": {
   "codemirror_mode": {
    "name": "ipython",
    "version": 3
   },
   "file_extension": ".py",
   "mimetype": "text/x-python",
   "name": "python",
   "nbconvert_exporter": "python",
   "pygments_lexer": "ipython3",
   "version": "3.8.8"
  }
 },
 "nbformat": 4,
 "nbformat_minor": 5
}
