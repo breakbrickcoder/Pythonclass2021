{
 "cells": [
  {
   "cell_type": "code",
   "execution_count": 1,
   "id": "fda34b3e",
   "metadata": {},
   "outputs": [],
   "source": [
    "#d = {}\n",
    "#d = {<key>:<value>}"
   ]
  },
  {
   "cell_type": "code",
   "execution_count": 2,
   "id": "4fcc49ed",
   "metadata": {},
   "outputs": [],
   "source": [
    "# # Dict\n",
    "#  - indexing\n",
    "#  - Ordered\n",
    "#  - Duplicate values\n",
    "#  - Mutable"
   ]
  },
  {
   "cell_type": "code",
   "execution_count": 4,
   "id": "e25eedc4",
   "metadata": {},
   "outputs": [
    {
     "name": "stdout",
     "output_type": "stream",
     "text": [
      "{'a': 'Apple', 'b': 'Ball', 'c': 'Cat'}\n",
      "<class 'dict'>\n"
     ]
    },
    {
     "data": {
      "text/plain": [
       "3"
      ]
     },
     "execution_count": 4,
     "metadata": {},
     "output_type": "execute_result"
    }
   ],
   "source": [
    "a = {\"a\":\"Apple\", \"b\":\"Ball\", \"c\":\"Cat\"}\n",
    "print(a)\n",
    "print(type(a))\n",
    "len(a)"
   ]
  },
  {
   "cell_type": "code",
   "execution_count": 6,
   "id": "01e23a2e",
   "metadata": {},
   "outputs": [
    {
     "data": {
      "text/plain": [
       "'Ball'"
      ]
     },
     "execution_count": 6,
     "metadata": {},
     "output_type": "execute_result"
    }
   ],
   "source": [
    "a = {\"a\":\"Apple\", \"b\":\"Ball\", \"c\":\"Cat\"}\n",
    "a[\"b\"]\n"
   ]
  },
  {
   "cell_type": "code",
   "execution_count": 7,
   "id": "0a699e3a",
   "metadata": {},
   "outputs": [
    {
     "data": {
      "text/plain": [
       "{'a': 'Apple', 'b': 'Ball', 'c': 'Cat', 'A': 'apple'}"
      ]
     },
     "execution_count": 7,
     "metadata": {},
     "output_type": "execute_result"
    }
   ],
   "source": [
    "a = {\"a\":\"Apple\", \"b\":\"Ball\", \"c\":\"Cat\", \"A\":\"apple\"} #key cannot be duplicated but value can be duplicated \n",
    "a"
   ]
  },
  {
   "cell_type": "code",
   "execution_count": 8,
   "id": "01507f60",
   "metadata": {},
   "outputs": [
    {
     "data": {
      "text/plain": [
       "{'a': 'Apple', 'b': 'Ball', 'c': 'Cat'}"
      ]
     },
     "execution_count": 8,
     "metadata": {},
     "output_type": "execute_result"
    }
   ],
   "source": [
    "a = {\"a\":\"Apple\", \"b\":\"Ball\", \"c\":\"Cat\", \"a\":\"Apple\"} #if the key is same then the another\n",
    "                                                        #key will automatically removed\n",
    "a\n"
   ]
  },
  {
   "cell_type": "code",
   "execution_count": 9,
   "id": "cc10c771",
   "metadata": {},
   "outputs": [
    {
     "data": {
      "text/plain": [
       "{'a': 'Apple', 'b': 'Ball', 'c': 'Cat', 'A': 'ant'}"
      ]
     },
     "execution_count": 9,
     "metadata": {},
     "output_type": "execute_result"
    }
   ],
   "source": [
    "a = {\"a\":\"Apple\", \"b\":\"Ball\", \"c\":\"Cat\"} #you can update dict with new key and value\n",
    "a[\"A\"] = \"ant\"\n",
    "a"
   ]
  },
  {
   "cell_type": "code",
   "execution_count": 10,
   "id": "ad1b4615",
   "metadata": {},
   "outputs": [
    {
     "data": {
      "text/plain": [
       "{'a': 'Apple', 'b': 'Ball', 'c': 'cat'}"
      ]
     },
     "execution_count": 10,
     "metadata": {},
     "output_type": "execute_result"
    }
   ],
   "source": [
    "# creating dictionary\n",
    "a = {}\n",
    "a[\"a\"] = \"Apple\"\n",
    "a[\"b\"] = \"Ball\"\n",
    "a[\"c\"] = \"cat\"\n",
    "a"
   ]
  },
  {
   "cell_type": "code",
   "execution_count": 1,
   "id": "556cc759",
   "metadata": {},
   "outputs": [
    {
     "name": "stdout",
     "output_type": "stream",
     "text": [
      "Enter value n = 2\n",
      "Enter name = ram\n",
      "Enter your phone = 938388747\n",
      "Enter name = sam\n",
      "Enter your phone = 8493838\n",
      "{'ram': 938388747, 'sam': 8493838}\n"
     ]
    }
   ],
   "source": [
    "a = {}\n",
    "n = int(input(\"Enter value n = \"))\n",
    "for i in range(n):\n",
    "    name = input(\"Enter name = \")\n",
    "    phone = int(input(\"Enter your phone = \"))\n",
    "    a[name] = phone\n",
    "\n",
    "print(a)"
   ]
  },
  {
   "cell_type": "code",
   "execution_count": 2,
   "id": "92637aef",
   "metadata": {},
   "outputs": [
    {
     "name": "stdout",
     "output_type": "stream",
     "text": [
      "ram\n",
      "sam\n"
     ]
    }
   ],
   "source": [
    "a = {'ram': 938388747, 'sam': 8493838}\n",
    "for i in a:\n",
    "    print(i)"
   ]
  },
  {
   "cell_type": "code",
   "execution_count": 4,
   "id": "e3ed2377",
   "metadata": {},
   "outputs": [
    {
     "name": "stdout",
     "output_type": "stream",
     "text": [
      "938388747\n",
      "8493838\n"
     ]
    }
   ],
   "source": [
    "#a.values() will only print values\n",
    "a = {'ram': 938388747, 'sam': 8493838}\n",
    "for i in a.values():\n",
    "    print(i)"
   ]
  },
  {
   "cell_type": "code",
   "execution_count": 5,
   "id": "c14734bb",
   "metadata": {},
   "outputs": [
    {
     "name": "stdout",
     "output_type": "stream",
     "text": [
      "('ram', 938388747)\n",
      "('sam', 8493838)\n"
     ]
    }
   ],
   "source": [
    "#a.items() will print key and values\n",
    "a = {'ram': 938388747, 'sam': 8493838}\n",
    "for i in a.items():\n",
    "    print(i)"
   ]
  },
  {
   "cell_type": "code",
   "execution_count": 6,
   "id": "b2b86999",
   "metadata": {},
   "outputs": [
    {
     "data": {
      "text/plain": [
       "dict_items([('ram', 938388747), ('sam', 8493838)])"
      ]
     },
     "execution_count": 6,
     "metadata": {},
     "output_type": "execute_result"
    }
   ],
   "source": [
    "a = {'ram': 938388747, 'sam': 8493838}\n",
    "a.items()"
   ]
  },
  {
   "cell_type": "code",
   "execution_count": 7,
   "id": "8f98b44a",
   "metadata": {},
   "outputs": [
    {
     "data": {
      "text/plain": [
       "{'ram': 938388747, 'sam': 8493838}"
      ]
     },
     "execution_count": 7,
     "metadata": {},
     "output_type": "execute_result"
    }
   ],
   "source": [
    "#convert tuple inside list to dictionary\n",
    "a = [('ram', 938388747), ('sam', 8493838)]\n",
    "dict(a)"
   ]
  },
  {
   "cell_type": "code",
   "execution_count": 8,
   "id": "1bacad4a",
   "metadata": {},
   "outputs": [
    {
     "data": {
      "text/plain": [
       "['A', 'p', 'p', 'l', 'e']"
      ]
     },
     "execution_count": 8,
     "metadata": {},
     "output_type": "execute_result"
    }
   ],
   "source": [
    "a = list(\"Apple\")\n",
    "a"
   ]
  },
  {
   "cell_type": "code",
   "execution_count": 9,
   "id": "c0781f44",
   "metadata": {},
   "outputs": [
    {
     "data": {
      "text/plain": [
       "('A', 'p', 'p', 'l', 'e')"
      ]
     },
     "execution_count": 9,
     "metadata": {},
     "output_type": "execute_result"
    }
   ],
   "source": [
    "a = tuple(\"Apple\")\n",
    "a"
   ]
  },
  {
   "cell_type": "code",
   "execution_count": 10,
   "id": "c77bdc88",
   "metadata": {},
   "outputs": [],
   "source": [
    "#del\n",
    "#pop"
   ]
  },
  {
   "cell_type": "code",
   "execution_count": 12,
   "id": "05030f36",
   "metadata": {},
   "outputs": [
    {
     "data": {
      "text/plain": [
       "{'sam': 8493838}"
      ]
     },
     "execution_count": 12,
     "metadata": {},
     "output_type": "execute_result"
    }
   ],
   "source": [
    "#you can only del() one key at a time\n",
    "a = {'ram': 938388747, 'sam': 8493838}\n",
    "del a[\"ram\"]\n",
    "a"
   ]
  },
  {
   "cell_type": "code",
   "execution_count": 13,
   "id": "292286c6",
   "metadata": {},
   "outputs": [
    {
     "name": "stdout",
     "output_type": "stream",
     "text": [
      "{'sam': 8493838}\n",
      "938388747\n"
     ]
    }
   ],
   "source": [
    "#same as befor pop() will move the value to \"b\"\n",
    "a = {'ram': 938388747, 'sam': 8493838}\n",
    "b = a.pop(\"ram\")\n",
    "print(a)\n",
    "print(b)"
   ]
  },
  {
   "cell_type": "code",
   "execution_count": 17,
   "id": "f4a9576e",
   "metadata": {},
   "outputs": [
    {
     "name": "stdout",
     "output_type": "stream",
     "text": [
      "{'ram': 938388747, 'sam': 8493838, 'hari': 983874745}\n"
     ]
    }
   ],
   "source": [
    "#update()\n",
    "a = {'ram': 938388747, 'sam': 8493838}\n",
    "b = {\"hari\":983874745}\n",
    "a.update(b)\n",
    "print(a)"
   ]
  },
  {
   "cell_type": "code",
   "execution_count": 18,
   "id": "a00a0a22",
   "metadata": {},
   "outputs": [
    {
     "name": "stdout",
     "output_type": "stream",
     "text": [
      "ram\n",
      "sam\n",
      "hari\n"
     ]
    }
   ],
   "source": [
    "a = {'ram': 938388747, 'sam': 8493838, 'hari': 983874745}\n",
    "for i in a:\n",
    "    print(i)"
   ]
  },
  {
   "cell_type": "code",
   "execution_count": 20,
   "id": "1e21b49c",
   "metadata": {},
   "outputs": [
    {
     "name": "stdout",
     "output_type": "stream",
     "text": [
      "938388747\n"
     ]
    }
   ],
   "source": [
    "#To search value of a given key\n",
    "a = {'ram': 938388747, 'sam': 8493838, 'hari': 983874745}\n",
    "for i in a:\n",
    "    if \"ram\" == i:\n",
    "        print(a[i])"
   ]
  },
  {
   "cell_type": "code",
   "execution_count": 22,
   "id": "eb972bf4",
   "metadata": {},
   "outputs": [
    {
     "name": "stdout",
     "output_type": "stream",
     "text": [
      "('ram', 938388747)\n",
      "('sam', 8493838)\n",
      "('hari', 983874745)\n"
     ]
    }
   ],
   "source": [
    "a = {'ram': 938388747, 'sam': 8493838, 'hari': 983874745}\n",
    "for i in a.items():\n",
    "    print(i)"
   ]
  },
  {
   "cell_type": "code",
   "execution_count": 25,
   "id": "50a20a9f",
   "metadata": {},
   "outputs": [
    {
     "name": "stdout",
     "output_type": "stream",
     "text": [
      "('ram', 938388747)\n"
     ]
    }
   ],
   "source": [
    "a = {'ram': 938388747, 'sam': 8493838, 'hari': 983874745}\n",
    "for i in a.items():\n",
    "    if i[1] == 938388747:\n",
    "        print(i)"
   ]
  },
  {
   "cell_type": "code",
   "execution_count": 26,
   "id": "5d433266",
   "metadata": {},
   "outputs": [
    {
     "data": {
      "text/plain": [
       "[938388747, 8493838]"
      ]
     },
     "execution_count": 26,
     "metadata": {},
     "output_type": "execute_result"
    }
   ],
   "source": [
    "#list inside dictionary\n",
    "a = {'ram': [938388747,8493838], 'sam': [983874745,9837346746]}\n",
    "a[\"ram\"]"
   ]
  },
  {
   "cell_type": "code",
   "execution_count": 27,
   "id": "58312b0f",
   "metadata": {},
   "outputs": [
    {
     "name": "stdout",
     "output_type": "stream",
     "text": [
      "('ram', [938388747, 8493838])\n",
      "('sam', [983874745, 9837346746])\n"
     ]
    }
   ],
   "source": [
    "#To read dict() into list\n",
    "a = {'ram': [938388747,8493838], 'sam': [983874745,9837346746]}\n",
    "for i in a.items():\n",
    "    print(i)"
   ]
  },
  {
   "cell_type": "code",
   "execution_count": 28,
   "id": "20ddc195",
   "metadata": {},
   "outputs": [
    {
     "data": {
      "text/plain": [
       "938388747"
      ]
     },
     "execution_count": 28,
     "metadata": {},
     "output_type": "execute_result"
    }
   ],
   "source": [
    "#to find a value for given key\n",
    "a = {'ram': [938388747,8493838], 'sam': [983874745,9837346746]}\n",
    "a[\"ram\"][0]"
   ]
  },
  {
   "cell_type": "code",
   "execution_count": 29,
   "id": "219a4bdd",
   "metadata": {},
   "outputs": [
    {
     "data": {
      "text/plain": [
       "{'ram': [9485478547, 8493838], 'sam': [983874745, 9837346746]}"
      ]
     },
     "execution_count": 29,
     "metadata": {},
     "output_type": "execute_result"
    }
   ],
   "source": [
    "#to mutate the given value of a key\n",
    "a = {'ram': [938388747,8493838], 'sam': [983874745,9837346746]}\n",
    "a[\"ram\"][0] = 9485478547\n",
    "a"
   ]
  },
  {
   "cell_type": "code",
   "execution_count": 30,
   "id": "2102af6e",
   "metadata": {},
   "outputs": [
    {
     "data": {
      "text/plain": [
       "{'ram': [938388747, 8493838],\n",
       " 'sam': [983874745, 9837346746],\n",
       " 'hari': (938473743, 9438747347)}"
      ]
     },
     "execution_count": 30,
     "metadata": {},
     "output_type": "execute_result"
    }
   ],
   "source": [
    "a = {'ram': [938388747,8493838], 'sam': [983874745,9837346746]}\n",
    "a[\"hari\"] = 938473743,9438747347\n",
    "a"
   ]
  },
  {
   "cell_type": "code",
   "execution_count": 32,
   "id": "e5febf23",
   "metadata": {},
   "outputs": [
    {
     "data": {
      "text/plain": [
       "{'sam': [983874745, 9837346746]}"
      ]
     },
     "execution_count": 32,
     "metadata": {},
     "output_type": "execute_result"
    }
   ],
   "source": [
    "a = {'ram': [938388747,8493838], 'sam': [983874745,9837346746]}\n",
    "del a[\"ram\"]\n",
    "a"
   ]
  },
  {
   "cell_type": "code",
   "execution_count": 33,
   "id": "d783eb80",
   "metadata": {},
   "outputs": [
    {
     "name": "stdout",
     "output_type": "stream",
     "text": [
      "Enter n = 2\n",
      "Enter name = ram\n",
      "Enter ntc no.  = 98484743\n",
      "Enter ncell no. = 9348438\n",
      "Enter name = sam\n",
      "Enter ntc no.  = 39438348\n",
      "Enter ncell no. = 9348958\n",
      "{'ram': [98484743, 9348438], 'sam': [39438348, 9348958]}\n"
     ]
    }
   ],
   "source": [
    "a = {}\n",
    "n = int(input(\"Enter n = \"))\n",
    "for i in range(n):\n",
    "    name = input(\"Enter name = \")\n",
    "    ntc = int(input(\"Enter ntc no.  = \"))\n",
    "    ncell = int(input(\"Enter ncell no. = \"))\n",
    "    a[name] = [ntc, ncell]\n",
    "print(a)"
   ]
  },
  {
   "cell_type": "code",
   "execution_count": 34,
   "id": "deb93723",
   "metadata": {},
   "outputs": [],
   "source": [
    "# tuple inside list, you cannot change any values inside tuple\n",
    "a = {\"Ram\":(93848738,93894873), \"Sam\":(93848384, 9384737847)}"
   ]
  },
  {
   "cell_type": "code",
   "execution_count": 35,
   "id": "ec09e935",
   "metadata": {},
   "outputs": [
    {
     "ename": "IndentationError",
     "evalue": "unexpected indent (<ipython-input-35-6d2d6c8caf4d>, line 3)",
     "output_type": "error",
     "traceback": [
      "\u001b[1;36m  File \u001b[1;32m\"<ipython-input-35-6d2d6c8caf4d>\"\u001b[1;36m, line \u001b[1;32m3\u001b[0m\n\u001b[1;33m    {\"Sam\":{\"NTC\":938943838, \"NCELL\":938487378}},\u001b[0m\n\u001b[1;37m    ^\u001b[0m\n\u001b[1;31mIndentationError\u001b[0m\u001b[1;31m:\u001b[0m unexpected indent\n"
     ]
    }
   ],
   "source": [
    "#dict inside dict\n",
    "a = {\"Ram\":{\"NTC\":938943838, \"NCELL\":938487378}},\n",
    "    {\"Sam\":{\"NTC\":938943838, \"NCELL\":938487378}},\n",
    "    {\"Hari\":{\"NTC\":938943838, \"NCELL\":938487378}}\n",
    "    "
   ]
  },
  {
   "cell_type": "code",
   "execution_count": 36,
   "id": "6f7220dc",
   "metadata": {},
   "outputs": [
    {
     "name": "stdout",
     "output_type": "stream",
     "text": [
      "Enter n = 2\n",
      "Enter name = ram\n",
      "Enter ntc no.  = 9034859384\n",
      "Enter ncell no. = 309450934\n",
      "Enter name = sam\n",
      "Enter ntc no.  = 39487534985\n",
      "Enter ncell no. = 39084593458\n",
      "{'ram': {'NTC': 9034859384, 'NCELL': 309450934}, 'sam': {'NTC': 39487534985, 'NCELL': 39084593458}}\n"
     ]
    }
   ],
   "source": [
    "a = {}\n",
    "n = int(input(\"Enter n = \"))\n",
    "for i in range(n):\n",
    "    name = input(\"Enter name = \")\n",
    "    ntc = int(input(\"Enter ntc no.  = \"))\n",
    "    ncell = int(input(\"Enter ncell no. = \"))\n",
    "    a[name] = {\"NTC\":ntc,\"NCELL\":ncell}\n",
    "print(a)"
   ]
  },
  {
   "cell_type": "code",
   "execution_count": 38,
   "id": "cd0dc938",
   "metadata": {},
   "outputs": [
    {
     "name": "stdout",
     "output_type": "stream",
     "text": [
      "('ram', {'NTC': 9034859384, 'NCELL': 309450934})\n",
      "('sam', {'NTC': 39487534985, 'NCELL': 39084593458})\n"
     ]
    }
   ],
   "source": [
    "a = {'ram': {'NTC': 9034859384, 'NCELL': 309450934}, 'sam': {'NTC': 39487534985, 'NCELL': 39084593458}}\n",
    "for i in a.items():\n",
    "    print(i)\n"
   ]
  },
  {
   "cell_type": "code",
   "execution_count": 6,
   "id": "c448cb5c",
   "metadata": {},
   "outputs": [
    {
     "name": "stdout",
     "output_type": "stream",
     "text": [
      "('ram', {'NTC': 9034859384, 'NCELL': 309450934})\n",
      "('sam', {'NTC': 39487534985, 'NCELL': 39084593458})\n"
     ]
    }
   ],
   "source": [
    "a = {'ram': {'NTC': 9034859384, 'NCELL': 309450934}, 'sam': {'NTC': 39487534985, 'NCELL': 39084593458}}\n",
    "for i in a.items():\n",
    "    print(i)\n"
   ]
  },
  {
   "cell_type": "code",
   "execution_count": 3,
   "id": "034957f8",
   "metadata": {},
   "outputs": [
    {
     "data": {
      "text/plain": [
       "309450934"
      ]
     },
     "execution_count": 3,
     "metadata": {},
     "output_type": "execute_result"
    }
   ],
   "source": [
    "a = {'ram': {'NTC': 9034859384, 'NCELL': 309450934}, 'sam': {'NTC': 39487534985, 'NCELL': 39084593458}}\n",
    "a[\"ram\"] ['NCELL']\n"
   ]
  },
  {
   "cell_type": "code",
   "execution_count": null,
   "id": "1b1a5a04",
   "metadata": {},
   "outputs": [],
   "source": []
  }
 ],
 "metadata": {
  "kernelspec": {
   "display_name": "Python 3",
   "language": "python",
   "name": "python3"
  },
  "language_info": {
   "codemirror_mode": {
    "name": "ipython",
    "version": 3
   },
   "file_extension": ".py",
   "mimetype": "text/x-python",
   "name": "python",
   "nbconvert_exporter": "python",
   "pygments_lexer": "ipython3",
   "version": "3.8.8"
  }
 },
 "nbformat": 4,
 "nbformat_minor": 5
}
